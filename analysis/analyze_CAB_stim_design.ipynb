{
 "cells": [
  {
   "attachments": {},
   "cell_type": "markdown",
   "id": "2763cbb4",
   "metadata": {},
   "source": [
    "# Analysis notebook for CAB (with a focus on stimulus design/piloting)"
   ]
  },
  {
   "cell_type": "code",
   "execution_count": null,
   "id": "8b4bb004",
   "metadata": {},
   "outputs": [],
   "source": [
    "import numpy as np\n",
    "import matplotlib.pyplot as plt\n",
    "import pandas as pd\n",
    "from IPython.display import clear_output\n",
    "import pymongo as pm\n",
    "import os, sys"
   ]
  },
  {
   "cell_type": "code",
   "execution_count": null,
   "id": "708b66ae",
   "metadata": {},
   "outputs": [],
   "source": [
    "# display all columns\n",
    "pd.set_option('display.max_columns', None)"
   ]
  },
  {
   "attachments": {},
   "cell_type": "markdown",
   "id": "a285cb1d",
   "metadata": {},
   "source": [
    "## Create folders to save out results"
   ]
  },
  {
   "cell_type": "code",
   "execution_count": null,
   "id": "8de3849c",
   "metadata": {},
   "outputs": [],
   "source": [
    "## create relevant project subdirs\n",
    "proj_dir = os.path.abspath('..')\n",
    "analysis_dir =  os.path.join(proj_dir,'analysis')\n",
    "results_dir = os.path.join(proj_dir,'results')\n",
    "csv_dir = os.path.join(results_dir,'csv')\n",
    "plots_dir = os.path.join(results_dir,'plots')\n",
    "\n",
    "def makedir(path):\n",
    "    if not os.path.exists(path):\n",
    "        os.makedirs(path)\n",
    "    return"
   ]
  },
  {
   "cell_type": "code",
   "execution_count": null,
   "id": "de8cf699",
   "metadata": {},
   "outputs": [],
   "source": [
    "print(\"The project directory is: {}\".format(proj_dir))"
   ]
  },
  {
   "cell_type": "code",
   "execution_count": null,
   "id": "7c51371e",
   "metadata": {},
   "outputs": [],
   "source": [
    "makedir(results_dir)\n",
    "makedir(csv_dir)\n",
    "makedir(plots_dir)"
   ]
  },
  {
   "cell_type": "code",
   "execution_count": null,
   "id": "23ba8919",
   "metadata": {},
   "outputs": [],
   "source": [
    "# we need to get to the repo level to import cabutils\n",
    "sys.path.append(proj_dir)\n",
    "sys.path.append(os.path.join(proj_dir,'stimuli'))\n",
    "import cabutils\n",
    "from stimuli.experiment_config import *"
   ]
  },
  {
   "attachments": {},
   "cell_type": "markdown",
   "id": "7c38aa1f",
   "metadata": {},
   "source": [
    "## Experiment parameters"
   ]
  },
  {
   "cell_type": "code",
   "execution_count": null,
   "id": "0e1a3d0f",
   "metadata": {},
   "outputs": [],
   "source": [
    "PROJECT = \"Physion_V1_5\" \n",
    "DATASET = \"Dominoes\"\n",
    "TASK = \"OCP\"\n",
    "ITERATION = \"pilot_1\"\n",
    "EXPERIMENT = DATASET + \"_\" + TASK"
   ]
  },
  {
   "attachments": {},
   "cell_type": "markdown",
   "id": "dafa6356",
   "metadata": {},
   "source": [
    "## Load data from database"
   ]
  },
  {
   "cell_type": "code",
   "execution_count": null,
   "id": "adced97b",
   "metadata": {},
   "outputs": [],
   "source": [
    "!ssh -fNL 27017:127.0.0.1:27017 fbinder@cogtoolslab.org"
   ]
  },
  {
   "cell_type": "code",
   "execution_count": null,
   "id": "e99cbcf2",
   "metadata": {},
   "outputs": [],
   "source": [
    "# this will create the database connection\n",
    "from analysis.generate_dataframes import * "
   ]
  },
  {
   "cell_type": "code",
   "execution_count": null,
   "id": "3acc2e37",
   "metadata": {},
   "outputs": [],
   "source": [
    "df, df_familiarization = pull_dataframes_from_mongo(PROJECT, DATASET, TASK, ITERATION, anonymizeIDs=False)"
   ]
  },
  {
   "attachments": {},
   "cell_type": "markdown",
   "id": "81767db7",
   "metadata": {},
   "source": [
    "# Analysis"
   ]
  },
  {
   "attachments": {},
   "cell_type": "markdown",
   "id": "5d12d256",
   "metadata": {},
   "source": [
    "## Overall correctness"
   ]
  },
  {
   "cell_type": "code",
   "execution_count": null,
   "id": "2e07ccfd",
   "metadata": {},
   "outputs": [],
   "source": [
    "# get percentage of correct trials\n",
    "df['correct'].value_counts() / len(df) * 100"
   ]
  },
  {
   "attachments": {},
   "cell_type": "markdown",
   "id": "66e53498",
   "metadata": {},
   "source": [
    "### Overall correctness by stimulus"
   ]
  },
  {
   "cell_type": "code",
   "execution_count": null,
   "id": "21fc84fe",
   "metadata": {},
   "outputs": [],
   "source": [
    "df.groupby('stim_ID')['correct'].mean()"
   ]
  },
  {
   "cell_type": "code",
   "execution_count": null,
   "id": "baa922cd",
   "metadata": {},
   "outputs": [],
   "source": [
    "# histogram of avg correctness per stim\n",
    "df.groupby('stim_ID')['correct'].mean().hist()\n",
    "plt.title('Histogram of average correctness per stimulus')\n",
    "plt.xlabel('n')\n",
    "plt.ylabel('Average correctness')\n",
    "plt.xlim(0,1)\n",
    "plt.show()"
   ]
  },
  {
   "attachments": {},
   "cell_type": "markdown",
   "id": "8ba63b27",
   "metadata": {},
   "source": [
    "### Overall correctness by participant"
   ]
  },
  {
   "cell_type": "code",
   "execution_count": null,
   "id": "7e3a41d1",
   "metadata": {},
   "outputs": [],
   "source": [
    "# histogram of avg correctness per gameID\n",
    "df.groupby('gameID')['correct'].mean().hist()\n",
    "plt.title('Histogram of average correctness per participant')\n",
    "plt.xlabel('n')\n",
    "plt.ylabel('Average correctness')\n",
    "plt.xlim(0,1)\n",
    "plt.show()"
   ]
  },
  {
   "attachments": {},
   "cell_type": "markdown",
   "id": "e74da483",
   "metadata": {},
   "source": [
    "## Reliability"
   ]
  },
  {
   "cell_type": "code",
   "execution_count": null,
   "id": "46ce096d",
   "metadata": {},
   "outputs": [],
   "source": [
    "# import correlation metrics\n",
    "from scipy.stats import pearsonr, spearmanr"
   ]
  },
  {
   "cell_type": "code",
   "execution_count": null,
   "id": "e18901b9",
   "metadata": {},
   "outputs": [],
   "source": [
    "ITERATIONS = 10 # how many iterations to do **per n**\n",
    "METRIC = lambda x,y: pearsonr(x,y)[0] # what metric to use for correlation"
   ]
  },
  {
   "attachments": {},
   "cell_type": "markdown",
   "id": "50f69dea",
   "metadata": {},
   "source": [
    "### Split half correlation over distinct halfs\n",
    "This can only go up to n/2, where n is the number of trials.  "
   ]
  },
  {
   "cell_type": "code",
   "execution_count": null,
   "id": "df4f51a9",
   "metadata": {},
   "outputs": [],
   "source": [
    "correlations = {}\n",
    "for n in tqdm(range(1,df['gameID'].nunique()//2)):\n",
    "    correlations[n] = []\n",
    "    for i in range(ITERATIONS):\n",
    "        # sample n participants into two exclusive groups\n",
    "        sample = df['gameID'].sample(n=n*2,replace=False)\n",
    "        group1 = sample.iloc[:n]\n",
    "        group2 = sample.iloc[n:]\n",
    "        # get the correlation over average correctness per stimulus\n",
    "        vec1 = df[df['gameID'].isin(group1)].groupby('stim_ID')['correct'].mean()\n",
    "        vec2 = df[df['gameID'].isin(group2)].groupby('stim_ID')['correct'].mean()\n",
    "        # possibly the groups contain different stimuli—drop the ones that don't overlap\n",
    "        singular_stims = set(vec1.index).symmetric_difference(set(vec2.index))\n",
    "        for sing in singular_stims:\n",
    "            try: \n",
    "                vec1 = vec1.drop(sing)\n",
    "            except: pass\n",
    "            try:\n",
    "                vec2 = vec2.drop(sing)\n",
    "            except: pass\n",
    "        assert np.all(list(vec1.index) == list(vec2.index))\n",
    "        correlations[n].append(METRIC(vec1.values,vec2.values))"
   ]
  },
  {
   "cell_type": "code",
   "execution_count": null,
   "id": "4ea24d39",
   "metadata": {},
   "outputs": [],
   "source": [
    "# plot\n",
    "plt.figure(figsize=(10,5))\n",
    "plt.plot(list(correlations.keys()),[np.mean(correlations[n]) for n in correlations.keys()],label='mean')\n",
    "plt.fill_between(list(correlations.keys()),[np.percentile(correlations[n],2.5) for n in correlations.keys()],\n",
    "                    [np.percentile(correlations[n],97.5) for n in correlations.keys()],alpha=0.5,label='95% CI')\n",
    "plt.title('Split half correlation between exclusive groups of participants')\n",
    "plt.xlabel('Correlation coefficient')\n",
    "plt.ylim(0,1)\n",
    "plt.ylabel('n Participants')"
   ]
  },
  {
   "attachments": {},
   "cell_type": "markdown",
   "id": "7b339926",
   "metadata": {},
   "source": [
    "### Bootstrapped split half correlation\n",
    "Bootstrapping over participants. "
   ]
  },
  {
   "cell_type": "code",
   "execution_count": null,
   "id": "3b651bc6",
   "metadata": {},
   "outputs": [],
   "source": [
    "correlations = {}\n",
    "for n in tqdm(range(1,df['gameID'].nunique())):\n",
    "    correlations[n] = []\n",
    "    for i in range(ITERATIONS):\n",
    "        # sample n participants into two exclusive groups\n",
    "        group1 = df['gameID'].sample(n=n,replace=False)\n",
    "        group2 = df['gameID'].sample(n=n,replace=False)\n",
    "        # get the correlation over average correctness per stimulus\n",
    "        vec1 = df[df['gameID'].isin(group1)].groupby('stim_ID')['correct'].mean()\n",
    "        vec2 = df[df['gameID'].isin(group2)].groupby('stim_ID')['correct'].mean()\n",
    "        # possibly the groups contain different stimuli—drop the ones that don't overlap\n",
    "        singular_stims = set(vec1.index).symmetric_difference(set(vec2.index))\n",
    "        for sing in singular_stims:\n",
    "            try: \n",
    "                vec1 = vec1.drop(sing)\n",
    "            except: pass\n",
    "            try:\n",
    "                vec2 = vec2.drop(sing)\n",
    "            except: pass\n",
    "        assert np.all(list(vec1.index) == list(vec2.index))\n",
    "        correlations[n].append(METRIC(vec1.values,vec2.values))"
   ]
  },
  {
   "cell_type": "code",
   "execution_count": null,
   "id": "4b9419b9",
   "metadata": {},
   "outputs": [],
   "source": [
    "# plot\n",
    "plt.figure(figsize=(10,5))\n",
    "plt.plot(list(correlations.keys()),[np.mean(correlations[n]) for n in correlations.keys()],label='mean')\n",
    "plt.fill_between(list(correlations.keys()),[np.percentile(correlations[n],2.5) for n in correlations.keys()],\n",
    "                    [np.percentile(correlations[n],97.5) for n in correlations.keys()],alpha=0.5,label='95% CI')\n",
    "plt.title('Split half correlation between groups of participants with overlap')\n",
    "plt.xlabel('Correlation coefficient')\n",
    "plt.ylim(0,1)\n",
    "plt.ylabel('n Participants')"
   ]
  },
  {
   "attachments": {},
   "cell_type": "markdown",
   "id": "24057d93",
   "metadata": {},
   "source": [
    "## Stimuli"
   ]
  },
  {
   "attachments": {},
   "cell_type": "markdown",
   "id": "22dcb458",
   "metadata": {},
   "source": [
    "Let's have an overview over all the stimuli"
   ]
  },
  {
   "cell_type": "code",
   "execution_count": null,
   "id": "db177ef6",
   "metadata": {},
   "outputs": [],
   "source": [
    "df.groupby('stim_ID').agg({'correct':['mean','std'], 'target_hit_zone_label':'first'}).style.background_gradient(cmap='Oranges', vmin=0, vmax=1)"
   ]
  },
  {
   "attachments": {},
   "cell_type": "markdown",
   "id": "e0253856",
   "metadata": {},
   "source": [
    "### The most extreme stimuli"
   ]
  },
  {
   "cell_type": "code",
   "execution_count": null,
   "id": "783f9a96",
   "metadata": {},
   "outputs": [],
   "source": [
    "DISPLAY_N = 5"
   ]
  },
  {
   "cell_type": "code",
   "execution_count": null,
   "id": "176838df",
   "metadata": {},
   "outputs": [],
   "source": [
    "from IPython.display import HTML\n",
    "\n",
    "def display_rows(_df):\n",
    "    \"\"\"Expects a dataframe with the colums 'stimulus_name', 'response', 'stim_url'. \n",
    "    Needs to be wrapped in HTML() to display in a notebook\"\"\"\n",
    "    html = \"\"\n",
    "    for i,row in _df.iterrows():\n",
    "        div = \"\"\"\n",
    "<div>\n",
    "<b>Stim name</b>: {}<br>\n",
    "<b>Predicted positive</b>: {}<br>\n",
    "<b>True Outcome</b>:       {}<br>\n",
    "<video width=\"40%\" controls>\n",
    "<source src=\"{}\">\n",
    "</video></div>\"\"\".format(row['stim_ID'],row['responseBool'],row['target_hit_zone_label'],row['mp4s_url'])\n",
    "        html+=div\n",
    "    return html"
   ]
  },
  {
   "cell_type": "code",
   "execution_count": null,
   "id": "709c8160",
   "metadata": {},
   "outputs": [],
   "source": [
    "# get the DISPLAY_N rows with the highest correctness\n",
    "most_correct = df.groupby('stim_ID').agg({'correct':'mean', 'responseBool':'mean', 'mp4s_url':'first', 'target_hit_zone_label':'first'}).sort_values('correct',ascending=False).head(DISPLAY_N).reset_index()\n",
    "least_correct = df.groupby('stim_ID').agg({'correct':'mean', 'responseBool':'mean', 'mp4s_url':'first', 'target_hit_zone_label':'first'}).sort_values('correct',ascending=True).head(DISPLAY_N).reset_index()"
   ]
  },
  {
   "attachments": {},
   "cell_type": "markdown",
   "id": "a42032d3",
   "metadata": {},
   "source": [
    "The **most correct** stimuli"
   ]
  },
  {
   "cell_type": "code",
   "execution_count": null,
   "id": "78142f32",
   "metadata": {},
   "outputs": [],
   "source": [
    "HTML(display_rows(most_correct))"
   ]
  },
  {
   "attachments": {},
   "cell_type": "markdown",
   "id": "3ad8d9aa",
   "metadata": {},
   "source": [
    "The **least correct** stimuli"
   ]
  },
  {
   "cell_type": "code",
   "execution_count": null,
   "id": "c92a673a",
   "metadata": {},
   "outputs": [],
   "source": [
    "HTML(display_rows(least_correct))"
   ]
  }
 ],
 "metadata": {
  "@webio": {
   "lastCommId": null,
   "lastKernelId": null
  },
  "kernelspec": {
   "display_name": "curiophysion",
   "language": "python",
   "name": "python3"
  },
  "language_info": {
   "codemirror_mode": {
    "name": "ipython",
    "version": 3
   },
   "file_extension": ".py",
   "mimetype": "text/x-python",
   "name": "python",
   "nbconvert_exporter": "python",
   "pygments_lexer": "ipython3",
   "version": "3.9.7"
  },
  "vscode": {
   "interpreter": {
    "hash": "7d490802aa9a2e5a123340609c5ae4c60c09c9e951ad0b74d9d85b02a78902d9"
   }
  }
 },
 "nbformat": 4,
 "nbformat_minor": 5
}
