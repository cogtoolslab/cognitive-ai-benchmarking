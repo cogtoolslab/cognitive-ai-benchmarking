{
 "cells": [
  {
   "cell_type": "markdown",
   "source": [
    "Run the following cells in the provided order to see the statistics for the Project / Experiment / Iteration combination\n",
    "\n",
    "Before running the code, make sure you have the following variables defined in .cabconfig file as per your MongoDB instance:\n",
    "- password\n",
    "- username\n",
    "- host\n",
    "- port\n",
    "\n",
    "Then, in the second sell, define your project_name, experiment_name and iteration_name"
   ],
   "metadata": {
    "collapsed": false
   }
  },
  {
   "cell_type": "code",
   "execution_count": null,
   "metadata": {
    "collapsed": true
   },
   "outputs": [],
   "source": [
    "# Import libraries and connect to the database\n",
    "\n",
    "import os, sys\n",
    "sys.path.append(os.path.dirname(os.path.abspath('..')))\n",
    "import cabutils\n",
    "db_connection = cabutils.get_db_connection()\n",
    "print(\"Connected to database\" if db_connection else \"Connection failed\")"
   ]
  },
  {
   "cell_type": "code",
   "execution_count": null,
   "outputs": [],
   "source": [
    "# Define your project, experiment and iteration names below before running this cell\n",
    "\n",
    "project_name = \"OCP\"\n",
    "experiment_name = \"physion\"\n",
    "iteration_name = \"1\""
   ],
   "metadata": {
    "collapsed": false
   }
  },
  {
   "cell_type": "code",
   "execution_count": null,
   "outputs": [],
   "source": [
    "# This cell processes the information from the database and calculates general statistics for the given project, experiment and iteration\n",
    "\n",
    "sequence_collection = db_connection[f\"{project_name}_input\"][experiment_name]\n",
    "results_collection = db_connection[f\"{project_name}_output\"][experiment_name]\n",
    "sequences = sequence_collection.find({\"iteration\": iteration_name}, {\"_id\": 1, \"games\": 1, \"familiarization_stims\": 1, \"stims\": 1})\n",
    "games_played_stats = dict()\n",
    "games_completed_stats = dict()\n",
    "for sequence in sequences:\n",
    "    # Calculate number of played games\n",
    "    games_played = len(sequence.get(\"games\", []))\n",
    "    games_played_stats.update({games_played: 1 + games_played_stats.get(games_played, 0)})\n",
    "\n",
    "    # Calculate number of completed games\n",
    "    games_completed = 0\n",
    "    game_stimuli = list(filter(lambda x: x is not None, [stim.get(\"stimulus_name\") for stim in sequence.get('stims', {}).values()]))\n",
    "\n",
    "    for game_id in sequence.get(\"games\", []):\n",
    "        stimuli_played = filter(lambda x: x is not None, [game.get(\"stimulus_name\") for game in results_collection.find({\"gameID\": game_id}, {\"stimulus_name\": 1})])\n",
    "        game_stims = game_stimuli.copy()\n",
    "        for stim in stimuli_played:\n",
    "            if stim in game_stims:\n",
    "                game_stims.remove(stim)\n",
    "        games_completed += (1 if len(game_stims) == 0 else 0)\n",
    "    games_completed_stats.update({games_completed: 1 + games_completed_stats.get(games_completed, 0)})\n",
    "\n",
    "games_played_stats_list = [[\"Number of games played\", \"Qty of session templates\"]]\n",
    "for key, value in sorted(games_played_stats.items(), key=lambda x: x[0]):\n",
    "    games_played_stats_list.append([key, value])\n",
    "\n",
    "games_completed_stats_list = [[\"Number of games completed\", \"Qty of session templates\"]]\n",
    "for key, value in sorted(games_completed_stats.items(), key=lambda x: x[0]):\n",
    "    games_completed_stats_list.append([key, value])"
   ],
   "metadata": {
    "collapsed": false
   }
  },
  {
   "cell_type": "code",
   "execution_count": null,
   "outputs": [],
   "source": [
    "# This cell renders the statistics in a table and a chart format\n",
    "\n",
    "from IPython.display import HTML, display\n",
    "import pandas as pd\n",
    "import plotly.express as px\n",
    "\n",
    "def render_table(rows):\n",
    "    return '<table><tr>{}</tr></table>'.format('</tr><tr>'.join('<td>{}</td>'.format('</td><td>'.join(str(_) for _ in row)) for row in rows))\n",
    "\n",
    "def render_chart(rows):\n",
    "    df = pd.DataFrame(rows)\n",
    "    fig = px.bar(df, x=0, y=1)\n",
    "    fig.update_layout(height=600, title_text='Number of session templates by games played')\n",
    "    fig.show()\n",
    "\n",
    "display(HTML(f\"<h2>Project {project_name} | Experiment {experiment_name} | Iteration {iteration_name}</h2><h3>Statistics</h3>\"))\n",
    "display(HTML(render_table(games_played_stats_list)))\n",
    "render_chart(games_played_stats_list[1:])\n",
    "\n",
    "display(HTML(render_table(games_completed_stats_list)))\n",
    "render_chart(games_completed_stats_list[1:])"
   ],
   "metadata": {
    "collapsed": false
   }
  },
  {
   "cell_type": "code",
   "execution_count": null,
   "outputs": [],
   "source": [],
   "metadata": {
    "collapsed": false
   }
  }
 ],
 "metadata": {
  "kernelspec": {
   "display_name": "Python 3",
   "language": "python",
   "name": "python3"
  },
  "language_info": {
   "codemirror_mode": {
    "name": "ipython",
    "version": 2
   },
   "file_extension": ".py",
   "mimetype": "text/x-python",
   "name": "python",
   "nbconvert_exporter": "python",
   "pygments_lexer": "ipython2",
   "version": "2.7.6"
  }
 },
 "nbformat": 4,
 "nbformat_minor": 0
}
