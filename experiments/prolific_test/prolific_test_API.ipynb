{
 "cells": [
  {
   "cell_type": "markdown",
   "id": "81bd05b1",
   "metadata": {},
   "source": [
    "# This notebook demonstrates a few features of the new Prolific API\n",
    "Documentation: https://docs.prolific.co/docs/api-docs/public/"
   ]
  },
  {
   "cell_type": "code",
   "execution_count": null,
   "id": "7ba4caee",
   "metadata": {
    "ExecuteTime": {
     "end_time": "2022-04-22T18:26:37.315798Z",
     "start_time": "2022-04-22T18:26:36.556735Z"
    }
   },
   "outputs": [],
   "source": [
    "# import libraries\n",
    "import json\n",
    "import urllib\n",
    "import requests\n",
    "import pymongo as pm\n",
    "import pandas as pd"
   ]
  },
  {
   "cell_type": "code",
   "execution_count": null,
   "id": "be126f63",
   "metadata": {
    "ExecuteTime": {
     "end_time": "2022-04-22T18:26:58.080919Z",
     "start_time": "2022-04-22T18:26:58.061889Z"
    }
   },
   "outputs": [],
   "source": [
    "class SessionWithUrlBase(requests.Session):\n",
    "    def __init__(self, url_base=None, *args, **kwargs):\n",
    "        super(SessionWithUrlBase, self).__init__(*args, **kwargs)\n",
    "        self.url_base = url_base\n",
    "\n",
    "    def request(self, method, url, **kwargs):\n",
    "        modified_url = urllib.parse.urljoin(self.url_base, url)\n",
    "\n",
    "        return super(SessionWithUrlBase, self).request(method, modified_url, **kwargs)"
   ]
  },
  {
   "cell_type": "code",
   "execution_count": null,
   "id": "98436653",
   "metadata": {
    "ExecuteTime": {
     "end_time": "2022-04-22T18:26:58.284923Z",
     "start_time": "2022-04-22T18:26:58.266925Z"
    }
   },
   "outputs": [],
   "source": [
    "# get prolific credentials\n",
    "tok = pd.read_csv('prolificToken.txt', header = None).values[0][0]\n",
    "\n",
    "s = SessionWithUrlBase(url_base='https://api.prolific.co/api/v1/')\n",
    "s.headers.update({\n",
    "    'Authorization': f'Token {tok}',\n",
    "    'Content-Type': 'application/json'\n",
    "})"
   ]
  },
  {
   "cell_type": "code",
   "execution_count": null,
   "id": "4f929131",
   "metadata": {
    "ExecuteTime": {
     "end_time": "2022-04-22T18:21:27.699659Z",
     "start_time": "2022-04-22T18:21:26.348794Z"
    }
   },
   "outputs": [],
   "source": [
    "# creates new study on Prolific\n",
    "new_study = s.post('studies/',\n",
    "      data=json.dumps({\n",
    "          'name': 'BACH test study',\n",
    "          'internal_name': 'test_study_0',\n",
    "          'description': 'I think it works.',\n",
    "          'external_study_url': 'https://cogtoolslab.org:8898/index.html?' +\n",
    "          'PROLIFIC_PID={{%PROLIFIC_PID%}}&STUDY_ID={{%STUDY_ID%}}&SESSION_ID={{%SESSION_ID%}}',\n",
    "          'prolific_id_option': 'url_parameters',\n",
    "          'completion_code': 'BACH_test_code',\n",
    "          'completion_option': 'url',\n",
    "          'total_available_places': 1,\n",
    "          'estimated_completion_time': 10,\n",
    "          'device_compatibility': ['desktop'],\n",
    "          'reward': 200,\n",
    "          'peripheral_requirements': [],\n",
    "          'eligibility_requirements': []\n",
    "      })\n",
    ").json()"
   ]
  },
  {
   "cell_type": "code",
   "execution_count": null,
   "id": "c11d5e2a",
   "metadata": {
    "ExecuteTime": {
     "end_time": "2022-04-22T18:21:43.553589Z",
     "start_time": "2022-04-22T18:21:42.901654Z"
    }
   },
   "outputs": [],
   "source": [
    "# display information about a specific study\n",
    "study_inf = s.get(f\"studies/{new_study['id']}/\").json()\n",
    "study_inf['total_available_places']"
   ]
  },
  {
   "cell_type": "code",
   "execution_count": null,
   "id": "ca5f62b8",
   "metadata": {
    "ExecuteTime": {
     "end_time": "2022-04-22T18:21:44.505239Z",
     "start_time": "2022-04-22T18:21:43.847735Z"
    }
   },
   "outputs": [],
   "source": [
    "# Update study parameters. In this case, we increment study places by one\n",
    "new_study = s.patch(f\"studies/{new_study['id']}/\",\n",
    "        data= json.dumps({\n",
    "            'total_available_places': new_study['total_available_places'] + 1,\n",
    "        })\n",
    ").json()\n",
    "new_study['total_available_places']"
   ]
  },
  {
   "cell_type": "code",
   "execution_count": null,
   "id": "ac198084",
   "metadata": {
    "ExecuteTime": {
     "end_time": "2022-04-22T18:21:46.128801Z",
     "start_time": "2022-04-22T18:21:45.890355Z"
    }
   },
   "outputs": [],
   "source": [
    "# delete study\n",
    "s.delete(f\"studies/{new_study['id']}/\")"
   ]
  }
 ],
 "metadata": {
  "kernelspec": {
   "display_name": "Python 3 (ipykernel)",
   "language": "python",
   "name": "python3"
  },
  "language_info": {
   "codemirror_mode": {
    "name": "ipython",
    "version": 3
   },
   "file_extension": ".py",
   "mimetype": "text/x-python",
   "name": "python",
   "nbconvert_exporter": "python",
   "pygments_lexer": "ipython3",
   "version": "3.7.11"
  },
  "toc": {
   "base_numbering": 1,
   "nav_menu": {},
   "number_sections": true,
   "sideBar": true,
   "skip_h1_title": true,
   "title_cell": "Table of Contents",
   "title_sidebar": "Contents",
   "toc_cell": false,
   "toc_position": {},
   "toc_section_display": true,
   "toc_window_display": false
  }
 },
 "nbformat": 4,
 "nbformat_minor": 5
}
