{
 "cells": [
  {
   "cell_type": "markdown",
   "id": "b68f9a7b",
   "metadata": {},
   "source": [
    "# Prolific API basic walkthrough\n",
    "Documentation: https://docs.prolific.co/docs/api-docs/public/"
   ]
  },
  {
   "cell_type": "markdown",
   "id": "21076fc6",
   "metadata": {},
   "source": [
    "## Setup notebook"
   ]
  },
  {
   "cell_type": "code",
   "execution_count": 1,
   "id": "c6704c5d",
   "metadata": {
    "ExecuteTime": {
     "end_time": "2022-04-22T21:08:01.183305Z",
     "start_time": "2022-04-22T21:08:00.470205Z"
    }
   },
   "outputs": [],
   "source": [
    "# import libraries\n",
    "import json\n",
    "import urllib\n",
    "import requests\n",
    "import pymongo as pm\n",
    "import pandas as pd"
   ]
  },
  {
   "cell_type": "code",
   "execution_count": 2,
   "id": "4b6405e5",
   "metadata": {
    "ExecuteTime": {
     "end_time": "2022-04-22T21:08:01.198206Z",
     "start_time": "2022-04-22T21:08:01.186255Z"
    }
   },
   "outputs": [],
   "source": [
    "# define session wrapper to conveniently access API\n",
    "class SessionWithUrlBase(requests.Session):\n",
    "    def __init__(self, url_base=None, *args, **kwargs):\n",
    "        super(SessionWithUrlBase, self).__init__(*args, **kwargs)\n",
    "        self.url_base = url_base\n",
    "\n",
    "    def request(self, method, url, **kwargs):\n",
    "        modified_url = urllib.parse.urljoin(self.url_base, url)\n",
    "\n",
    "        return super(SessionWithUrlBase, self).request(method, modified_url, **kwargs)"
   ]
  },
  {
   "cell_type": "code",
   "execution_count": 3,
   "id": "502e4964",
   "metadata": {
    "ExecuteTime": {
     "end_time": "2022-04-22T21:08:01.214313Z",
     "start_time": "2022-04-22T21:08:01.199237Z"
    }
   },
   "outputs": [],
   "source": [
    "# get prolific credentials\n",
    "tok = pd.read_csv('prolificToken.txt', header = None).values[0][0]\n",
    "\n",
    "# create session\n",
    "s = SessionWithUrlBase(url_base='https://api.prolific.co/api/v1/')\n",
    "s.headers.update({\n",
    "    'Authorization': f'Token {tok}',\n",
    "    'Content-Type': 'application/json'\n",
    "})"
   ]
  },
  {
   "cell_type": "markdown",
   "id": "be04dbea",
   "metadata": {},
   "source": [
    "### Use case 1: Create a new draft Prolific Study\n",
    "To create a new study, we execute a POST request to `studies/`, specifying the following study parameters in the POST call. The parameter descriptions can be found [here](https://docs.prolific.co/docs/api-docs/public/#tag/Studies/paths/~1api~1v1~1studies~1/post).\n",
    "\n",
    "The documentation for specifying participant eligibility is incomplete, but you can modify `reqs` to modify the eligibility requirements"
   ]
  },
  {
   "cell_type": "code",
   "execution_count": 4,
   "id": "013afa80",
   "metadata": {
    "ExecuteTime": {
     "end_time": "2022-04-22T21:08:01.914287Z",
     "start_time": "2022-04-22T21:08:01.246206Z"
    }
   },
   "outputs": [],
   "source": [
    "reqs = s.get('eligibility-requirements/').json()\n",
    "reqs = reqs['results']\n",
    "\n",
    "# it seems like\n",
    "for study in reqs[221]['attributes']:\n",
    "    study['value'] = True"
   ]
  },
  {
   "cell_type": "code",
   "execution_count": 5,
   "id": "49249b5b",
   "metadata": {
    "ExecuteTime": {
     "end_time": "2022-04-22T21:08:05.514092Z",
     "start_time": "2022-04-22T21:08:01.917298Z"
    }
   },
   "outputs": [],
   "source": [
    "# creates new study on Prolific\n",
    "new_study = s.post('studies/',\n",
    "      data=json.dumps({\n",
    "          'name': 'BACH test study',\n",
    "          'internal_name': 'test_study_0',\n",
    "          'description': 'I think it works.',\n",
    "          'external_study_url': 'https://cogtoolslab.org:8864/index.html?' +\n",
    "          'PROLIFIC_PID={{%PROLIFIC_PID%}}&STUDY_ID={{%STUDY_ID%}}&SESSION_ID={{%SESSION_ID%}}',\n",
    "          'prolific_id_option': 'url_parameters',\n",
    "          'completion_code': 'BACH_completion_code',\n",
    "          'completion_option': 'url',\n",
    "          'total_available_places': 1,\n",
    "          'estimated_completion_time': 10,\n",
    "          'device_compatibility': ['desktop'],\n",
    "          'reward': 200,\n",
    "          'peripheral_requirements': [],\n",
    "          'eligibility_requirements': reqs\n",
    "      })\n",
    ").json()"
   ]
  },
  {
   "cell_type": "code",
   "execution_count": 6,
   "id": "2955e714",
   "metadata": {
    "ExecuteTime": {
     "end_time": "2022-04-22T21:08:06.592450Z",
     "start_time": "2022-04-22T21:08:05.515905Z"
    }
   },
   "outputs": [
    {
     "data": {
      "text/plain": [
       "1"
      ]
     },
     "execution_count": 6,
     "metadata": {},
     "output_type": "execute_result"
    }
   ],
   "source": [
    "# display information about a specific study\n",
    "study_inf = s.get(f\"studies/{new_study['id']}/\").json()\n",
    "study_inf['total_available_places']"
   ]
  },
  {
   "cell_type": "code",
   "execution_count": 7,
   "id": "c77916d3",
   "metadata": {
    "ExecuteTime": {
     "end_time": "2022-04-22T21:08:07.743814Z",
     "start_time": "2022-04-22T21:08:06.594401Z"
    },
    "scrolled": true
   },
   "outputs": [
    {
     "data": {
      "text/plain": [
       "2"
      ]
     },
     "execution_count": 7,
     "metadata": {},
     "output_type": "execute_result"
    }
   ],
   "source": [
    "# Update study parameters. In this case, we increment study places by one\n",
    "new_study = s.patch(f\"studies/{new_study['id']}/\",\n",
    "        data= json.dumps({\n",
    "            'total_available_places': new_study['total_available_places'] + 1,\n",
    "        })\n",
    ").json()\n",
    "new_study['total_available_places']"
   ]
  },
  {
   "cell_type": "code",
   "execution_count": 8,
   "id": "1ed78232",
   "metadata": {
    "ExecuteTime": {
     "end_time": "2022-04-22T21:08:08.009823Z",
     "start_time": "2022-04-22T21:08:07.745675Z"
    }
   },
   "outputs": [
    {
     "data": {
      "text/plain": [
       "<Response [204]>"
      ]
     },
     "execution_count": 8,
     "metadata": {},
     "output_type": "execute_result"
    }
   ],
   "source": [
    "# delete study\n",
    "s.delete(f\"studies/{new_study['id']}/\")"
   ]
  },
  {
   "cell_type": "markdown",
   "id": "74142c4a",
   "metadata": {},
   "source": [
    "watchdog integration\n",
    "\n",
    "document so that someone else can define what their study is in prolific and publish it\n",
    "\n",
    "test case: object localization - see if someone can run 2 pilot participants on the object localization study"
   ]
  }
 ],
 "metadata": {
  "kernelspec": {
   "display_name": "Python 3 (ipykernel)",
   "language": "python",
   "name": "python3"
  },
  "language_info": {
   "codemirror_mode": {
    "name": "ipython",
    "version": 3
   },
   "file_extension": ".py",
   "mimetype": "text/x-python",
   "name": "python",
   "nbconvert_exporter": "python",
   "pygments_lexer": "ipython3",
   "version": "3.7.11"
  },
  "toc": {
   "base_numbering": 1,
   "nav_menu": {},
   "number_sections": true,
   "sideBar": true,
   "skip_h1_title": true,
   "title_cell": "Table of Contents",
   "title_sidebar": "Contents",
   "toc_cell": false,
   "toc_position": {},
   "toc_section_display": true,
   "toc_window_display": false
  }
 },
 "nbformat": 4,
 "nbformat_minor": 5
}
