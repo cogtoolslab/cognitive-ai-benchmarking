{
 "cells": [
  {
   "cell_type": "markdown",
   "id": "17255fc8",
   "metadata": {},
   "source": [
    "# Prolific API basic walkthrough\n",
    "Documentation: https://docs.prolific.co/docs/api-docs/public/"
   ]
  },
  {
   "cell_type": "markdown",
   "id": "31517399",
   "metadata": {},
   "source": [
    "## Setup notebook"
   ]
  },
  {
   "cell_type": "code",
   "execution_count": 1,
   "id": "235ac3d1",
   "metadata": {
    "ExecuteTime": {
     "end_time": "2022-04-23T20:57:24.756356Z",
     "start_time": "2022-04-23T20:57:23.411562Z"
    }
   },
   "outputs": [],
   "source": [
    "# import libraries\n",
    "import json\n",
    "import time\n",
    "import urllib\n",
    "import requests\n",
    "import pandas as pd\n",
    "import pymongo as pm\n",
    "from IPython.display import clear_output"
   ]
  },
  {
   "cell_type": "code",
   "execution_count": 2,
   "id": "cbafdabb",
   "metadata": {
    "ExecuteTime": {
     "end_time": "2022-04-23T20:57:24.772358Z",
     "start_time": "2022-04-23T20:57:24.759357Z"
    }
   },
   "outputs": [],
   "source": [
    "# define session wrapper to conveniently access API\n",
    "class SessionWithUrlBase(requests.Session):\n",
    "    def __init__(self, url_base=None, *args, **kwargs):\n",
    "        super(SessionWithUrlBase, self).__init__(*args, **kwargs)\n",
    "        self.url_base = url_base\n",
    "\n",
    "    def request(self, method, url, **kwargs):\n",
    "        modified_url = urllib.parse.urljoin(self.url_base, url)\n",
    "\n",
    "        return super(SessionWithUrlBase, self).request(method, modified_url, **kwargs)"
   ]
  },
  {
   "cell_type": "code",
   "execution_count": 11,
   "id": "0afcfa24",
   "metadata": {
    "ExecuteTime": {
     "end_time": "2022-04-23T22:13:17.098089Z",
     "start_time": "2022-04-23T22:13:17.008999Z"
    }
   },
   "outputs": [],
   "source": [
    "# get prolific credentials\n",
    "tok = pd.read_csv('prolificToken.txt', header = None).values[0][0]\n",
    "\n",
    "# create session\n",
    "s = SessionWithUrlBase(url_base='https://api.prolific.co/api/v1/')\n",
    "s.headers.update({\n",
    "    'Authorization': f'Token {tok}',\n",
    "    'Content-Type': 'application/json'\n",
    "})"
   ]
  },
  {
   "cell_type": "markdown",
   "id": "86409ebe",
   "metadata": {},
   "source": [
    "### Use case 1: Create a new draft Prolific Study\n",
    "To create a new study, we execute a POST request to `studies/`, specifying the following study parameters in the POST call. The parameter descriptions can be found [here](https://docs.prolific.co/docs/api-docs/public/#tag/Studies/paths/~1api~1v1~1studies~1/post).\n",
    "\n",
    "The documentation for specifying participant eligibility is incomplete, but you can modify `reqs` to modify the eligibility requirements"
   ]
  },
  {
   "cell_type": "code",
   "execution_count": 4,
   "id": "88ca71d2",
   "metadata": {
    "ExecuteTime": {
     "end_time": "2022-04-23T20:57:25.366301Z",
     "start_time": "2022-04-23T20:57:24.811358Z"
    }
   },
   "outputs": [],
   "source": [
    "reqs = s.get('eligibility-requirements/').json()\n",
    "reqs = reqs['results']\n",
    "\n",
    "# it seems like\n",
    "for study in reqs[221]['attributes']:\n",
    "    study['value'] = True"
   ]
  },
  {
   "cell_type": "code",
   "execution_count": 5,
   "id": "e0f665ca",
   "metadata": {
    "ExecuteTime": {
     "end_time": "2022-04-23T20:57:27.691102Z",
     "start_time": "2022-04-23T20:57:25.369305Z"
    }
   },
   "outputs": [],
   "source": [
    "# creates new study on Prolific\n",
    "my_study = s.post('studies/',\n",
    "      data=json.dumps({\n",
    "          'name': 'BACH test study',\n",
    "          'internal_name': 'test_study_0',\n",
    "          'description': 'I think it works.',\n",
    "          'external_study_url': 'https://cogtoolslab.org:8864/index.html?' +\n",
    "          'PROLIFIC_PID={{%PROLIFIC_PID%}}&STUDY_ID={{%STUDY_ID%}}&SESSION_ID={{%SESSION_ID%}}',\n",
    "          'prolific_id_option': 'url_parameters',\n",
    "          'completion_code': 'BACH_completion_code',\n",
    "          'completion_option': 'url',\n",
    "          'total_available_places': 1,\n",
    "          'estimated_completion_time': 10,\n",
    "          'device_compatibility': ['desktop'],\n",
    "          'reward': 200,\n",
    "          'peripheral_requirements': [],\n",
    "          'eligibility_requirements': reqs\n",
    "      })\n",
    ").json()"
   ]
  },
  {
   "cell_type": "markdown",
   "id": "9df1eb5f",
   "metadata": {},
   "source": [
    "### Use case 2: Get information about a specific study"
   ]
  },
  {
   "cell_type": "code",
   "execution_count": 6,
   "id": "d2ba114b",
   "metadata": {
    "ExecuteTime": {
     "end_time": "2022-04-23T20:57:28.593835Z",
     "start_time": "2022-04-23T20:57:27.773109Z"
    },
    "scrolled": true
   },
   "outputs": [
    {
     "data": {
      "text/plain": [
       "1"
      ]
     },
     "execution_count": 6,
     "metadata": {},
     "output_type": "execute_result"
    }
   ],
   "source": [
    "# display information about a specific study\n",
    "study_inf = s.get(f\"studies/{my_study['id']}/\").json()\n",
    "study_inf['total_available_places']"
   ]
  },
  {
   "cell_type": "markdown",
   "id": "541df7e9",
   "metadata": {},
   "source": [
    "### Use case 3: Update study parameters"
   ]
  },
  {
   "cell_type": "code",
   "execution_count": 7,
   "id": "c8425f22",
   "metadata": {
    "ExecuteTime": {
     "end_time": "2022-04-23T20:57:29.671783Z",
     "start_time": "2022-04-23T20:57:28.595792Z"
    },
    "scrolled": true
   },
   "outputs": [
    {
     "data": {
      "text/plain": [
       "2"
      ]
     },
     "execution_count": 7,
     "metadata": {},
     "output_type": "execute_result"
    }
   ],
   "source": [
    "# Update study parameters. In this case, we increment study places by one\n",
    "my_study = s.patch(f\"studies/{my_study['id']}/\",\n",
    "        data=json.dumps({\n",
    "            'total_available_places': my_study['total_available_places'] + 1,\n",
    "        })\n",
    ").json()\n",
    "my_study['total_available_places']"
   ]
  },
  {
   "cell_type": "markdown",
   "id": "9ffea605",
   "metadata": {},
   "source": [
    "### Use case 4: Stagger participant start times\n",
    "\n",
    "Two primary benefits of publishing a study with this approach:\n",
    "- Lower risk of race conditions where participants start the study before the DB updates (rare)\n",
    "- Lower risk of race conditions where multiple participants accept the study before Prolific Gui updates (common)"
   ]
  },
  {
   "cell_type": "code",
   "execution_count": 8,
   "id": "beadc4e5",
   "metadata": {
    "ExecuteTime": {
     "end_time": "2022-04-23T20:57:39.518666Z",
     "start_time": "2022-04-23T20:57:32.649874Z"
    },
    "scrolled": false
   },
   "outputs": [
    {
     "data": {
      "text/plain": [
       "'BACH test study'"
      ]
     },
     "execution_count": 8,
     "metadata": {},
     "output_type": "execute_result"
    }
   ],
   "source": [
    "# do we really want to publish the study and start staggering?\n",
    "runStudy = False\n",
    "\n",
    "# first, we find the current studies on Prolific\n",
    "prolific_studies = pd.DataFrame(s.get(f\"studies/\").json()['results'])\n",
    "\n",
    "# get the specific study we are running\n",
    "my_study = prolific_studies.iloc[0]\n",
    "my_study = s.get(f\"studies/{my_study.id}/\").json()\n",
    "my_study['name']"
   ]
  },
  {
   "cell_type": "code",
   "execution_count": 9,
   "id": "827f9d13",
   "metadata": {
    "ExecuteTime": {
     "end_time": "2022-04-23T20:56:27.147903Z",
     "start_time": "2022-04-23T20:54:50.726702Z"
    },
    "scrolled": true
   },
   "outputs": [
    {
     "name": "stdout",
     "output_type": "stream",
     "text": [
      "Initializing study BACH test study | 50 places avaliable\n"
     ]
    }
   ],
   "source": [
    "num_participants = 50\n",
    "stagger_time = 1 # seconds\n",
    "\n",
    "# publish study\n",
    "reallyRunStudy = False\n",
    "if runStudy & reallyRunStudy:\n",
    "    s.post(f\"studies/{my_study['id']}/transition/\",\n",
    "          data=json.dumps({\n",
    "              'action': \"PUBLISH\"\n",
    "          })\n",
    "    )\n",
    "\n",
    "# opens a new study slot every stagger_time seconds\n",
    "while my_study['total_available_places'] < num_participants:\n",
    "    time.sleep(stagger_time)\n",
    "    my_study = s.patch(f\"studies/{my_study['id']}/\",\n",
    "                       data=json.dumps({\n",
    "                           'total_available_places': my_study['total_available_places'] + 1,\n",
    "                       })).json()\n",
    "    print(f\"Initializing study {my_study['name']} | {my_study['total_available_places']} places avaliable\")\n",
    "    clear_output(wait=True)\n"
   ]
  },
  {
   "cell_type": "markdown",
   "id": "e34bc82e",
   "metadata": {},
   "source": [
    "### Use case 5: Listing study submissions"
   ]
  },
  {
   "cell_type": "code",
   "execution_count": 21,
   "id": "abb9e5e8",
   "metadata": {
    "ExecuteTime": {
     "end_time": "2022-04-23T22:21:28.968992Z",
     "start_time": "2022-04-23T22:21:28.631744Z"
    }
   },
   "outputs": [
    {
     "data": {
      "text/html": [
       "<div>\n",
       "<style scoped>\n",
       "    .dataframe tbody tr th:only-of-type {\n",
       "        vertical-align: middle;\n",
       "    }\n",
       "\n",
       "    .dataframe tbody tr th {\n",
       "        vertical-align: top;\n",
       "    }\n",
       "\n",
       "    .dataframe thead th {\n",
       "        text-align: right;\n",
       "    }\n",
       "</style>\n",
       "<table border=\"1\" class=\"dataframe\">\n",
       "  <thead>\n",
       "    <tr style=\"text-align: right;\">\n",
       "      <th></th>\n",
       "      <th>id</th>\n",
       "      <th>participant_id</th>\n",
       "      <th>started_at</th>\n",
       "      <th>completed_at</th>\n",
       "      <th>is_complete</th>\n",
       "      <th>time_taken</th>\n",
       "      <th>reward</th>\n",
       "      <th>status</th>\n",
       "      <th>strata</th>\n",
       "      <th>study_code</th>\n",
       "      <th>star_awarded</th>\n",
       "      <th>bonus_payments</th>\n",
       "      <th>ip</th>\n",
       "    </tr>\n",
       "  </thead>\n",
       "  <tbody>\n",
       "    <tr>\n",
       "      <th>0</th>\n",
       "      <td>626065dbeba3736512b6413f</td>\n",
       "      <td>61150ec9ff89021c26dcd061</td>\n",
       "      <td>2022-04-20T19:58:19.513000Z</td>\n",
       "      <td>2022-04-20T20:16:04.540000Z</td>\n",
       "      <td>True</td>\n",
       "      <td>1065.0</td>\n",
       "      <td>37593</td>\n",
       "      <td>APPROVED</td>\n",
       "      <td>{'age': '28-37', 'ethnicity': 'white', 'sex': ...</td>\n",
       "      <td>5C772792</td>\n",
       "      <td>False</td>\n",
       "      <td>[]</td>\n",
       "      <td>81.98.182.104</td>\n",
       "    </tr>\n",
       "    <tr>\n",
       "      <th>1</th>\n",
       "      <td>6260666186c85ad5dc06ecaf</td>\n",
       "      <td>6012b1a15107830438ca04a5</td>\n",
       "      <td>2022-04-20T20:00:37.220000Z</td>\n",
       "      <td>2022-04-20T20:16:04.284000Z</td>\n",
       "      <td>True</td>\n",
       "      <td>927.0</td>\n",
       "      <td>37593</td>\n",
       "      <td>APPROVED</td>\n",
       "      <td>{'age': '38-47', 'ethnicity': 'white', 'sex': ...</td>\n",
       "      <td>5C772792</td>\n",
       "      <td>False</td>\n",
       "      <td>[]</td>\n",
       "      <td>82.39.195.208</td>\n",
       "    </tr>\n",
       "    <tr>\n",
       "      <th>2</th>\n",
       "      <td>626066cd5987a7f950afd897</td>\n",
       "      <td>5afc4671bb36f900018ef1fe</td>\n",
       "      <td>2022-04-20T20:02:41.647000Z</td>\n",
       "      <td>2022-04-20T20:19:24.640000Z</td>\n",
       "      <td>True</td>\n",
       "      <td>1002.0</td>\n",
       "      <td>37593</td>\n",
       "      <td>APPROVED</td>\n",
       "      <td>{'age': '28-37', 'ethnicity': 'white', 'sex': ...</td>\n",
       "      <td>5C772792</td>\n",
       "      <td>False</td>\n",
       "      <td>[]</td>\n",
       "      <td>84.65.18.189</td>\n",
       "    </tr>\n",
       "    <tr>\n",
       "      <th>3</th>\n",
       "      <td>626066e9d5cfc3ea41421225</td>\n",
       "      <td>5e4721a7eab94f1f27d57fe0</td>\n",
       "      <td>2022-04-20T20:02:55.797000Z</td>\n",
       "      <td>None</td>\n",
       "      <td>False</td>\n",
       "      <td>NaN</td>\n",
       "      <td>37593</td>\n",
       "      <td>RETURNED</td>\n",
       "      <td>{'age': '48-57', 'ethnicity': 'asian', 'sex': ...</td>\n",
       "      <td>None</td>\n",
       "      <td>False</td>\n",
       "      <td>[]</td>\n",
       "      <td>77.99.112.90</td>\n",
       "    </tr>\n",
       "    <tr>\n",
       "      <th>4</th>\n",
       "      <td>626068786164bd067347d80c</td>\n",
       "      <td>5f9932d4ae84ec000947a76c</td>\n",
       "      <td>2022-04-20T20:09:28.835000Z</td>\n",
       "      <td>None</td>\n",
       "      <td>False</td>\n",
       "      <td>NaN</td>\n",
       "      <td>37593</td>\n",
       "      <td>RETURNED</td>\n",
       "      <td>{'age': '18-27', 'ethnicity': 'mixed', 'sex': ...</td>\n",
       "      <td>None</td>\n",
       "      <td>False</td>\n",
       "      <td>[]</td>\n",
       "      <td>86.147.75.224</td>\n",
       "    </tr>\n",
       "  </tbody>\n",
       "</table>\n",
       "</div>"
      ],
      "text/plain": [
       "                         id            participant_id  \\\n",
       "0  626065dbeba3736512b6413f  61150ec9ff89021c26dcd061   \n",
       "1  6260666186c85ad5dc06ecaf  6012b1a15107830438ca04a5   \n",
       "2  626066cd5987a7f950afd897  5afc4671bb36f900018ef1fe   \n",
       "3  626066e9d5cfc3ea41421225  5e4721a7eab94f1f27d57fe0   \n",
       "4  626068786164bd067347d80c  5f9932d4ae84ec000947a76c   \n",
       "\n",
       "                    started_at                 completed_at  is_complete  \\\n",
       "0  2022-04-20T19:58:19.513000Z  2022-04-20T20:16:04.540000Z         True   \n",
       "1  2022-04-20T20:00:37.220000Z  2022-04-20T20:16:04.284000Z         True   \n",
       "2  2022-04-20T20:02:41.647000Z  2022-04-20T20:19:24.640000Z         True   \n",
       "3  2022-04-20T20:02:55.797000Z                         None        False   \n",
       "4  2022-04-20T20:09:28.835000Z                         None        False   \n",
       "\n",
       "   time_taken  reward    status  \\\n",
       "0      1065.0   37593  APPROVED   \n",
       "1       927.0   37593  APPROVED   \n",
       "2      1002.0   37593  APPROVED   \n",
       "3         NaN   37593  RETURNED   \n",
       "4         NaN   37593  RETURNED   \n",
       "\n",
       "                                              strata study_code  star_awarded  \\\n",
       "0  {'age': '28-37', 'ethnicity': 'white', 'sex': ...   5C772792         False   \n",
       "1  {'age': '38-47', 'ethnicity': 'white', 'sex': ...   5C772792         False   \n",
       "2  {'age': '28-37', 'ethnicity': 'white', 'sex': ...   5C772792         False   \n",
       "3  {'age': '48-57', 'ethnicity': 'asian', 'sex': ...       None         False   \n",
       "4  {'age': '18-27', 'ethnicity': 'mixed', 'sex': ...       None         False   \n",
       "\n",
       "  bonus_payments             ip  \n",
       "0             []  81.98.182.104  \n",
       "1             []  82.39.195.208  \n",
       "2             []   84.65.18.189  \n",
       "3             []   77.99.112.90  \n",
       "4             []  86.147.75.224  "
      ]
     },
     "execution_count": 21,
     "metadata": {},
     "output_type": "execute_result"
    }
   ],
   "source": [
    "my_study = prolific_studies[prolific_studies.status == 'COMPLETED'].iloc[0]\n",
    "study_submissions = pd.DataFrame(s.get(f\"studies/{my_study['id']}/submissions/\").json()['results'])\n",
    "study_submissions.head()"
   ]
  },
  {
   "cell_type": "markdown",
   "id": "c152fbfd",
   "metadata": {},
   "source": [
    "### Use case 6: Applying bonus payments to participant submissions"
   ]
  },
  {
   "cell_type": "code",
   "execution_count": 47,
   "id": "e40e4b32",
   "metadata": {
    "ExecuteTime": {
     "end_time": "2022-04-23T22:41:33.066676Z",
     "start_time": "2022-04-23T22:41:33.045697Z"
    }
   },
   "outputs": [
    {
     "data": {
      "text/plain": [
       "'61150ec9ff89021c26dcd061,0.55\\n6012b1a15107830438ca04a5,0.07\\n5afc4671bb36f900018ef1fe,0.41\\n5e4721a7eab94f1f27d57fe0,0.33\\n5f9932d4ae84ec000947a76c,0.77\\n599364c1fc37790001fa4e1d,0.26\\n'"
      ]
     },
     "execution_count": 47,
     "metadata": {},
     "output_type": "execute_result"
    }
   ],
   "source": [
    "reallyBonus = False\n",
    "\n",
    "study_submissions['bonuses'] = np.round(np.random.random(6), 2)\n",
    "submission_csv = study_submissions[['participant_id', 'bonuses']].to_csv(\n",
    "    index=False, header=False, line_terminator='\\n')\n",
    "# example submission format\n",
    "submission_csv"
   ]
  },
  {
   "cell_type": "code",
   "execution_count": 49,
   "id": "ad3032e9",
   "metadata": {
    "ExecuteTime": {
     "end_time": "2022-04-23T22:42:07.808924Z",
     "start_time": "2022-04-23T22:42:07.793892Z"
    }
   },
   "outputs": [],
   "source": [
    "# note: submitting bonus payments though this API does not actually transfer money\n",
    "if reallyBonus:\n",
    "    s.post(f\"submissions/bonus-payments/\", \n",
    "           data={\n",
    "               \"study_id\": my_study['id'],\n",
    "               \"csv_bonuses\": submission_csv\n",
    "           })\n",
    "\n",
    "# to transfer money, we run bonus payments like so:\n",
    "reallyReallyBonus = False\n",
    "if reallyBonus & reallyReallyBonus:\n",
    "    s.post(f\"bulk-bonus-payments/{my_study['id']}/pay/\")"
   ]
  },
  {
   "cell_type": "markdown",
   "id": "28c8e7f3",
   "metadata": {},
   "source": [
    "### Use case 5: Delete study"
   ]
  },
  {
   "cell_type": "code",
   "execution_count": 10,
   "id": "1a14eaa6",
   "metadata": {
    "ExecuteTime": {
     "end_time": "2022-04-23T22:10:52.591057Z",
     "start_time": "2022-04-23T22:10:52.117224Z"
    },
    "scrolled": false
   },
   "outputs": [
    {
     "data": {
      "text/plain": [
       "<Response [204]>"
      ]
     },
     "execution_count": 10,
     "metadata": {},
     "output_type": "execute_result"
    }
   ],
   "source": [
    "# delete study\n",
    "s.delete(f\"studies/{my_study['id']}/\")"
   ]
  }
 ],
 "metadata": {
  "kernelspec": {
   "display_name": "Python 3 (ipykernel)",
   "language": "python",
   "name": "python3"
  },
  "language_info": {
   "codemirror_mode": {
    "name": "ipython",
    "version": 3
   },
   "file_extension": ".py",
   "mimetype": "text/x-python",
   "name": "python",
   "nbconvert_exporter": "python",
   "pygments_lexer": "ipython3",
   "version": "3.7.11"
  },
  "toc": {
   "base_numbering": 1,
   "nav_menu": {},
   "number_sections": true,
   "sideBar": true,
   "skip_h1_title": true,
   "title_cell": "Table of Contents",
   "title_sidebar": "Contents",
   "toc_cell": false,
   "toc_position": {},
   "toc_section_display": true,
   "toc_window_display": false
  }
 },
 "nbformat": 4,
 "nbformat_minor": 5
}
