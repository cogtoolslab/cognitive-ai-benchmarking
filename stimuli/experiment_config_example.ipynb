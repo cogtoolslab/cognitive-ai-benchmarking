{
 "cells": [
  {
   "cell_type": "code",
   "execution_count": 1,
   "metadata": {},
   "outputs": [],
   "source": [
    "from make_exp_config import experiment_file_setup"
   ]
  },
  {
   "cell_type": "code",
   "execution_count": null,
   "metadata": {},
   "outputs": [],
   "source": [
    "bucket = 'dominoes_test'\n",
    "data_root = 'Dominoes/' # make sure to have trailing / for data_root\n",
    "data_path = '**/*' # this finds all subdirectories in data_root and loads all files in each subdirectory to s3\n",
    "multilevel=True # Dominoes/ contains 2 subdirectories, so the structure is multi-level\n",
    "meta_file = 'metadata.json' # path to metadata for stimulus set\n",
    "fam_trial_ids = ['Image0001.png', 'Image0002.png'] # image ids for familiarization trials\n",
    "batch_set_size = 6 # 20 total stimuli, 2 familiarization trials, 3 batches"
   ]
  },
  {
   "cell_type": "code",
   "execution_count": null,
   "metadata": {},
   "outputs": [],
   "source": [
    "experiment_file_setup(bucket, \n",
    "                      data_root, \n",
    "                      data_path, \n",
    "                      meta_file, \n",
    "                      fam_trial_ids, \n",
    "                      batch_set_size, \n",
    "                      multilevel)"
   ]
  }
 ],
 "metadata": {
  "kernelspec": {
   "display_name": "Python 3",
   "language": "python",
   "name": "python3"
  },
  "language_info": {
   "codemirror_mode": {
    "name": "ipython",
    "version": 3
   },
   "file_extension": ".py",
   "mimetype": "text/x-python",
   "name": "python",
   "nbconvert_exporter": "python",
   "pygments_lexer": "ipython3",
   "version": "3.7.3"
  }
 },
 "nbformat": 4,
 "nbformat_minor": 2
}
