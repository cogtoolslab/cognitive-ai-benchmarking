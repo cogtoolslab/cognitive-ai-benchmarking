{
 "cells": [
  {
   "cell_type": "code",
   "execution_count": 1,
   "metadata": {},
   "outputs": [],
   "source": [
    "from upload_to_s3 import upload_stim_to_s3"
   ]
  },
  {
   "cell_type": "code",
   "execution_count": 2,
   "metadata": {},
   "outputs": [],
   "source": [
    "bucket = 'dominoes-test'\n",
    "pth_to_s3_credentials = '' # local path to your aws credentials\n",
    "data_root = 'Dominoes/' # make sure to have trailing / for data_root\n",
    "data_path = '**/*' # this finds all subdirectories in data_root and loads all files in each subdirectory to s3\n",
    "multilevel=True # Dominoes/ contains 2 subdirectories, so the structure is multi-level"
   ]
  },
  {
   "cell_type": "code",
   "execution_count": 3,
   "metadata": {},
   "outputs": [
    {
     "name": "stderr",
     "output_type": "stream",
     "text": [
      "ERROR:root:An error occurred (BucketAlreadyOwnedByYou) when calling the CreateBucket operation: Your previous request to create the named bucket succeeded and you already own it.\n",
      "  1%|          | 2/302 [00:00<00:31,  9.58it/s]"
     ]
    },
    {
     "name": "stdout",
     "output_type": "stream",
     "text": [
      "Uploading /mindhive/nklab4/users/tom/bach_hackathon/cognitive-ai-benchmarking/stimuli/Dominoes/maps/pilot_dominoes_0mid_d3chairs_o1plants_tdwroom_0001_map.png to path: maps/pilot_dominoes_0mid_d3chairs_o1plants_tdwroom_0001_map.png\n"
     ]
    },
    {
     "name": "stderr",
     "output_type": "stream",
     "text": [
      "  1%|          | 3/302 [00:00<00:39,  7.48it/s]"
     ]
    },
    {
     "name": "stdout",
     "output_type": "stream",
     "text": [
      "Uploading /mindhive/nklab4/users/tom/bach_hackathon/cognitive-ai-benchmarking/stimuli/Dominoes/maps/pilot_dominoes_0mid_d3chairs_o1plants_tdwroom_0004_map.png to path: maps/pilot_dominoes_0mid_d3chairs_o1plants_tdwroom_0004_map.png\n",
      "Uploading /mindhive/nklab4/users/tom/bach_hackathon/cognitive-ai-benchmarking/stimuli/Dominoes/maps/pilot_dominoes_0mid_d3chairs_o1plants_tdwroom_0005_map.png to path: maps/pilot_dominoes_0mid_d3chairs_o1plants_tdwroom_0005_map.png\n"
     ]
    },
    {
     "name": "stderr",
     "output_type": "stream",
     "text": [
      "  2%|▏         | 5/302 [00:00<00:48,  6.18it/s]"
     ]
    },
    {
     "name": "stdout",
     "output_type": "stream",
     "text": [
      "Uploading /mindhive/nklab4/users/tom/bach_hackathon/cognitive-ai-benchmarking/stimuli/Dominoes/maps/pilot_dominoes_0mid_d3chairs_o1plants_tdwroom_0007_map.png to path: maps/pilot_dominoes_0mid_d3chairs_o1plants_tdwroom_0007_map.png\n",
      "Uploading /mindhive/nklab4/users/tom/bach_hackathon/cognitive-ai-benchmarking/stimuli/Dominoes/maps/pilot_dominoes_0mid_d3chairs_o1plants_tdwroom_0008_map.png to path: maps/pilot_dominoes_0mid_d3chairs_o1plants_tdwroom_0008_map.png\n"
     ]
    },
    {
     "name": "stderr",
     "output_type": "stream",
     "text": [
      "  2%|▏         | 7/302 [00:01<00:53,  5.55it/s]"
     ]
    },
    {
     "name": "stdout",
     "output_type": "stream",
     "text": [
      "Uploading /mindhive/nklab4/users/tom/bach_hackathon/cognitive-ai-benchmarking/stimuli/Dominoes/maps/pilot_dominoes_0mid_d3chairs_o1plants_tdwroom_0012_map.png to path: maps/pilot_dominoes_0mid_d3chairs_o1plants_tdwroom_0012_map.png\n",
      "Uploading /mindhive/nklab4/users/tom/bach_hackathon/cognitive-ai-benchmarking/stimuli/Dominoes/maps/pilot_dominoes_0mid_d3chairs_o1plants_tdwroom_0013_map.png to path: maps/pilot_dominoes_0mid_d3chairs_o1plants_tdwroom_0013_map.png\n"
     ]
    },
    {
     "name": "stderr",
     "output_type": "stream",
     "text": [
      "  3%|▎         | 9/302 [00:01<00:55,  5.28it/s]"
     ]
    },
    {
     "name": "stdout",
     "output_type": "stream",
     "text": [
      "Uploading /mindhive/nklab4/users/tom/bach_hackathon/cognitive-ai-benchmarking/stimuli/Dominoes/maps/pilot_dominoes_0mid_d3chairs_o1plants_tdwroom_0016_map.png to path: maps/pilot_dominoes_0mid_d3chairs_o1plants_tdwroom_0016_map.png\n",
      "Uploading /mindhive/nklab4/users/tom/bach_hackathon/cognitive-ai-benchmarking/stimuli/Dominoes/maps/pilot_dominoes_0mid_d3chairs_o1plants_tdwroom_0017_map.png to path: maps/pilot_dominoes_0mid_d3chairs_o1plants_tdwroom_0017_map.png\n"
     ]
    },
    {
     "name": "stderr",
     "output_type": "stream",
     "text": [
      "  4%|▎         | 11/302 [00:01<00:58,  5.00it/s]"
     ]
    },
    {
     "name": "stdout",
     "output_type": "stream",
     "text": [
      "Uploading /mindhive/nklab4/users/tom/bach_hackathon/cognitive-ai-benchmarking/stimuli/Dominoes/maps/pilot_dominoes_0mid_d3chairs_o1plants_tdwroom_0018_map.png to path: maps/pilot_dominoes_0mid_d3chairs_o1plants_tdwroom_0018_map.png\n",
      "Uploading /mindhive/nklab4/users/tom/bach_hackathon/cognitive-ai-benchmarking/stimuli/Dominoes/maps/pilot_dominoes_0mid_d3chairs_o1plants_tdwroom_0019_map.png to path: maps/pilot_dominoes_0mid_d3chairs_o1plants_tdwroom_0019_map.png\n"
     ]
    },
    {
     "name": "stderr",
     "output_type": "stream",
     "text": [
      "  4%|▍         | 13/302 [00:02<00:56,  5.08it/s]"
     ]
    },
    {
     "name": "stdout",
     "output_type": "stream",
     "text": [
      "Uploading /mindhive/nklab4/users/tom/bach_hackathon/cognitive-ai-benchmarking/stimuli/Dominoes/maps/pilot_dominoes_0mid_d3chairs_o1plants_tdwroom_0020_map.png to path: maps/pilot_dominoes_0mid_d3chairs_o1plants_tdwroom_0020_map.png\n",
      "Uploading /mindhive/nklab4/users/tom/bach_hackathon/cognitive-ai-benchmarking/stimuli/Dominoes/maps/pilot_dominoes_0mid_d3chairs_o1plants_tdwroom_0021_map.png to path: maps/pilot_dominoes_0mid_d3chairs_o1plants_tdwroom_0021_map.png\n"
     ]
    },
    {
     "name": "stderr",
     "output_type": "stream",
     "text": [
      "  5%|▍         | 15/302 [00:02<00:55,  5.18it/s]"
     ]
    },
    {
     "name": "stdout",
     "output_type": "stream",
     "text": [
      "Uploading /mindhive/nklab4/users/tom/bach_hackathon/cognitive-ai-benchmarking/stimuli/Dominoes/maps/pilot_dominoes_0mid_d3chairs_o1plants_tdwroom_0022_map.png to path: maps/pilot_dominoes_0mid_d3chairs_o1plants_tdwroom_0022_map.png\n"
     ]
    },
    {
     "name": "stderr",
     "output_type": "stream",
     "text": [
      "  5%|▌         | 16/302 [00:03<01:01,  4.68it/s]"
     ]
    },
    {
     "name": "stdout",
     "output_type": "stream",
     "text": [
      "Uploading /mindhive/nklab4/users/tom/bach_hackathon/cognitive-ai-benchmarking/stimuli/Dominoes/maps/pilot_dominoes_0mid_d3chairs_o1plants_tdwroom_0025_map.png to path: maps/pilot_dominoes_0mid_d3chairs_o1plants_tdwroom_0025_map.png\n"
     ]
    },
    {
     "name": "stderr",
     "output_type": "stream",
     "text": [
      "  6%|▌         | 17/302 [00:03<01:00,  4.68it/s]"
     ]
    },
    {
     "name": "stdout",
     "output_type": "stream",
     "text": [
      "Uploading /mindhive/nklab4/users/tom/bach_hackathon/cognitive-ai-benchmarking/stimuli/Dominoes/maps/pilot_dominoes_0mid_d3chairs_o1plants_tdwroom_0026_map.png to path: maps/pilot_dominoes_0mid_d3chairs_o1plants_tdwroom_0026_map.png\n"
     ]
    },
    {
     "name": "stderr",
     "output_type": "stream",
     "text": [
      "  6%|▌         | 18/302 [00:03<00:59,  4.80it/s]"
     ]
    },
    {
     "name": "stdout",
     "output_type": "stream",
     "text": [
      "Uploading /mindhive/nklab4/users/tom/bach_hackathon/cognitive-ai-benchmarking/stimuli/Dominoes/maps/pilot_dominoes_0mid_d3chairs_o1plants_tdwroom_0027_map.png to path: maps/pilot_dominoes_0mid_d3chairs_o1plants_tdwroom_0027_map.png\n",
      "Uploading /mindhive/nklab4/users/tom/bach_hackathon/cognitive-ai-benchmarking/stimuli/Dominoes/maps/pilot_dominoes_1mid_J025R45_boxroom_0000_map.png to path: maps/pilot_dominoes_1mid_J025R45_boxroom_0000_map.png\n"
     ]
    },
    {
     "name": "stderr",
     "output_type": "stream",
     "text": [
      "  7%|▋         | 20/302 [00:03<00:56,  4.96it/s]"
     ]
    },
    {
     "name": "stdout",
     "output_type": "stream",
     "text": [
      "Uploading /mindhive/nklab4/users/tom/bach_hackathon/cognitive-ai-benchmarking/stimuli/Dominoes/maps/pilot_dominoes_1mid_J025R45_boxroom_0003_map.png to path: maps/pilot_dominoes_1mid_J025R45_boxroom_0003_map.png\n",
      "Uploading /mindhive/nklab4/users/tom/bach_hackathon/cognitive-ai-benchmarking/stimuli/Dominoes/maps/pilot_dominoes_1mid_J025R45_boxroom_0004_map.png to path: maps/pilot_dominoes_1mid_J025R45_boxroom_0004_map.png\n"
     ]
    },
    {
     "name": "stderr",
     "output_type": "stream",
     "text": [
      "  7%|▋         | 22/302 [00:04<00:56,  4.95it/s]"
     ]
    },
    {
     "name": "stdout",
     "output_type": "stream",
     "text": [
      "Uploading /mindhive/nklab4/users/tom/bach_hackathon/cognitive-ai-benchmarking/stimuli/Dominoes/maps/pilot_dominoes_1mid_J025R45_boxroom_0005_map.png to path: maps/pilot_dominoes_1mid_J025R45_boxroom_0005_map.png\n"
     ]
    },
    {
     "name": "stderr",
     "output_type": "stream",
     "text": [
      "  8%|▊         | 23/302 [00:04<00:55,  4.99it/s]"
     ]
    },
    {
     "name": "stdout",
     "output_type": "stream",
     "text": [
      "Uploading /mindhive/nklab4/users/tom/bach_hackathon/cognitive-ai-benchmarking/stimuli/Dominoes/maps/pilot_dominoes_1mid_J025R45_boxroom_0006_map.png to path: maps/pilot_dominoes_1mid_J025R45_boxroom_0006_map.png\n",
      "Uploading /mindhive/nklab4/users/tom/bach_hackathon/cognitive-ai-benchmarking/stimuli/Dominoes/maps/pilot_dominoes_1mid_J025R45_boxroom_0007_map.png to path: maps/pilot_dominoes_1mid_J025R45_boxroom_0007_map.png\n"
     ]
    },
    {
     "name": "stderr",
     "output_type": "stream",
     "text": [
      "  8%|▊         | 25/302 [00:04<00:54,  5.04it/s]"
     ]
    },
    {
     "name": "stdout",
     "output_type": "stream",
     "text": [
      "Uploading /mindhive/nklab4/users/tom/bach_hackathon/cognitive-ai-benchmarking/stimuli/Dominoes/maps/pilot_dominoes_1mid_J025R45_boxroom_0009_map.png to path: maps/pilot_dominoes_1mid_J025R45_boxroom_0009_map.png\n",
      "Uploading /mindhive/nklab4/users/tom/bach_hackathon/cognitive-ai-benchmarking/stimuli/Dominoes/maps/pilot_dominoes_1mid_J025R45_boxroom_0010_map.png to path: maps/pilot_dominoes_1mid_J025R45_boxroom_0010_map.png\n"
     ]
    },
    {
     "name": "stderr",
     "output_type": "stream",
     "text": [
      "  9%|▉         | 27/302 [00:05<00:57,  4.82it/s]"
     ]
    },
    {
     "name": "stdout",
     "output_type": "stream",
     "text": [
      "Uploading /mindhive/nklab4/users/tom/bach_hackathon/cognitive-ai-benchmarking/stimuli/Dominoes/maps/pilot_dominoes_1mid_J025R45_boxroom_0015_map.png to path: maps/pilot_dominoes_1mid_J025R45_boxroom_0015_map.png\n"
     ]
    },
    {
     "name": "stderr",
     "output_type": "stream",
     "text": [
      "  9%|▉         | 28/302 [00:05<00:56,  4.82it/s]"
     ]
    },
    {
     "name": "stdout",
     "output_type": "stream",
     "text": [
      "Uploading /mindhive/nklab4/users/tom/bach_hackathon/cognitive-ai-benchmarking/stimuli/Dominoes/maps/pilot_dominoes_1mid_J025R45_boxroom_0017_map.png to path: maps/pilot_dominoes_1mid_J025R45_boxroom_0017_map.png\n"
     ]
    },
    {
     "name": "stderr",
     "output_type": "stream",
     "text": [
      " 10%|▉         | 29/302 [00:05<00:56,  4.82it/s]"
     ]
    },
    {
     "name": "stdout",
     "output_type": "stream",
     "text": [
      "Uploading /mindhive/nklab4/users/tom/bach_hackathon/cognitive-ai-benchmarking/stimuli/Dominoes/maps/pilot_dominoes_1mid_J025R45_boxroom_0019_map.png to path: maps/pilot_dominoes_1mid_J025R45_boxroom_0019_map.png\n"
     ]
    },
    {
     "name": "stderr",
     "output_type": "stream",
     "text": [
      " 10%|▉         | 30/302 [00:05<00:55,  4.93it/s]"
     ]
    },
    {
     "name": "stdout",
     "output_type": "stream",
     "text": [
      "Uploading /mindhive/nklab4/users/tom/bach_hackathon/cognitive-ai-benchmarking/stimuli/Dominoes/maps/pilot_dominoes_1mid_J025R45_boxroom_0020_map.png to path: maps/pilot_dominoes_1mid_J025R45_boxroom_0020_map.png\n",
      "Uploading /mindhive/nklab4/users/tom/bach_hackathon/cognitive-ai-benchmarking/stimuli/Dominoes/maps/pilot_dominoes_1mid_J025R45_boxroom_0022_map.png to path: maps/pilot_dominoes_1mid_J025R45_boxroom_0022_map.png\n"
     ]
    },
    {
     "name": "stderr",
     "output_type": "stream",
     "text": [
      " 11%|█         | 32/302 [00:06<00:53,  5.06it/s]"
     ]
    },
    {
     "name": "stdout",
     "output_type": "stream",
     "text": [
      "Uploading /mindhive/nklab4/users/tom/bach_hackathon/cognitive-ai-benchmarking/stimuli/Dominoes/maps/pilot_dominoes_1mid_J025R45_boxroom_0023_map.png to path: maps/pilot_dominoes_1mid_J025R45_boxroom_0023_map.png\n",
      "Uploading /mindhive/nklab4/users/tom/bach_hackathon/cognitive-ai-benchmarking/stimuli/Dominoes/maps/pilot_dominoes_1mid_J025R45_boxroom_0025_map.png to path: maps/pilot_dominoes_1mid_J025R45_boxroom_0025_map.png\n"
     ]
    },
    {
     "name": "stderr",
     "output_type": "stream",
     "text": [
      " 11%|█▏        | 34/302 [00:06<00:53,  5.02it/s]"
     ]
    },
    {
     "name": "stdout",
     "output_type": "stream",
     "text": [
      "Uploading /mindhive/nklab4/users/tom/bach_hackathon/cognitive-ai-benchmarking/stimuli/Dominoes/maps/pilot_dominoes_1mid_J025R45_boxroom_0026_map.png to path: maps/pilot_dominoes_1mid_J025R45_boxroom_0026_map.png\n"
     ]
    },
    {
     "name": "stderr",
     "output_type": "stream",
     "text": [
      " 12%|█▏        | 35/302 [00:06<01:01,  4.34it/s]"
     ]
    },
    {
     "name": "stdout",
     "output_type": "stream",
     "text": [
      "Uploading /mindhive/nklab4/users/tom/bach_hackathon/cognitive-ai-benchmarking/stimuli/Dominoes/maps/pilot_dominoes_1mid_J025R45_boxroom_0027_map.png to path: maps/pilot_dominoes_1mid_J025R45_boxroom_0027_map.png\n",
      "Uploading /mindhive/nklab4/users/tom/bach_hackathon/cognitive-ai-benchmarking/stimuli/Dominoes/maps/pilot_dominoes_1mid_J025R45_boxroom_0029_map.png to path: maps/pilot_dominoes_1mid_J025R45_boxroom_0029_map.png\n"
     ]
    },
    {
     "name": "stderr",
     "output_type": "stream",
     "text": [
      " 12%|█▏        | 37/302 [00:07<00:57,  4.58it/s]"
     ]
    },
    {
     "name": "stdout",
     "output_type": "stream",
     "text": [
      "Uploading /mindhive/nklab4/users/tom/bach_hackathon/cognitive-ai-benchmarking/stimuli/Dominoes/maps/pilot_dominoes_1mid_J025R45_o1full_tdwroom_0000_map.png to path: maps/pilot_dominoes_1mid_J025R45_o1full_tdwroom_0000_map.png\n",
      "Uploading /mindhive/nklab4/users/tom/bach_hackathon/cognitive-ai-benchmarking/stimuli/Dominoes/maps/pilot_dominoes_1mid_J025R45_o1full_tdwroom_0001_map.png to path: maps/pilot_dominoes_1mid_J025R45_o1full_tdwroom_0001_map.png\n"
     ]
    },
    {
     "name": "stderr",
     "output_type": "stream",
     "text": [
      " 13%|█▎        | 39/302 [00:07<00:55,  4.71it/s]"
     ]
    },
    {
     "name": "stdout",
     "output_type": "stream",
     "text": [
      "Uploading /mindhive/nklab4/users/tom/bach_hackathon/cognitive-ai-benchmarking/stimuli/Dominoes/maps/pilot_dominoes_1mid_J025R45_o1full_tdwroom_0002_map.png to path: maps/pilot_dominoes_1mid_J025R45_o1full_tdwroom_0002_map.png\n"
     ]
    },
    {
     "name": "stderr",
     "output_type": "stream",
     "text": [
      " 13%|█▎        | 40/302 [00:07<00:54,  4.78it/s]"
     ]
    },
    {
     "name": "stdout",
     "output_type": "stream",
     "text": [
      "Uploading /mindhive/nklab4/users/tom/bach_hackathon/cognitive-ai-benchmarking/stimuli/Dominoes/maps/pilot_dominoes_1mid_J025R45_o1full_tdwroom_0003_map.png to path: maps/pilot_dominoes_1mid_J025R45_o1full_tdwroom_0003_map.png\n"
     ]
    },
    {
     "name": "stderr",
     "output_type": "stream",
     "text": [
      " 14%|█▎        | 41/302 [00:08<00:54,  4.81it/s]"
     ]
    },
    {
     "name": "stdout",
     "output_type": "stream",
     "text": [
      "Uploading /mindhive/nklab4/users/tom/bach_hackathon/cognitive-ai-benchmarking/stimuli/Dominoes/maps/pilot_dominoes_1mid_J025R45_o1full_tdwroom_0004_map.png to path: maps/pilot_dominoes_1mid_J025R45_o1full_tdwroom_0004_map.png\n"
     ]
    },
    {
     "name": "stderr",
     "output_type": "stream",
     "text": [
      " 14%|█▍        | 42/302 [00:08<00:54,  4.75it/s]"
     ]
    },
    {
     "name": "stdout",
     "output_type": "stream",
     "text": [
      "Uploading /mindhive/nklab4/users/tom/bach_hackathon/cognitive-ai-benchmarking/stimuli/Dominoes/maps/pilot_dominoes_1mid_J025R45_o1full_tdwroom_0005_map.png to path: maps/pilot_dominoes_1mid_J025R45_o1full_tdwroom_0005_map.png\n"
     ]
    },
    {
     "name": "stderr",
     "output_type": "stream",
     "text": [
      " 14%|█▍        | 43/302 [00:08<00:55,  4.70it/s]"
     ]
    },
    {
     "name": "stdout",
     "output_type": "stream",
     "text": [
      "Uploading /mindhive/nklab4/users/tom/bach_hackathon/cognitive-ai-benchmarking/stimuli/Dominoes/maps/pilot_dominoes_1mid_J025R45_o1full_tdwroom_0006_map.png to path: maps/pilot_dominoes_1mid_J025R45_o1full_tdwroom_0006_map.png\n"
     ]
    },
    {
     "name": "stderr",
     "output_type": "stream",
     "text": [
      " 15%|█▍        | 44/302 [00:08<00:53,  4.80it/s]"
     ]
    },
    {
     "name": "stdout",
     "output_type": "stream",
     "text": [
      "Uploading /mindhive/nklab4/users/tom/bach_hackathon/cognitive-ai-benchmarking/stimuli/Dominoes/maps/pilot_dominoes_1mid_J025R45_o1full_tdwroom_0007_map.png to path: maps/pilot_dominoes_1mid_J025R45_o1full_tdwroom_0007_map.png\n",
      "Uploading /mindhive/nklab4/users/tom/bach_hackathon/cognitive-ai-benchmarking/stimuli/Dominoes/maps/pilot_dominoes_1mid_J025R45_o1full_tdwroom_0008_map.png to path: maps/pilot_dominoes_1mid_J025R45_o1full_tdwroom_0008_map.png\n"
     ]
    },
    {
     "name": "stderr",
     "output_type": "stream",
     "text": [
      " 15%|█▌        | 46/302 [00:09<00:51,  4.98it/s]"
     ]
    },
    {
     "name": "stdout",
     "output_type": "stream",
     "text": [
      "Uploading /mindhive/nklab4/users/tom/bach_hackathon/cognitive-ai-benchmarking/stimuli/Dominoes/maps/pilot_dominoes_1mid_J025R45_o1full_tdwroom_0009_map.png to path: maps/pilot_dominoes_1mid_J025R45_o1full_tdwroom_0009_map.png\n",
      "Uploading /mindhive/nklab4/users/tom/bach_hackathon/cognitive-ai-benchmarking/stimuli/Dominoes/maps/pilot_dominoes_1mid_J025R45_o1full_tdwroom_0010_map.png to path: maps/pilot_dominoes_1mid_J025R45_o1full_tdwroom_0010_map.png\n"
     ]
    },
    {
     "name": "stderr",
     "output_type": "stream",
     "text": [
      " 16%|█▌        | 48/302 [00:09<00:50,  5.07it/s]"
     ]
    },
    {
     "name": "stdout",
     "output_type": "stream",
     "text": [
      "Uploading /mindhive/nklab4/users/tom/bach_hackathon/cognitive-ai-benchmarking/stimuli/Dominoes/maps/pilot_dominoes_1mid_J025R45_o1full_tdwroom_0014_map.png to path: maps/pilot_dominoes_1mid_J025R45_o1full_tdwroom_0014_map.png\n"
     ]
    },
    {
     "name": "stderr",
     "output_type": "stream",
     "text": [
      " 16%|█▌        | 49/302 [00:09<00:51,  4.92it/s]"
     ]
    },
    {
     "name": "stdout",
     "output_type": "stream",
     "text": [
      "Uploading /mindhive/nklab4/users/tom/bach_hackathon/cognitive-ai-benchmarking/stimuli/Dominoes/maps/pilot_dominoes_1mid_J025R45_o1full_tdwroom_0015_map.png to path: maps/pilot_dominoes_1mid_J025R45_o1full_tdwroom_0015_map.png\n",
      "Uploading /mindhive/nklab4/users/tom/bach_hackathon/cognitive-ai-benchmarking/stimuli/Dominoes/maps/pilot_dominoes_1mid_J025R45_o1full_tdwroom_0017_map.png to path: maps/pilot_dominoes_1mid_J025R45_o1full_tdwroom_0017_map.png\n"
     ]
    },
    {
     "name": "stderr",
     "output_type": "stream",
     "text": [
      " 17%|█▋        | 51/302 [00:10<00:51,  4.91it/s]"
     ]
    },
    {
     "name": "stdout",
     "output_type": "stream",
     "text": [
      "Uploading /mindhive/nklab4/users/tom/bach_hackathon/cognitive-ai-benchmarking/stimuli/Dominoes/maps/pilot_dominoes_1mid_J025R45_o1full_tdwroom_0020_map.png to path: maps/pilot_dominoes_1mid_J025R45_o1full_tdwroom_0020_map.png\n",
      "Uploading /mindhive/nklab4/users/tom/bach_hackathon/cognitive-ai-benchmarking/stimuli/Dominoes/maps/pilot_dominoes_1mid_J025R45_o1full_tdwroom_0021_map.png to path: maps/pilot_dominoes_1mid_J025R45_o1full_tdwroom_0021_map.png\n"
     ]
    },
    {
     "name": "stderr",
     "output_type": "stream",
     "text": [
      " 18%|█▊        | 53/302 [00:10<00:49,  5.05it/s]"
     ]
    },
    {
     "name": "stdout",
     "output_type": "stream",
     "text": [
      "Uploading /mindhive/nklab4/users/tom/bach_hackathon/cognitive-ai-benchmarking/stimuli/Dominoes/maps/pilot_dominoes_1mid_J025R45_o1full_tdwroom_0023_map.png to path: maps/pilot_dominoes_1mid_J025R45_o1full_tdwroom_0023_map.png\n",
      "Uploading /mindhive/nklab4/users/tom/bach_hackathon/cognitive-ai-benchmarking/stimuli/Dominoes/maps/pilot_dominoes_1mid_J025R45_o1full_tdwroom_0024_map.png to path: maps/pilot_dominoes_1mid_J025R45_o1full_tdwroom_0024_map.png\n"
     ]
    },
    {
     "name": "stderr",
     "output_type": "stream",
     "text": [
      " 18%|█▊        | 55/302 [00:10<00:48,  5.07it/s]"
     ]
    },
    {
     "name": "stdout",
     "output_type": "stream",
     "text": [
      "Uploading /mindhive/nklab4/users/tom/bach_hackathon/cognitive-ai-benchmarking/stimuli/Dominoes/maps/pilot_dominoes_1mid_J025R45_o1full_tdwroom_0025_map.png to path: maps/pilot_dominoes_1mid_J025R45_o1full_tdwroom_0025_map.png\n",
      "Uploading /mindhive/nklab4/users/tom/bach_hackathon/cognitive-ai-benchmarking/stimuli/Dominoes/maps/pilot_dominoes_1mid_J025R45_o1full_tdwroom_0026_map.png to path: maps/pilot_dominoes_1mid_J025R45_o1full_tdwroom_0026_map.png\n"
     ]
    },
    {
     "name": "stderr",
     "output_type": "stream",
     "text": [
      " 19%|█▉        | 57/302 [00:11<00:48,  5.02it/s]"
     ]
    },
    {
     "name": "stdout",
     "output_type": "stream",
     "text": [
      "Uploading /mindhive/nklab4/users/tom/bach_hackathon/cognitive-ai-benchmarking/stimuli/Dominoes/maps/pilot_dominoes_1mid_J025R45_o1full_tdwroom_0028_map.png to path: maps/pilot_dominoes_1mid_J025R45_o1full_tdwroom_0028_map.png\n",
      "Uploading /mindhive/nklab4/users/tom/bach_hackathon/cognitive-ai-benchmarking/stimuli/Dominoes/maps/pilot_dominoes_2mid_J020R15_d3chairs_o1plants_tdwroom_0000_map.png to path: maps/pilot_dominoes_2mid_J020R15_d3chairs_o1plants_tdwroom_0000_map.png\n"
     ]
    },
    {
     "name": "stderr",
     "output_type": "stream",
     "text": [
      " 20%|█▉        | 59/302 [00:11<00:48,  4.99it/s]"
     ]
    },
    {
     "name": "stdout",
     "output_type": "stream",
     "text": [
      "Uploading /mindhive/nklab4/users/tom/bach_hackathon/cognitive-ai-benchmarking/stimuli/Dominoes/maps/pilot_dominoes_2mid_J020R15_d3chairs_o1plants_tdwroom_0001_map.png to path: maps/pilot_dominoes_2mid_J020R15_d3chairs_o1plants_tdwroom_0001_map.png\n"
     ]
    },
    {
     "name": "stderr",
     "output_type": "stream",
     "text": [
      " 20%|█▉        | 60/302 [00:12<00:51,  4.71it/s]"
     ]
    },
    {
     "name": "stdout",
     "output_type": "stream",
     "text": [
      "Uploading /mindhive/nklab4/users/tom/bach_hackathon/cognitive-ai-benchmarking/stimuli/Dominoes/maps/pilot_dominoes_2mid_J020R15_d3chairs_o1plants_tdwroom_0002_map.png to path: maps/pilot_dominoes_2mid_J020R15_d3chairs_o1plants_tdwroom_0002_map.png\n"
     ]
    },
    {
     "name": "stderr",
     "output_type": "stream",
     "text": [
      " 20%|██        | 61/302 [00:12<00:49,  4.86it/s]"
     ]
    },
    {
     "name": "stdout",
     "output_type": "stream",
     "text": [
      "Uploading /mindhive/nklab4/users/tom/bach_hackathon/cognitive-ai-benchmarking/stimuli/Dominoes/maps/pilot_dominoes_2mid_J020R15_d3chairs_o1plants_tdwroom_0004_map.png to path: maps/pilot_dominoes_2mid_J020R15_d3chairs_o1plants_tdwroom_0004_map.png\n",
      "Uploading /mindhive/nklab4/users/tom/bach_hackathon/cognitive-ai-benchmarking/stimuli/Dominoes/maps/pilot_dominoes_2mid_J020R15_d3chairs_o1plants_tdwroom_0005_map.png to path: maps/pilot_dominoes_2mid_J020R15_d3chairs_o1plants_tdwroom_0005_map.png\n"
     ]
    },
    {
     "name": "stderr",
     "output_type": "stream",
     "text": [
      " 21%|██        | 63/302 [00:12<00:47,  5.00it/s]"
     ]
    },
    {
     "name": "stdout",
     "output_type": "stream",
     "text": [
      "Uploading /mindhive/nklab4/users/tom/bach_hackathon/cognitive-ai-benchmarking/stimuli/Dominoes/maps/pilot_dominoes_2mid_J020R15_d3chairs_o1plants_tdwroom_0007_map.png to path: maps/pilot_dominoes_2mid_J020R15_d3chairs_o1plants_tdwroom_0007_map.png\n",
      "Uploading /mindhive/nklab4/users/tom/bach_hackathon/cognitive-ai-benchmarking/stimuli/Dominoes/maps/pilot_dominoes_2mid_J020R15_d3chairs_o1plants_tdwroom_0008_map.png to path: maps/pilot_dominoes_2mid_J020R15_d3chairs_o1plants_tdwroom_0008_map.png\n"
     ]
    },
    {
     "name": "stderr",
     "output_type": "stream",
     "text": [
      " 22%|██▏       | 65/302 [00:13<00:46,  5.05it/s]"
     ]
    },
    {
     "name": "stdout",
     "output_type": "stream",
     "text": [
      "Uploading /mindhive/nklab4/users/tom/bach_hackathon/cognitive-ai-benchmarking/stimuli/Dominoes/maps/pilot_dominoes_2mid_J020R15_d3chairs_o1plants_tdwroom_0009_map.png to path: maps/pilot_dominoes_2mid_J020R15_d3chairs_o1plants_tdwroom_0009_map.png\n",
      "Uploading /mindhive/nklab4/users/tom/bach_hackathon/cognitive-ai-benchmarking/stimuli/Dominoes/maps/pilot_dominoes_2mid_J020R15_d3chairs_o1plants_tdwroom_0012_map.png to path: maps/pilot_dominoes_2mid_J020R15_d3chairs_o1plants_tdwroom_0012_map.png\n"
     ]
    },
    {
     "name": "stderr",
     "output_type": "stream",
     "text": [
      " 22%|██▏       | 67/302 [00:13<00:47,  5.00it/s]"
     ]
    },
    {
     "name": "stdout",
     "output_type": "stream",
     "text": [
      "Uploading /mindhive/nklab4/users/tom/bach_hackathon/cognitive-ai-benchmarking/stimuli/Dominoes/maps/pilot_dominoes_2mid_J020R15_d3chairs_o1plants_tdwroom_0013_map.png to path: maps/pilot_dominoes_2mid_J020R15_d3chairs_o1plants_tdwroom_0013_map.png\n",
      "Uploading /mindhive/nklab4/users/tom/bach_hackathon/cognitive-ai-benchmarking/stimuli/Dominoes/maps/pilot_dominoes_2mid_J020R15_d3chairs_o1plants_tdwroom_0019_map.png to path: maps/pilot_dominoes_2mid_J020R15_d3chairs_o1plants_tdwroom_0019_map.png\n"
     ]
    },
    {
     "name": "stderr",
     "output_type": "stream",
     "text": [
      " 23%|██▎       | 69/302 [00:13<00:52,  4.48it/s]"
     ]
    },
    {
     "name": "stdout",
     "output_type": "stream",
     "text": [
      "Uploading /mindhive/nklab4/users/tom/bach_hackathon/cognitive-ai-benchmarking/stimuli/Dominoes/maps/pilot_dominoes_2mid_J020R15_d3chairs_o1plants_tdwroom_0020_map.png to path: maps/pilot_dominoes_2mid_J020R15_d3chairs_o1plants_tdwroom_0020_map.png\n",
      "Uploading /mindhive/nklab4/users/tom/bach_hackathon/cognitive-ai-benchmarking/stimuli/Dominoes/maps/pilot_dominoes_2mid_J020R15_d3chairs_o1plants_tdwroom_0021_map.png to path: maps/pilot_dominoes_2mid_J020R15_d3chairs_o1plants_tdwroom_0021_map.png\n"
     ]
    },
    {
     "name": "stderr",
     "output_type": "stream",
     "text": [
      " 24%|██▎       | 71/302 [00:14<00:48,  4.73it/s]"
     ]
    },
    {
     "name": "stdout",
     "output_type": "stream",
     "text": [
      "Uploading /mindhive/nklab4/users/tom/bach_hackathon/cognitive-ai-benchmarking/stimuli/Dominoes/maps/pilot_dominoes_2mid_J020R15_d3chairs_o1plants_tdwroom_0023_map.png to path: maps/pilot_dominoes_2mid_J020R15_d3chairs_o1plants_tdwroom_0023_map.png\n",
      "Uploading /mindhive/nklab4/users/tom/bach_hackathon/cognitive-ai-benchmarking/stimuli/Dominoes/maps/pilot_dominoes_2mid_J020R15_d3chairs_o1plants_tdwroom_0024_map.png to path: maps/pilot_dominoes_2mid_J020R15_d3chairs_o1plants_tdwroom_0024_map.png\n"
     ]
    },
    {
     "name": "stderr",
     "output_type": "stream",
     "text": [
      " 24%|██▍       | 73/302 [00:14<00:46,  4.92it/s]"
     ]
    },
    {
     "name": "stdout",
     "output_type": "stream",
     "text": [
      "Uploading /mindhive/nklab4/users/tom/bach_hackathon/cognitive-ai-benchmarking/stimuli/Dominoes/maps/pilot_dominoes_2mid_J020R15_d3chairs_o1plants_tdwroom_0028_map.png to path: maps/pilot_dominoes_2mid_J020R15_d3chairs_o1plants_tdwroom_0028_map.png\n",
      "Uploading /mindhive/nklab4/users/tom/bach_hackathon/cognitive-ai-benchmarking/stimuli/Dominoes/maps/pilot_dominoes_2mid_J020R15_d3chairs_o1plants_tdwroom_2_0002_map.png to path: maps/pilot_dominoes_2mid_J020R15_d3chairs_o1plants_tdwroom_2_0002_map.png\n"
     ]
    },
    {
     "name": "stderr",
     "output_type": "stream",
     "text": [
      " 25%|██▍       | 75/302 [00:15<00:44,  5.10it/s]"
     ]
    },
    {
     "name": "stdout",
     "output_type": "stream",
     "text": [
      "Uploading /mindhive/nklab4/users/tom/bach_hackathon/cognitive-ai-benchmarking/stimuli/Dominoes/maps/pilot_dominoes_2mid_J020R15_d3chairs_o1plants_tdwroom_2_0003_map.png to path: maps/pilot_dominoes_2mid_J020R15_d3chairs_o1plants_tdwroom_2_0003_map.png\n"
     ]
    },
    {
     "name": "stderr",
     "output_type": "stream",
     "text": [
      " 25%|██▌       | 76/302 [00:15<00:45,  4.98it/s]"
     ]
    },
    {
     "name": "stdout",
     "output_type": "stream",
     "text": [
      "Uploading /mindhive/nklab4/users/tom/bach_hackathon/cognitive-ai-benchmarking/stimuli/Dominoes/maps/pilot_dominoes_2mid_J020R15_d3chairs_o1plants_tdwroom_2_0006_map.png to path: maps/pilot_dominoes_2mid_J020R15_d3chairs_o1plants_tdwroom_2_0006_map.png\n",
      "Uploading /mindhive/nklab4/users/tom/bach_hackathon/cognitive-ai-benchmarking/stimuli/Dominoes/maps/pilot_dominoes_2mid_J020R15_d3chairs_o1plants_tdwroom_2_0007_map.png to path: maps/pilot_dominoes_2mid_J020R15_d3chairs_o1plants_tdwroom_2_0007_map.png\n"
     ]
    },
    {
     "name": "stderr",
     "output_type": "stream",
     "text": [
      " 26%|██▌       | 78/302 [00:15<00:43,  5.09it/s]"
     ]
    },
    {
     "name": "stdout",
     "output_type": "stream",
     "text": [
      "Uploading /mindhive/nklab4/users/tom/bach_hackathon/cognitive-ai-benchmarking/stimuli/Dominoes/maps/pilot_dominoes_2mid_J020R15_d3chairs_o1plants_tdwroom_2_0008_map.png to path: maps/pilot_dominoes_2mid_J020R15_d3chairs_o1plants_tdwroom_2_0008_map.png\n",
      "Uploading /mindhive/nklab4/users/tom/bach_hackathon/cognitive-ai-benchmarking/stimuli/Dominoes/maps/pilot_dominoes_2mid_J020R15_d3chairs_o1plants_tdwroom_2_0009_map.png to path: maps/pilot_dominoes_2mid_J020R15_d3chairs_o1plants_tdwroom_2_0009_map.png\n"
     ]
    },
    {
     "name": "stderr",
     "output_type": "stream",
     "text": [
      " 26%|██▋       | 80/302 [00:16<00:43,  5.10it/s]"
     ]
    },
    {
     "name": "stdout",
     "output_type": "stream",
     "text": [
      "Uploading /mindhive/nklab4/users/tom/bach_hackathon/cognitive-ai-benchmarking/stimuli/Dominoes/maps/pilot_dominoes_2mid_J020R15_d3chairs_o1plants_tdwroom_2_0010_map.png to path: maps/pilot_dominoes_2mid_J020R15_d3chairs_o1plants_tdwroom_2_0010_map.png\n",
      "Uploading /mindhive/nklab4/users/tom/bach_hackathon/cognitive-ai-benchmarking/stimuli/Dominoes/maps/pilot_dominoes_2mid_J020R15_d3chairs_o1plants_tdwroom_2_0011_map.png to path: maps/pilot_dominoes_2mid_J020R15_d3chairs_o1plants_tdwroom_2_0011_map.png\n"
     ]
    },
    {
     "name": "stderr",
     "output_type": "stream",
     "text": [
      " 27%|██▋       | 82/302 [00:16<00:42,  5.16it/s]"
     ]
    },
    {
     "name": "stdout",
     "output_type": "stream",
     "text": [
      "Uploading /mindhive/nklab4/users/tom/bach_hackathon/cognitive-ai-benchmarking/stimuli/Dominoes/maps/pilot_dominoes_2mid_J020R15_d3chairs_o1plants_tdwroom_2_0012_map.png to path: maps/pilot_dominoes_2mid_J020R15_d3chairs_o1plants_tdwroom_2_0012_map.png\n",
      "Uploading /mindhive/nklab4/users/tom/bach_hackathon/cognitive-ai-benchmarking/stimuli/Dominoes/maps/pilot_dominoes_2mid_J020R15_d3chairs_o1plants_tdwroom_2_0016_map.png to path: maps/pilot_dominoes_2mid_J020R15_d3chairs_o1plants_tdwroom_2_0016_map.png\n"
     ]
    },
    {
     "name": "stderr",
     "output_type": "stream",
     "text": [
      " 28%|██▊       | 84/302 [00:16<00:42,  5.14it/s]"
     ]
    },
    {
     "name": "stdout",
     "output_type": "stream",
     "text": [
      "Uploading /mindhive/nklab4/users/tom/bach_hackathon/cognitive-ai-benchmarking/stimuli/Dominoes/maps/pilot_dominoes_2mid_J020R15_d3chairs_o1plants_tdwroom_2_0017_map.png to path: maps/pilot_dominoes_2mid_J020R15_d3chairs_o1plants_tdwroom_2_0017_map.png\n",
      "Uploading /mindhive/nklab4/users/tom/bach_hackathon/cognitive-ai-benchmarking/stimuli/Dominoes/maps/pilot_dominoes_2mid_J020R15_d3chairs_o1plants_tdwroom_2_0020_map.png to path: maps/pilot_dominoes_2mid_J020R15_d3chairs_o1plants_tdwroom_2_0020_map.png\n"
     ]
    },
    {
     "name": "stderr",
     "output_type": "stream",
     "text": [
      " 28%|██▊       | 86/302 [00:17<00:41,  5.15it/s]"
     ]
    },
    {
     "name": "stdout",
     "output_type": "stream",
     "text": [
      "Uploading /mindhive/nklab4/users/tom/bach_hackathon/cognitive-ai-benchmarking/stimuli/Dominoes/maps/pilot_dominoes_2mid_J020R15_d3chairs_o1plants_tdwroom_2_0021_map.png to path: maps/pilot_dominoes_2mid_J020R15_d3chairs_o1plants_tdwroom_2_0021_map.png\n",
      "Uploading /mindhive/nklab4/users/tom/bach_hackathon/cognitive-ai-benchmarking/stimuli/Dominoes/maps/pilot_dominoes_2mid_J020R15_d3chairs_o1plants_tdwroom_2_0022_map.png to path: maps/pilot_dominoes_2mid_J020R15_d3chairs_o1plants_tdwroom_2_0022_map.png\n"
     ]
    },
    {
     "name": "stderr",
     "output_type": "stream",
     "text": [
      " 29%|██▉       | 88/302 [00:17<00:41,  5.13it/s]"
     ]
    },
    {
     "name": "stdout",
     "output_type": "stream",
     "text": [
      "Uploading /mindhive/nklab4/users/tom/bach_hackathon/cognitive-ai-benchmarking/stimuli/Dominoes/maps/pilot_dominoes_2mid_J020R15_d3chairs_o1plants_tdwroom_2_0023_map.png to path: maps/pilot_dominoes_2mid_J020R15_d3chairs_o1plants_tdwroom_2_0023_map.png\n",
      "Uploading /mindhive/nklab4/users/tom/bach_hackathon/cognitive-ai-benchmarking/stimuli/Dominoes/maps/pilot_dominoes_2mid_J020R15_d3chairs_o1plants_tdwroom_2_0024_map.png to path: maps/pilot_dominoes_2mid_J020R15_d3chairs_o1plants_tdwroom_2_0024_map.png\n"
     ]
    },
    {
     "name": "stderr",
     "output_type": "stream",
     "text": [
      " 30%|██▉       | 90/302 [00:18<00:42,  5.02it/s]"
     ]
    },
    {
     "name": "stdout",
     "output_type": "stream",
     "text": [
      "Uploading /mindhive/nklab4/users/tom/bach_hackathon/cognitive-ai-benchmarking/stimuli/Dominoes/maps/pilot_dominoes_2mid_J020R15_d3chairs_o1plants_tdwroom_2_0025_map.png to path: maps/pilot_dominoes_2mid_J020R15_d3chairs_o1plants_tdwroom_2_0025_map.png\n"
     ]
    },
    {
     "name": "stderr",
     "output_type": "stream",
     "text": [
      " 30%|███       | 91/302 [00:18<00:41,  5.06it/s]"
     ]
    },
    {
     "name": "stdout",
     "output_type": "stream",
     "text": [
      "Uploading /mindhive/nklab4/users/tom/bach_hackathon/cognitive-ai-benchmarking/stimuli/Dominoes/maps/pilot_dominoes_2mid_J020R15_d3chairs_o1plants_tdwroom_2_0026_map.png to path: maps/pilot_dominoes_2mid_J020R15_d3chairs_o1plants_tdwroom_2_0026_map.png\n",
      "Uploading /mindhive/nklab4/users/tom/bach_hackathon/cognitive-ai-benchmarking/stimuli/Dominoes/maps/pilot_dominoes_2mid_J020R15_d3chairs_o1plants_tdwroom_2_0028_map.png to path: maps/pilot_dominoes_2mid_J020R15_d3chairs_o1plants_tdwroom_2_0028_map.png\n"
     ]
    },
    {
     "name": "stderr",
     "output_type": "stream",
     "text": [
      " 31%|███       | 93/302 [00:18<00:41,  5.03it/s]"
     ]
    },
    {
     "name": "stdout",
     "output_type": "stream",
     "text": [
      "Uploading /mindhive/nklab4/users/tom/bach_hackathon/cognitive-ai-benchmarking/stimuli/Dominoes/maps/pilot_dominoes_2mid_J020R15_d3chairs_o1plants_tdwroom_2_0029_map.png to path: maps/pilot_dominoes_2mid_J020R15_d3chairs_o1plants_tdwroom_2_0029_map.png\n"
     ]
    },
    {
     "name": "stderr",
     "output_type": "stream",
     "text": [
      " 31%|███       | 94/302 [00:18<00:41,  5.05it/s]"
     ]
    },
    {
     "name": "stdout",
     "output_type": "stream",
     "text": [
      "Uploading /mindhive/nklab4/users/tom/bach_hackathon/cognitive-ai-benchmarking/stimuli/Dominoes/maps/pilot_dominoes_2mid_J025R30_tdwroom_0000_map.png to path: maps/pilot_dominoes_2mid_J025R30_tdwroom_0000_map.png\n",
      "Uploading /mindhive/nklab4/users/tom/bach_hackathon/cognitive-ai-benchmarking/stimuli/Dominoes/maps/pilot_dominoes_2mid_J025R30_tdwroom_0003_map.png to path: maps/pilot_dominoes_2mid_J025R30_tdwroom_0003_map.png\n"
     ]
    },
    {
     "name": "stderr",
     "output_type": "stream",
     "text": [
      " 32%|███▏      | 96/302 [00:19<00:39,  5.18it/s]"
     ]
    },
    {
     "name": "stdout",
     "output_type": "stream",
     "text": [
      "Uploading /mindhive/nklab4/users/tom/bach_hackathon/cognitive-ai-benchmarking/stimuli/Dominoes/maps/pilot_dominoes_2mid_J025R30_tdwroom_0005_map.png to path: maps/pilot_dominoes_2mid_J025R30_tdwroom_0005_map.png\n",
      "Uploading /mindhive/nklab4/users/tom/bach_hackathon/cognitive-ai-benchmarking/stimuli/Dominoes/maps/pilot_dominoes_2mid_J025R30_tdwroom_0006_map.png to path: maps/pilot_dominoes_2mid_J025R30_tdwroom_0006_map.png\n"
     ]
    },
    {
     "name": "stderr",
     "output_type": "stream",
     "text": [
      " 32%|███▏      | 98/302 [00:19<00:39,  5.13it/s]"
     ]
    },
    {
     "name": "stdout",
     "output_type": "stream",
     "text": [
      "Uploading /mindhive/nklab4/users/tom/bach_hackathon/cognitive-ai-benchmarking/stimuli/Dominoes/maps/pilot_dominoes_2mid_J025R30_tdwroom_0007_map.png to path: maps/pilot_dominoes_2mid_J025R30_tdwroom_0007_map.png\n",
      "Uploading /mindhive/nklab4/users/tom/bach_hackathon/cognitive-ai-benchmarking/stimuli/Dominoes/maps/pilot_dominoes_2mid_J025R30_tdwroom_0008_map.png to path: maps/pilot_dominoes_2mid_J025R30_tdwroom_0008_map.png\n"
     ]
    },
    {
     "name": "stderr",
     "output_type": "stream",
     "text": [
      " 33%|███▎      | 100/302 [00:20<00:40,  4.96it/s]"
     ]
    },
    {
     "name": "stdout",
     "output_type": "stream",
     "text": [
      "Uploading /mindhive/nklab4/users/tom/bach_hackathon/cognitive-ai-benchmarking/stimuli/Dominoes/maps/pilot_dominoes_2mid_J025R30_tdwroom_0012_map.png to path: maps/pilot_dominoes_2mid_J025R30_tdwroom_0012_map.png\n",
      "Uploading /mindhive/nklab4/users/tom/bach_hackathon/cognitive-ai-benchmarking/stimuli/Dominoes/maps/pilot_dominoes_2mid_J025R30_tdwroom_0014_map.png to path: maps/pilot_dominoes_2mid_J025R30_tdwroom_0014_map.png\n"
     ]
    },
    {
     "name": "stderr",
     "output_type": "stream",
     "text": [
      " 34%|███▍      | 102/302 [00:20<00:43,  4.55it/s]"
     ]
    },
    {
     "name": "stdout",
     "output_type": "stream",
     "text": [
      "Uploading /mindhive/nklab4/users/tom/bach_hackathon/cognitive-ai-benchmarking/stimuli/Dominoes/maps/pilot_dominoes_2mid_J025R30_tdwroom_0015_map.png to path: maps/pilot_dominoes_2mid_J025R30_tdwroom_0015_map.png\n",
      "Uploading /mindhive/nklab4/users/tom/bach_hackathon/cognitive-ai-benchmarking/stimuli/Dominoes/maps/pilot_dominoes_2mid_J025R30_tdwroom_0016_map.png to path: maps/pilot_dominoes_2mid_J025R30_tdwroom_0016_map.png\n"
     ]
    },
    {
     "name": "stderr",
     "output_type": "stream",
     "text": [
      " 34%|███▍      | 104/302 [00:20<00:41,  4.73it/s]"
     ]
    },
    {
     "name": "stdout",
     "output_type": "stream",
     "text": [
      "Uploading /mindhive/nklab4/users/tom/bach_hackathon/cognitive-ai-benchmarking/stimuli/Dominoes/maps/pilot_dominoes_2mid_J025R30_tdwroom_0018_map.png to path: maps/pilot_dominoes_2mid_J025R30_tdwroom_0018_map.png\n",
      "Uploading /mindhive/nklab4/users/tom/bach_hackathon/cognitive-ai-benchmarking/stimuli/Dominoes/maps/pilot_dominoes_2mid_J025R30_tdwroom_0019_map.png to path: maps/pilot_dominoes_2mid_J025R30_tdwroom_0019_map.png\n"
     ]
    },
    {
     "name": "stderr",
     "output_type": "stream",
     "text": [
      " 35%|███▌      | 106/302 [00:21<00:40,  4.88it/s]"
     ]
    },
    {
     "name": "stdout",
     "output_type": "stream",
     "text": [
      "Uploading /mindhive/nklab4/users/tom/bach_hackathon/cognitive-ai-benchmarking/stimuli/Dominoes/maps/pilot_dominoes_2mid_J025R30_tdwroom_0022_map.png to path: maps/pilot_dominoes_2mid_J025R30_tdwroom_0022_map.png\n",
      "Uploading /mindhive/nklab4/users/tom/bach_hackathon/cognitive-ai-benchmarking/stimuli/Dominoes/maps/pilot_dominoes_2mid_J025R30_tdwroom_0024_map.png to path: maps/pilot_dominoes_2mid_J025R30_tdwroom_0024_map.png\n"
     ]
    },
    {
     "name": "stderr",
     "output_type": "stream",
     "text": [
      " 36%|███▌      | 108/302 [00:21<00:38,  5.03it/s]"
     ]
    },
    {
     "name": "stdout",
     "output_type": "stream",
     "text": [
      "Uploading /mindhive/nklab4/users/tom/bach_hackathon/cognitive-ai-benchmarking/stimuli/Dominoes/maps/pilot_dominoes_2mid_J025R30_tdwroom_0027_map.png to path: maps/pilot_dominoes_2mid_J025R30_tdwroom_0027_map.png\n",
      "Uploading /mindhive/nklab4/users/tom/bach_hackathon/cognitive-ai-benchmarking/stimuli/Dominoes/maps/pilot_dominoes_2mid_J025R30_tdwroom_0028_map.png to path: maps/pilot_dominoes_2mid_J025R30_tdwroom_0028_map.png\n"
     ]
    },
    {
     "name": "stderr",
     "output_type": "stream",
     "text": [
      " 36%|███▋      | 110/302 [00:22<00:38,  5.01it/s]"
     ]
    },
    {
     "name": "stdout",
     "output_type": "stream",
     "text": [
      "Uploading /mindhive/nklab4/users/tom/bach_hackathon/cognitive-ai-benchmarking/stimuli/Dominoes/maps/pilot_dominoes_2mid_J025R30_tdwroom_0029_map.png to path: maps/pilot_dominoes_2mid_J025R30_tdwroom_0029_map.png\n"
     ]
    },
    {
     "name": "stderr",
     "output_type": "stream",
     "text": [
      " 37%|███▋      | 111/302 [00:22<00:38,  5.01it/s]"
     ]
    },
    {
     "name": "stdout",
     "output_type": "stream",
     "text": [
      "Uploading /mindhive/nklab4/users/tom/bach_hackathon/cognitive-ai-benchmarking/stimuli/Dominoes/maps/pilot_dominoes_4midRM1_boxroom_0001_map.png to path: maps/pilot_dominoes_4midRM1_boxroom_0001_map.png\n",
      "Uploading /mindhive/nklab4/users/tom/bach_hackathon/cognitive-ai-benchmarking/stimuli/Dominoes/maps/pilot_dominoes_4midRM1_boxroom_0002_map.png to path: maps/pilot_dominoes_4midRM1_boxroom_0002_map.png\n"
     ]
    },
    {
     "name": "stderr",
     "output_type": "stream",
     "text": [
      " 37%|███▋      | 113/302 [00:22<00:36,  5.17it/s]"
     ]
    },
    {
     "name": "stdout",
     "output_type": "stream",
     "text": [
      "Uploading /mindhive/nklab4/users/tom/bach_hackathon/cognitive-ai-benchmarking/stimuli/Dominoes/maps/pilot_dominoes_4midRM1_boxroom_0003_map.png to path: maps/pilot_dominoes_4midRM1_boxroom_0003_map.png\n",
      "Uploading /mindhive/nklab4/users/tom/bach_hackathon/cognitive-ai-benchmarking/stimuli/Dominoes/maps/pilot_dominoes_4midRM1_boxroom_2_0000_map.png to path: maps/pilot_dominoes_4midRM1_boxroom_2_0000_map.png\n"
     ]
    },
    {
     "name": "stderr",
     "output_type": "stream",
     "text": [
      " 38%|███▊      | 115/302 [00:23<00:35,  5.21it/s]"
     ]
    },
    {
     "name": "stdout",
     "output_type": "stream",
     "text": [
      "Uploading /mindhive/nklab4/users/tom/bach_hackathon/cognitive-ai-benchmarking/stimuli/Dominoes/maps/pilot_dominoes_4midRM1_boxroom_2_0004_map.png to path: maps/pilot_dominoes_4midRM1_boxroom_2_0004_map.png\n",
      "Uploading /mindhive/nklab4/users/tom/bach_hackathon/cognitive-ai-benchmarking/stimuli/Dominoes/maps/pilot_dominoes_4midRM1_boxroom_2_0005_map.png to path: maps/pilot_dominoes_4midRM1_boxroom_2_0005_map.png\n"
     ]
    },
    {
     "name": "stderr",
     "output_type": "stream",
     "text": [
      " 39%|███▊      | 117/302 [00:23<00:35,  5.18it/s]"
     ]
    },
    {
     "name": "stdout",
     "output_type": "stream",
     "text": [
      "Uploading /mindhive/nklab4/users/tom/bach_hackathon/cognitive-ai-benchmarking/stimuli/Dominoes/maps/pilot_dominoes_4midRM1_tdwroom_0000_map.png to path: maps/pilot_dominoes_4midRM1_tdwroom_0000_map.png\n",
      "Uploading /mindhive/nklab4/users/tom/bach_hackathon/cognitive-ai-benchmarking/stimuli/Dominoes/maps/pilot_dominoes_4midRM1_tdwroom_0001_map.png to path: maps/pilot_dominoes_4midRM1_tdwroom_0001_map.png\n"
     ]
    },
    {
     "name": "stderr",
     "output_type": "stream",
     "text": [
      " 39%|███▉      | 119/302 [00:23<00:37,  4.85it/s]"
     ]
    },
    {
     "name": "stdout",
     "output_type": "stream",
     "text": [
      "Uploading /mindhive/nklab4/users/tom/bach_hackathon/cognitive-ai-benchmarking/stimuli/Dominoes/maps/pilot_dominoes_4midRM1_tdwroom_0003_map.png to path: maps/pilot_dominoes_4midRM1_tdwroom_0003_map.png\n"
     ]
    },
    {
     "name": "stderr",
     "output_type": "stream",
     "text": [
      " 40%|███▉      | 120/302 [00:24<00:36,  4.98it/s]"
     ]
    },
    {
     "name": "stdout",
     "output_type": "stream",
     "text": [
      "Uploading /mindhive/nklab4/users/tom/bach_hackathon/cognitive-ai-benchmarking/stimuli/Dominoes/maps/pilot_dominoes_4midRM1_tdwroom_0004_map.png to path: maps/pilot_dominoes_4midRM1_tdwroom_0004_map.png\n",
      "Uploading /mindhive/nklab4/users/tom/bach_hackathon/cognitive-ai-benchmarking/stimuli/Dominoes/maps/pilot_dominoes_4midRM1_tdwroom_0006_map.png to path: maps/pilot_dominoes_4midRM1_tdwroom_0006_map.png\n"
     ]
    },
    {
     "name": "stderr",
     "output_type": "stream",
     "text": [
      " 40%|████      | 122/302 [00:24<00:35,  5.06it/s]"
     ]
    },
    {
     "name": "stdout",
     "output_type": "stream",
     "text": [
      "Uploading /mindhive/nklab4/users/tom/bach_hackathon/cognitive-ai-benchmarking/stimuli/Dominoes/maps/pilot_dominoes_4midRM1_tdwroom_2_0002_map.png to path: maps/pilot_dominoes_4midRM1_tdwroom_2_0002_map.png\n",
      "Uploading /mindhive/nklab4/users/tom/bach_hackathon/cognitive-ai-benchmarking/stimuli/Dominoes/maps/pilot_dominoes_4mid_boxroom_0001_map.png to path: maps/pilot_dominoes_4mid_boxroom_0001_map.png\n"
     ]
    },
    {
     "name": "stderr",
     "output_type": "stream",
     "text": [
      " 41%|████      | 124/302 [00:24<00:35,  5.03it/s]"
     ]
    },
    {
     "name": "stdout",
     "output_type": "stream",
     "text": [
      "Uploading /mindhive/nklab4/users/tom/bach_hackathon/cognitive-ai-benchmarking/stimuli/Dominoes/maps/pilot_dominoes_4mid_boxroom_0002_map.png to path: maps/pilot_dominoes_4mid_boxroom_0002_map.png\n",
      "Uploading /mindhive/nklab4/users/tom/bach_hackathon/cognitive-ai-benchmarking/stimuli/Dominoes/maps/pilot_dominoes_4mid_boxroom_0003_map.png to path: maps/pilot_dominoes_4mid_boxroom_0003_map.png\n"
     ]
    },
    {
     "name": "stderr",
     "output_type": "stream",
     "text": [
      " 42%|████▏     | 126/302 [00:25<00:34,  5.11it/s]"
     ]
    },
    {
     "name": "stdout",
     "output_type": "stream",
     "text": [
      "Uploading /mindhive/nklab4/users/tom/bach_hackathon/cognitive-ai-benchmarking/stimuli/Dominoes/maps/pilot_dominoes_4mid_boxroom_0006_map.png to path: maps/pilot_dominoes_4mid_boxroom_0006_map.png\n",
      "Uploading /mindhive/nklab4/users/tom/bach_hackathon/cognitive-ai-benchmarking/stimuli/Dominoes/maps/pilot_dominoes_4mid_boxroom_2_0000_map.png to path: maps/pilot_dominoes_4mid_boxroom_2_0000_map.png\n"
     ]
    },
    {
     "name": "stderr",
     "output_type": "stream",
     "text": [
      " 42%|████▏     | 128/302 [00:25<00:34,  5.09it/s]"
     ]
    },
    {
     "name": "stdout",
     "output_type": "stream",
     "text": [
      "Uploading /mindhive/nklab4/users/tom/bach_hackathon/cognitive-ai-benchmarking/stimuli/Dominoes/maps/pilot_dominoes_4mid_boxroom_2_0002_map.png to path: maps/pilot_dominoes_4mid_boxroom_2_0002_map.png\n",
      "Uploading /mindhive/nklab4/users/tom/bach_hackathon/cognitive-ai-benchmarking/stimuli/Dominoes/maps/pilot_dominoes_4mid_boxroom_2_0003_map.png to path: maps/pilot_dominoes_4mid_boxroom_2_0003_map.png\n"
     ]
    },
    {
     "name": "stderr",
     "output_type": "stream",
     "text": [
      " 43%|████▎     | 130/302 [00:26<00:34,  4.99it/s]"
     ]
    },
    {
     "name": "stdout",
     "output_type": "stream",
     "text": [
      "Uploading /mindhive/nklab4/users/tom/bach_hackathon/cognitive-ai-benchmarking/stimuli/Dominoes/maps/pilot_dominoes_4mid_boxroom_2_0004_map.png to path: maps/pilot_dominoes_4mid_boxroom_2_0004_map.png\n",
      "Uploading /mindhive/nklab4/users/tom/bach_hackathon/cognitive-ai-benchmarking/stimuli/Dominoes/maps/pilot_dominoes_4mid_tdwroom_0001_map.png to path: maps/pilot_dominoes_4mid_tdwroom_0001_map.png\n"
     ]
    },
    {
     "name": "stderr",
     "output_type": "stream",
     "text": [
      " 44%|████▎     | 132/302 [00:26<00:34,  4.92it/s]"
     ]
    },
    {
     "name": "stdout",
     "output_type": "stream",
     "text": [
      "Uploading /mindhive/nklab4/users/tom/bach_hackathon/cognitive-ai-benchmarking/stimuli/Dominoes/maps/pilot_dominoes_4mid_tdwroom_0002_map.png to path: maps/pilot_dominoes_4mid_tdwroom_0002_map.png\n"
     ]
    },
    {
     "name": "stderr",
     "output_type": "stream",
     "text": [
      " 44%|████▍     | 133/302 [00:26<00:34,  4.96it/s]"
     ]
    },
    {
     "name": "stdout",
     "output_type": "stream",
     "text": [
      "Uploading /mindhive/nklab4/users/tom/bach_hackathon/cognitive-ai-benchmarking/stimuli/Dominoes/maps/pilot_dominoes_4mid_tdwroom_0005_map.png to path: maps/pilot_dominoes_4mid_tdwroom_0005_map.png\n",
      "Uploading /mindhive/nklab4/users/tom/bach_hackathon/cognitive-ai-benchmarking/stimuli/Dominoes/maps/pilot_dominoes_SJ020_d3chairs_o1plants_tdwroom_0002_map.png to path: maps/pilot_dominoes_SJ020_d3chairs_o1plants_tdwroom_0002_map.png\n"
     ]
    },
    {
     "name": "stderr",
     "output_type": "stream",
     "text": [
      " 45%|████▍     | 135/302 [00:27<00:38,  4.30it/s]"
     ]
    },
    {
     "name": "stdout",
     "output_type": "stream",
     "text": [
      "Uploading /mindhive/nklab4/users/tom/bach_hackathon/cognitive-ai-benchmarking/stimuli/Dominoes/maps/pilot_dominoes_SJ020_d3chairs_o1plants_tdwroom_0005_map.png to path: maps/pilot_dominoes_SJ020_d3chairs_o1plants_tdwroom_0005_map.png\n",
      "Uploading /mindhive/nklab4/users/tom/bach_hackathon/cognitive-ai-benchmarking/stimuli/Dominoes/maps/pilot_dominoes_SJ020_d3chairs_o1plants_tdwroom_0006_map.png to path: maps/pilot_dominoes_SJ020_d3chairs_o1plants_tdwroom_0006_map.png\n"
     ]
    },
    {
     "name": "stderr",
     "output_type": "stream",
     "text": [
      " 45%|████▌     | 137/302 [00:27<00:34,  4.73it/s]"
     ]
    },
    {
     "name": "stdout",
     "output_type": "stream",
     "text": [
      "Uploading /mindhive/nklab4/users/tom/bach_hackathon/cognitive-ai-benchmarking/stimuli/Dominoes/maps/pilot_dominoes_SJ020_d3chairs_o1plants_tdwroom_0007_map.png to path: maps/pilot_dominoes_SJ020_d3chairs_o1plants_tdwroom_0007_map.png\n",
      "Uploading /mindhive/nklab4/users/tom/bach_hackathon/cognitive-ai-benchmarking/stimuli/Dominoes/maps/pilot_dominoes_SJ020_d3chairs_o1plants_tdwroom_0008_map.png to path: maps/pilot_dominoes_SJ020_d3chairs_o1plants_tdwroom_0008_map.png\n"
     ]
    },
    {
     "name": "stderr",
     "output_type": "stream",
     "text": [
      " 46%|████▌     | 139/302 [00:27<00:33,  4.93it/s]"
     ]
    },
    {
     "name": "stdout",
     "output_type": "stream",
     "text": [
      "Uploading /mindhive/nklab4/users/tom/bach_hackathon/cognitive-ai-benchmarking/stimuli/Dominoes/maps/pilot_dominoes_SJ020_d3chairs_o1plants_tdwroom_0010_map.png to path: maps/pilot_dominoes_SJ020_d3chairs_o1plants_tdwroom_0010_map.png\n",
      "Uploading /mindhive/nklab4/users/tom/bach_hackathon/cognitive-ai-benchmarking/stimuli/Dominoes/maps/pilot_dominoes_SJ020_d3chairs_o1plants_tdwroom_0011_map.png to path: maps/pilot_dominoes_SJ020_d3chairs_o1plants_tdwroom_0011_map.png\n"
     ]
    },
    {
     "name": "stderr",
     "output_type": "stream",
     "text": [
      " 47%|████▋     | 141/302 [00:28<00:32,  5.00it/s]"
     ]
    },
    {
     "name": "stdout",
     "output_type": "stream",
     "text": [
      "Uploading /mindhive/nklab4/users/tom/bach_hackathon/cognitive-ai-benchmarking/stimuli/Dominoes/maps/pilot_dominoes_SJ020_d3chairs_o1plants_tdwroom_0012_map.png to path: maps/pilot_dominoes_SJ020_d3chairs_o1plants_tdwroom_0012_map.png\n",
      "Uploading /mindhive/nklab4/users/tom/bach_hackathon/cognitive-ai-benchmarking/stimuli/Dominoes/maps/pilot_dominoes_SJ020_d3chairs_o1plants_tdwroom_0013_map.png to path: maps/pilot_dominoes_SJ020_d3chairs_o1plants_tdwroom_0013_map.png\n"
     ]
    },
    {
     "name": "stderr",
     "output_type": "stream",
     "text": [
      " 47%|████▋     | 143/302 [00:28<00:32,  4.93it/s]"
     ]
    },
    {
     "name": "stdout",
     "output_type": "stream",
     "text": [
      "Uploading /mindhive/nklab4/users/tom/bach_hackathon/cognitive-ai-benchmarking/stimuli/Dominoes/maps/pilot_dominoes_SJ020_d3chairs_o1plants_tdwroom_0015_map.png to path: maps/pilot_dominoes_SJ020_d3chairs_o1plants_tdwroom_0015_map.png\n"
     ]
    },
    {
     "name": "stderr",
     "output_type": "stream",
     "text": [
      " 48%|████▊     | 144/302 [00:28<00:31,  4.98it/s]"
     ]
    },
    {
     "name": "stdout",
     "output_type": "stream",
     "text": [
      "Uploading /mindhive/nklab4/users/tom/bach_hackathon/cognitive-ai-benchmarking/stimuli/Dominoes/maps/pilot_dominoes_SJ020_d3chairs_o1plants_tdwroom_0016_map.png to path: maps/pilot_dominoes_SJ020_d3chairs_o1plants_tdwroom_0016_map.png\n",
      "Uploading /mindhive/nklab4/users/tom/bach_hackathon/cognitive-ai-benchmarking/stimuli/Dominoes/maps/pilot_dominoes_SJ020_d3chairs_o1plants_tdwroom_0018_map.png to path: maps/pilot_dominoes_SJ020_d3chairs_o1plants_tdwroom_0018_map.png\n"
     ]
    },
    {
     "name": "stderr",
     "output_type": "stream",
     "text": [
      " 48%|████▊     | 146/302 [00:29<00:30,  5.07it/s]"
     ]
    },
    {
     "name": "stdout",
     "output_type": "stream",
     "text": [
      "Uploading /mindhive/nklab4/users/tom/bach_hackathon/cognitive-ai-benchmarking/stimuli/Dominoes/maps/pilot_dominoes_SJ020_d3chairs_o1plants_tdwroom_0021_map.png to path: maps/pilot_dominoes_SJ020_d3chairs_o1plants_tdwroom_0021_map.png\n",
      "Uploading /mindhive/nklab4/users/tom/bach_hackathon/cognitive-ai-benchmarking/stimuli/Dominoes/maps/pilot_dominoes_SJ020_d3chairs_o1plants_tdwroom_0022_map.png to path: maps/pilot_dominoes_SJ020_d3chairs_o1plants_tdwroom_0022_map.png\n"
     ]
    },
    {
     "name": "stderr",
     "output_type": "stream",
     "text": [
      " 49%|████▉     | 148/302 [00:29<00:30,  5.09it/s]"
     ]
    },
    {
     "name": "stdout",
     "output_type": "stream",
     "text": [
      "Uploading /mindhive/nklab4/users/tom/bach_hackathon/cognitive-ai-benchmarking/stimuli/Dominoes/maps/pilot_dominoes_SJ020_d3chairs_o1plants_tdwroom_0023_map.png to path: maps/pilot_dominoes_SJ020_d3chairs_o1plants_tdwroom_0023_map.png\n",
      "Uploading /mindhive/nklab4/users/tom/bach_hackathon/cognitive-ai-benchmarking/stimuli/Dominoes/maps/pilot_dominoes_SJ020_d3chairs_o1plants_tdwroom_0024_map.png to path: maps/pilot_dominoes_SJ020_d3chairs_o1plants_tdwroom_0024_map.png\n"
     ]
    },
    {
     "name": "stderr",
     "output_type": "stream",
     "text": [
      " 49%|████▉     | 149/302 [00:29<00:29,  5.14it/s]"
     ]
    },
    {
     "name": "stdout",
     "output_type": "stream",
     "text": [
      "Uploading /mindhive/nklab4/users/tom/bach_hackathon/cognitive-ai-benchmarking/stimuli/Dominoes/maps/pilot_dominoes_SJ020_d3chairs_o1plants_tdwroom_0028_map.png to path: maps/pilot_dominoes_SJ020_d3chairs_o1plants_tdwroom_0028_map.png\n"
     ]
    },
    {
     "name": "stderr",
     "output_type": "stream",
     "text": [
      " 50%|█████     | 151/302 [00:30<00:29,  5.19it/s]"
     ]
    },
    {
     "name": "stdout",
     "output_type": "stream",
     "text": [
      "Uploading /mindhive/nklab4/users/tom/bach_hackathon/cognitive-ai-benchmarking/stimuli/Dominoes/maps/pilot_dominoes_SJ020_d3chairs_o1plants_tdwroom_0029_map.png to path: maps/pilot_dominoes_SJ020_d3chairs_o1plants_tdwroom_0029_map.png\n",
      "Uploading /mindhive/nklab4/users/tom/bach_hackathon/cognitive-ai-benchmarking/stimuli/Dominoes/mp4s/pilot_dominoes_0mid_d3chairs_o1plants_tdwroom_0001_img.mp4 to path: mp4s/pilot_dominoes_0mid_d3chairs_o1plants_tdwroom_0001_img.mp4\n"
     ]
    },
    {
     "name": "stderr",
     "output_type": "stream",
     "text": [
      " 51%|█████     | 153/302 [00:30<00:26,  5.69it/s]"
     ]
    },
    {
     "name": "stdout",
     "output_type": "stream",
     "text": [
      "Uploading /mindhive/nklab4/users/tom/bach_hackathon/cognitive-ai-benchmarking/stimuli/Dominoes/mp4s/pilot_dominoes_0mid_d3chairs_o1plants_tdwroom_0004_img.mp4 to path: mp4s/pilot_dominoes_0mid_d3chairs_o1plants_tdwroom_0004_img.mp4\n"
     ]
    },
    {
     "name": "stderr",
     "output_type": "stream",
     "text": [
      " 51%|█████▏    | 155/302 [00:31<00:29,  4.90it/s]"
     ]
    },
    {
     "name": "stdout",
     "output_type": "stream",
     "text": [
      "Uploading /mindhive/nklab4/users/tom/bach_hackathon/cognitive-ai-benchmarking/stimuli/Dominoes/mp4s/pilot_dominoes_0mid_d3chairs_o1plants_tdwroom_0005_img.mp4 to path: mp4s/pilot_dominoes_0mid_d3chairs_o1plants_tdwroom_0005_img.mp4\n"
     ]
    },
    {
     "name": "stderr",
     "output_type": "stream",
     "text": [
      " 52%|█████▏    | 156/302 [00:31<00:30,  4.75it/s]"
     ]
    },
    {
     "name": "stdout",
     "output_type": "stream",
     "text": [
      "Uploading /mindhive/nklab4/users/tom/bach_hackathon/cognitive-ai-benchmarking/stimuli/Dominoes/mp4s/pilot_dominoes_0mid_d3chairs_o1plants_tdwroom_0007_img.mp4 to path: mp4s/pilot_dominoes_0mid_d3chairs_o1plants_tdwroom_0007_img.mp4\n"
     ]
    },
    {
     "name": "stderr",
     "output_type": "stream",
     "text": [
      " 52%|█████▏    | 157/302 [00:31<00:30,  4.72it/s]"
     ]
    },
    {
     "name": "stdout",
     "output_type": "stream",
     "text": [
      "Uploading /mindhive/nklab4/users/tom/bach_hackathon/cognitive-ai-benchmarking/stimuli/Dominoes/mp4s/pilot_dominoes_0mid_d3chairs_o1plants_tdwroom_0008_img.mp4 to path: mp4s/pilot_dominoes_0mid_d3chairs_o1plants_tdwroom_0008_img.mp4\n"
     ]
    },
    {
     "name": "stderr",
     "output_type": "stream",
     "text": [
      " 52%|█████▏    | 158/302 [00:31<00:30,  4.68it/s]"
     ]
    },
    {
     "name": "stdout",
     "output_type": "stream",
     "text": [
      "Uploading /mindhive/nklab4/users/tom/bach_hackathon/cognitive-ai-benchmarking/stimuli/Dominoes/mp4s/pilot_dominoes_0mid_d3chairs_o1plants_tdwroom_0012_img.mp4 to path: mp4s/pilot_dominoes_0mid_d3chairs_o1plants_tdwroom_0012_img.mp4\n"
     ]
    },
    {
     "name": "stderr",
     "output_type": "stream",
     "text": [
      " 53%|█████▎    | 159/302 [00:31<00:30,  4.66it/s]"
     ]
    },
    {
     "name": "stdout",
     "output_type": "stream",
     "text": [
      "Uploading /mindhive/nklab4/users/tom/bach_hackathon/cognitive-ai-benchmarking/stimuli/Dominoes/mp4s/pilot_dominoes_0mid_d3chairs_o1plants_tdwroom_0013_img.mp4 to path: mp4s/pilot_dominoes_0mid_d3chairs_o1plants_tdwroom_0013_img.mp4\n"
     ]
    },
    {
     "name": "stderr",
     "output_type": "stream",
     "text": [
      " 53%|█████▎    | 160/302 [00:32<00:30,  4.61it/s]"
     ]
    },
    {
     "name": "stdout",
     "output_type": "stream",
     "text": [
      "Uploading /mindhive/nklab4/users/tom/bach_hackathon/cognitive-ai-benchmarking/stimuli/Dominoes/mp4s/pilot_dominoes_0mid_d3chairs_o1plants_tdwroom_0016_img.mp4 to path: mp4s/pilot_dominoes_0mid_d3chairs_o1plants_tdwroom_0016_img.mp4\n"
     ]
    },
    {
     "name": "stderr",
     "output_type": "stream",
     "text": [
      " 53%|█████▎    | 161/302 [00:32<00:29,  4.74it/s]"
     ]
    },
    {
     "name": "stdout",
     "output_type": "stream",
     "text": [
      "Uploading /mindhive/nklab4/users/tom/bach_hackathon/cognitive-ai-benchmarking/stimuli/Dominoes/mp4s/pilot_dominoes_0mid_d3chairs_o1plants_tdwroom_0017_img.mp4 to path: mp4s/pilot_dominoes_0mid_d3chairs_o1plants_tdwroom_0017_img.mp4\n",
      "Uploading /mindhive/nklab4/users/tom/bach_hackathon/cognitive-ai-benchmarking/stimuli/Dominoes/mp4s/pilot_dominoes_0mid_d3chairs_o1plants_tdwroom_0018_img.mp4 to path: mp4s/pilot_dominoes_0mid_d3chairs_o1plants_tdwroom_0018_img.mp4\n"
     ]
    },
    {
     "name": "stderr",
     "output_type": "stream",
     "text": [
      " 54%|█████▍    | 163/302 [00:32<00:28,  4.85it/s]"
     ]
    },
    {
     "name": "stdout",
     "output_type": "stream",
     "text": [
      "Uploading /mindhive/nklab4/users/tom/bach_hackathon/cognitive-ai-benchmarking/stimuli/Dominoes/mp4s/pilot_dominoes_0mid_d3chairs_o1plants_tdwroom_0019_img.mp4 to path: mp4s/pilot_dominoes_0mid_d3chairs_o1plants_tdwroom_0019_img.mp4\n"
     ]
    },
    {
     "name": "stderr",
     "output_type": "stream",
     "text": [
      " 54%|█████▍    | 164/302 [00:32<00:29,  4.73it/s]"
     ]
    },
    {
     "name": "stdout",
     "output_type": "stream",
     "text": [
      "Uploading /mindhive/nklab4/users/tom/bach_hackathon/cognitive-ai-benchmarking/stimuli/Dominoes/mp4s/pilot_dominoes_0mid_d3chairs_o1plants_tdwroom_0020_img.mp4 to path: mp4s/pilot_dominoes_0mid_d3chairs_o1plants_tdwroom_0020_img.mp4\n"
     ]
    },
    {
     "name": "stderr",
     "output_type": "stream",
     "text": [
      " 55%|█████▍    | 165/302 [00:33<00:29,  4.72it/s]"
     ]
    },
    {
     "name": "stdout",
     "output_type": "stream",
     "text": [
      "Uploading /mindhive/nklab4/users/tom/bach_hackathon/cognitive-ai-benchmarking/stimuli/Dominoes/mp4s/pilot_dominoes_0mid_d3chairs_o1plants_tdwroom_0021_img.mp4 to path: mp4s/pilot_dominoes_0mid_d3chairs_o1plants_tdwroom_0021_img.mp4\n",
      "Uploading /mindhive/nklab4/users/tom/bach_hackathon/cognitive-ai-benchmarking/stimuli/Dominoes/mp4s/pilot_dominoes_0mid_d3chairs_o1plants_tdwroom_0022_img.mp4 to path: mp4s/pilot_dominoes_0mid_d3chairs_o1plants_tdwroom_0022_img.mp4\n"
     ]
    },
    {
     "name": "stderr",
     "output_type": "stream",
     "text": [
      " 55%|█████▍    | 166/302 [00:33<00:38,  3.49it/s]"
     ]
    },
    {
     "name": "stdout",
     "output_type": "stream",
     "text": [
      "Uploading /mindhive/nklab4/users/tom/bach_hackathon/cognitive-ai-benchmarking/stimuli/Dominoes/mp4s/pilot_dominoes_0mid_d3chairs_o1plants_tdwroom_0025_img.mp4 to path: mp4s/pilot_dominoes_0mid_d3chairs_o1plants_tdwroom_0025_img.mp4\n"
     ]
    },
    {
     "name": "stderr",
     "output_type": "stream",
     "text": [
      " 56%|█████▌    | 168/302 [00:34<00:35,  3.74it/s]"
     ]
    },
    {
     "name": "stdout",
     "output_type": "stream",
     "text": [
      "Uploading /mindhive/nklab4/users/tom/bach_hackathon/cognitive-ai-benchmarking/stimuli/Dominoes/mp4s/pilot_dominoes_0mid_d3chairs_o1plants_tdwroom_0026_img.mp4 to path: mp4s/pilot_dominoes_0mid_d3chairs_o1plants_tdwroom_0026_img.mp4\n",
      "Uploading /mindhive/nklab4/users/tom/bach_hackathon/cognitive-ai-benchmarking/stimuli/Dominoes/mp4s/pilot_dominoes_0mid_d3chairs_o1plants_tdwroom_0027_img.mp4 to path: mp4s/pilot_dominoes_0mid_d3chairs_o1plants_tdwroom_0027_img.mp4\n"
     ]
    },
    {
     "name": "stderr",
     "output_type": "stream",
     "text": [
      " 56%|█████▋    | 170/302 [00:34<00:37,  3.54it/s]"
     ]
    },
    {
     "name": "stdout",
     "output_type": "stream",
     "text": [
      "Uploading /mindhive/nklab4/users/tom/bach_hackathon/cognitive-ai-benchmarking/stimuli/Dominoes/mp4s/pilot_dominoes_1mid_J025R45_boxroom_0000_img.mp4 to path: mp4s/pilot_dominoes_1mid_J025R45_boxroom_0000_img.mp4\n"
     ]
    },
    {
     "name": "stderr",
     "output_type": "stream",
     "text": [
      " 57%|█████▋    | 171/302 [00:34<00:34,  3.83it/s]"
     ]
    },
    {
     "name": "stdout",
     "output_type": "stream",
     "text": [
      "Uploading /mindhive/nklab4/users/tom/bach_hackathon/cognitive-ai-benchmarking/stimuli/Dominoes/mp4s/pilot_dominoes_1mid_J025R45_boxroom_0003_img.mp4 to path: mp4s/pilot_dominoes_1mid_J025R45_boxroom_0003_img.mp4\n"
     ]
    },
    {
     "name": "stderr",
     "output_type": "stream",
     "text": [
      " 57%|█████▋    | 172/302 [00:35<00:31,  4.11it/s]"
     ]
    },
    {
     "name": "stdout",
     "output_type": "stream",
     "text": [
      "Uploading /mindhive/nklab4/users/tom/bach_hackathon/cognitive-ai-benchmarking/stimuli/Dominoes/mp4s/pilot_dominoes_1mid_J025R45_boxroom_0004_img.mp4 to path: mp4s/pilot_dominoes_1mid_J025R45_boxroom_0004_img.mp4\n",
      "Uploading /mindhive/nklab4/users/tom/bach_hackathon/cognitive-ai-benchmarking/stimuli/Dominoes/mp4s/pilot_dominoes_1mid_J025R45_boxroom_0005_img.mp4 to path: mp4s/pilot_dominoes_1mid_J025R45_boxroom_0005_img.mp4\n"
     ]
    },
    {
     "name": "stderr",
     "output_type": "stream",
     "text": [
      " 58%|█████▊    | 174/302 [00:35<00:28,  4.57it/s]"
     ]
    },
    {
     "name": "stdout",
     "output_type": "stream",
     "text": [
      "Uploading /mindhive/nklab4/users/tom/bach_hackathon/cognitive-ai-benchmarking/stimuli/Dominoes/mp4s/pilot_dominoes_1mid_J025R45_boxroom_0006_img.mp4 to path: mp4s/pilot_dominoes_1mid_J025R45_boxroom_0006_img.mp4\n",
      "Uploading /mindhive/nklab4/users/tom/bach_hackathon/cognitive-ai-benchmarking/stimuli/Dominoes/mp4s/pilot_dominoes_1mid_J025R45_boxroom_0007_img.mp4 to path: mp4s/pilot_dominoes_1mid_J025R45_boxroom_0007_img.mp4\n"
     ]
    },
    {
     "name": "stderr",
     "output_type": "stream",
     "text": [
      " 58%|█████▊    | 176/302 [00:35<00:26,  4.76it/s]"
     ]
    },
    {
     "name": "stdout",
     "output_type": "stream",
     "text": [
      "Uploading /mindhive/nklab4/users/tom/bach_hackathon/cognitive-ai-benchmarking/stimuli/Dominoes/mp4s/pilot_dominoes_1mid_J025R45_boxroom_0009_img.mp4 to path: mp4s/pilot_dominoes_1mid_J025R45_boxroom_0009_img.mp4\n"
     ]
    },
    {
     "name": "stderr",
     "output_type": "stream",
     "text": [
      " 59%|█████▊    | 177/302 [00:36<00:25,  4.86it/s]"
     ]
    },
    {
     "name": "stdout",
     "output_type": "stream",
     "text": [
      "Uploading /mindhive/nklab4/users/tom/bach_hackathon/cognitive-ai-benchmarking/stimuli/Dominoes/mp4s/pilot_dominoes_1mid_J025R45_boxroom_0010_img.mp4 to path: mp4s/pilot_dominoes_1mid_J025R45_boxroom_0010_img.mp4\n",
      "Uploading /mindhive/nklab4/users/tom/bach_hackathon/cognitive-ai-benchmarking/stimuli/Dominoes/mp4s/pilot_dominoes_1mid_J025R45_boxroom_0015_img.mp4 to path: mp4s/pilot_dominoes_1mid_J025R45_boxroom_0015_img.mp4\n"
     ]
    },
    {
     "name": "stderr",
     "output_type": "stream",
     "text": [
      " 59%|█████▉    | 179/302 [00:36<00:26,  4.66it/s]"
     ]
    },
    {
     "name": "stdout",
     "output_type": "stream",
     "text": [
      "Uploading /mindhive/nklab4/users/tom/bach_hackathon/cognitive-ai-benchmarking/stimuli/Dominoes/mp4s/pilot_dominoes_1mid_J025R45_boxroom_0017_img.mp4 to path: mp4s/pilot_dominoes_1mid_J025R45_boxroom_0017_img.mp4\n"
     ]
    },
    {
     "name": "stderr",
     "output_type": "stream",
     "text": [
      " 60%|█████▉    | 180/302 [00:36<00:25,  4.76it/s]"
     ]
    },
    {
     "name": "stdout",
     "output_type": "stream",
     "text": [
      "Uploading /mindhive/nklab4/users/tom/bach_hackathon/cognitive-ai-benchmarking/stimuli/Dominoes/mp4s/pilot_dominoes_1mid_J025R45_boxroom_0019_img.mp4 to path: mp4s/pilot_dominoes_1mid_J025R45_boxroom_0019_img.mp4\n",
      "Uploading /mindhive/nklab4/users/tom/bach_hackathon/cognitive-ai-benchmarking/stimuli/Dominoes/mp4s/pilot_dominoes_1mid_J025R45_boxroom_0020_img.mp4 to path: mp4s/pilot_dominoes_1mid_J025R45_boxroom_0020_img.mp4\n"
     ]
    },
    {
     "name": "stderr",
     "output_type": "stream",
     "text": [
      " 60%|██████    | 182/302 [00:37<00:26,  4.56it/s]"
     ]
    },
    {
     "name": "stdout",
     "output_type": "stream",
     "text": [
      "Uploading /mindhive/nklab4/users/tom/bach_hackathon/cognitive-ai-benchmarking/stimuli/Dominoes/mp4s/pilot_dominoes_1mid_J025R45_boxroom_0022_img.mp4 to path: mp4s/pilot_dominoes_1mid_J025R45_boxroom_0022_img.mp4\n",
      "Uploading /mindhive/nklab4/users/tom/bach_hackathon/cognitive-ai-benchmarking/stimuli/Dominoes/mp4s/pilot_dominoes_1mid_J025R45_boxroom_0023_img.mp4 to path: mp4s/pilot_dominoes_1mid_J025R45_boxroom_0023_img.mp4\n"
     ]
    },
    {
     "name": "stderr",
     "output_type": "stream",
     "text": [
      " 61%|██████    | 184/302 [00:37<00:24,  4.81it/s]"
     ]
    },
    {
     "name": "stdout",
     "output_type": "stream",
     "text": [
      "Uploading /mindhive/nklab4/users/tom/bach_hackathon/cognitive-ai-benchmarking/stimuli/Dominoes/mp4s/pilot_dominoes_1mid_J025R45_boxroom_0025_img.mp4 to path: mp4s/pilot_dominoes_1mid_J025R45_boxroom_0025_img.mp4\n",
      "Uploading /mindhive/nklab4/users/tom/bach_hackathon/cognitive-ai-benchmarking/stimuli/Dominoes/mp4s/pilot_dominoes_1mid_J025R45_boxroom_0026_img.mp4 to path: mp4s/pilot_dominoes_1mid_J025R45_boxroom_0026_img.mp4\n"
     ]
    },
    {
     "name": "stderr",
     "output_type": "stream",
     "text": [
      " 62%|██████▏   | 186/302 [00:38<00:24,  4.75it/s]"
     ]
    },
    {
     "name": "stdout",
     "output_type": "stream",
     "text": [
      "Uploading /mindhive/nklab4/users/tom/bach_hackathon/cognitive-ai-benchmarking/stimuli/Dominoes/mp4s/pilot_dominoes_1mid_J025R45_boxroom_0027_img.mp4 to path: mp4s/pilot_dominoes_1mid_J025R45_boxroom_0027_img.mp4\n",
      "Uploading /mindhive/nklab4/users/tom/bach_hackathon/cognitive-ai-benchmarking/stimuli/Dominoes/mp4s/pilot_dominoes_1mid_J025R45_boxroom_0029_img.mp4 to path: mp4s/pilot_dominoes_1mid_J025R45_boxroom_0029_img.mp4\n"
     ]
    },
    {
     "name": "stderr",
     "output_type": "stream",
     "text": [
      " 62%|██████▏   | 188/302 [00:38<00:23,  4.78it/s]"
     ]
    },
    {
     "name": "stdout",
     "output_type": "stream",
     "text": [
      "Uploading /mindhive/nklab4/users/tom/bach_hackathon/cognitive-ai-benchmarking/stimuli/Dominoes/mp4s/pilot_dominoes_1mid_J025R45_o1full_tdwroom_0000_img.mp4 to path: mp4s/pilot_dominoes_1mid_J025R45_o1full_tdwroom_0000_img.mp4\n"
     ]
    },
    {
     "name": "stderr",
     "output_type": "stream",
     "text": [
      " 63%|██████▎   | 189/302 [00:38<00:23,  4.80it/s]"
     ]
    },
    {
     "name": "stdout",
     "output_type": "stream",
     "text": [
      "Uploading /mindhive/nklab4/users/tom/bach_hackathon/cognitive-ai-benchmarking/stimuli/Dominoes/mp4s/pilot_dominoes_1mid_J025R45_o1full_tdwroom_0001_img.mp4 to path: mp4s/pilot_dominoes_1mid_J025R45_o1full_tdwroom_0001_img.mp4\n"
     ]
    },
    {
     "name": "stderr",
     "output_type": "stream",
     "text": [
      " 63%|██████▎   | 190/302 [00:38<00:23,  4.70it/s]"
     ]
    },
    {
     "name": "stdout",
     "output_type": "stream",
     "text": [
      "Uploading /mindhive/nklab4/users/tom/bach_hackathon/cognitive-ai-benchmarking/stimuli/Dominoes/mp4s/pilot_dominoes_1mid_J025R45_o1full_tdwroom_0002_img.mp4 to path: mp4s/pilot_dominoes_1mid_J025R45_o1full_tdwroom_0002_img.mp4\n"
     ]
    },
    {
     "name": "stderr",
     "output_type": "stream",
     "text": [
      " 63%|██████▎   | 191/302 [00:39<00:23,  4.82it/s]"
     ]
    },
    {
     "name": "stdout",
     "output_type": "stream",
     "text": [
      "Uploading /mindhive/nklab4/users/tom/bach_hackathon/cognitive-ai-benchmarking/stimuli/Dominoes/mp4s/pilot_dominoes_1mid_J025R45_o1full_tdwroom_0003_img.mp4 to path: mp4s/pilot_dominoes_1mid_J025R45_o1full_tdwroom_0003_img.mp4\n",
      "Uploading /mindhive/nklab4/users/tom/bach_hackathon/cognitive-ai-benchmarking/stimuli/Dominoes/mp4s/pilot_dominoes_1mid_J025R45_o1full_tdwroom_0004_img.mp4 to path: mp4s/pilot_dominoes_1mid_J025R45_o1full_tdwroom_0004_img.mp4\n"
     ]
    },
    {
     "name": "stderr",
     "output_type": "stream",
     "text": [
      " 64%|██████▍   | 193/302 [00:39<00:22,  4.75it/s]"
     ]
    },
    {
     "name": "stdout",
     "output_type": "stream",
     "text": [
      "Uploading /mindhive/nklab4/users/tom/bach_hackathon/cognitive-ai-benchmarking/stimuli/Dominoes/mp4s/pilot_dominoes_1mid_J025R45_o1full_tdwroom_0005_img.mp4 to path: mp4s/pilot_dominoes_1mid_J025R45_o1full_tdwroom_0005_img.mp4\n"
     ]
    },
    {
     "name": "stderr",
     "output_type": "stream",
     "text": [
      " 64%|██████▍   | 194/302 [00:39<00:22,  4.71it/s]"
     ]
    },
    {
     "name": "stdout",
     "output_type": "stream",
     "text": [
      "Uploading /mindhive/nklab4/users/tom/bach_hackathon/cognitive-ai-benchmarking/stimuli/Dominoes/mp4s/pilot_dominoes_1mid_J025R45_o1full_tdwroom_0006_img.mp4 to path: mp4s/pilot_dominoes_1mid_J025R45_o1full_tdwroom_0006_img.mp4\n"
     ]
    },
    {
     "name": "stderr",
     "output_type": "stream",
     "text": [
      " 65%|██████▍   | 195/302 [00:40<00:23,  4.63it/s]"
     ]
    },
    {
     "name": "stdout",
     "output_type": "stream",
     "text": [
      "Uploading /mindhive/nklab4/users/tom/bach_hackathon/cognitive-ai-benchmarking/stimuli/Dominoes/mp4s/pilot_dominoes_1mid_J025R45_o1full_tdwroom_0007_img.mp4 to path: mp4s/pilot_dominoes_1mid_J025R45_o1full_tdwroom_0007_img.mp4\n"
     ]
    },
    {
     "name": "stderr",
     "output_type": "stream",
     "text": [
      " 65%|██████▍   | 196/302 [00:40<00:23,  4.59it/s]"
     ]
    },
    {
     "name": "stdout",
     "output_type": "stream",
     "text": [
      "Uploading /mindhive/nklab4/users/tom/bach_hackathon/cognitive-ai-benchmarking/stimuli/Dominoes/mp4s/pilot_dominoes_1mid_J025R45_o1full_tdwroom_0008_img.mp4 to path: mp4s/pilot_dominoes_1mid_J025R45_o1full_tdwroom_0008_img.mp4\n"
     ]
    },
    {
     "name": "stderr",
     "output_type": "stream",
     "text": [
      " 65%|██████▌   | 197/302 [00:40<00:22,  4.60it/s]"
     ]
    },
    {
     "name": "stdout",
     "output_type": "stream",
     "text": [
      "Uploading /mindhive/nklab4/users/tom/bach_hackathon/cognitive-ai-benchmarking/stimuli/Dominoes/mp4s/pilot_dominoes_1mid_J025R45_o1full_tdwroom_0009_img.mp4 to path: mp4s/pilot_dominoes_1mid_J025R45_o1full_tdwroom_0009_img.mp4\n"
     ]
    },
    {
     "name": "stderr",
     "output_type": "stream",
     "text": [
      " 66%|██████▌   | 198/302 [00:40<00:22,  4.63it/s]"
     ]
    },
    {
     "name": "stdout",
     "output_type": "stream",
     "text": [
      "Uploading /mindhive/nklab4/users/tom/bach_hackathon/cognitive-ai-benchmarking/stimuli/Dominoes/mp4s/pilot_dominoes_1mid_J025R45_o1full_tdwroom_0010_img.mp4 to path: mp4s/pilot_dominoes_1mid_J025R45_o1full_tdwroom_0010_img.mp4\n"
     ]
    },
    {
     "name": "stderr",
     "output_type": "stream",
     "text": [
      " 66%|██████▌   | 199/302 [00:40<00:22,  4.66it/s]"
     ]
    },
    {
     "name": "stdout",
     "output_type": "stream",
     "text": [
      "Uploading /mindhive/nklab4/users/tom/bach_hackathon/cognitive-ai-benchmarking/stimuli/Dominoes/mp4s/pilot_dominoes_1mid_J025R45_o1full_tdwroom_0014_img.mp4 to path: mp4s/pilot_dominoes_1mid_J025R45_o1full_tdwroom_0014_img.mp4\n"
     ]
    },
    {
     "name": "stderr",
     "output_type": "stream",
     "text": [
      " 66%|██████▌   | 200/302 [00:41<00:22,  4.62it/s]"
     ]
    },
    {
     "name": "stdout",
     "output_type": "stream",
     "text": [
      "Uploading /mindhive/nklab4/users/tom/bach_hackathon/cognitive-ai-benchmarking/stimuli/Dominoes/mp4s/pilot_dominoes_1mid_J025R45_o1full_tdwroom_0015_img.mp4 to path: mp4s/pilot_dominoes_1mid_J025R45_o1full_tdwroom_0015_img.mp4\n"
     ]
    },
    {
     "name": "stderr",
     "output_type": "stream",
     "text": [
      " 67%|██████▋   | 201/302 [00:41<00:21,  4.73it/s]"
     ]
    },
    {
     "name": "stdout",
     "output_type": "stream",
     "text": [
      "Uploading /mindhive/nklab4/users/tom/bach_hackathon/cognitive-ai-benchmarking/stimuli/Dominoes/mp4s/pilot_dominoes_1mid_J025R45_o1full_tdwroom_0017_img.mp4 to path: mp4s/pilot_dominoes_1mid_J025R45_o1full_tdwroom_0017_img.mp4\n",
      "Uploading /mindhive/nklab4/users/tom/bach_hackathon/cognitive-ai-benchmarking/stimuli/Dominoes/mp4s/pilot_dominoes_1mid_J025R45_o1full_tdwroom_0020_img.mp4 to path: mp4s/pilot_dominoes_1mid_J025R45_o1full_tdwroom_0020_img.mp4\n"
     ]
    },
    {
     "name": "stderr",
     "output_type": "stream",
     "text": [
      " 67%|██████▋   | 202/302 [00:41<00:24,  4.03it/s]"
     ]
    },
    {
     "name": "stdout",
     "output_type": "stream",
     "text": [
      "Uploading /mindhive/nklab4/users/tom/bach_hackathon/cognitive-ai-benchmarking/stimuli/Dominoes/mp4s/pilot_dominoes_1mid_J025R45_o1full_tdwroom_0021_img.mp4 to path: mp4s/pilot_dominoes_1mid_J025R45_o1full_tdwroom_0021_img.mp4\n"
     ]
    },
    {
     "name": "stderr",
     "output_type": "stream",
     "text": [
      " 68%|██████▊   | 204/302 [00:42<00:24,  4.08it/s]"
     ]
    },
    {
     "name": "stdout",
     "output_type": "stream",
     "text": [
      "Uploading /mindhive/nklab4/users/tom/bach_hackathon/cognitive-ai-benchmarking/stimuli/Dominoes/mp4s/pilot_dominoes_1mid_J025R45_o1full_tdwroom_0023_img.mp4 to path: mp4s/pilot_dominoes_1mid_J025R45_o1full_tdwroom_0023_img.mp4\n"
     ]
    },
    {
     "name": "stderr",
     "output_type": "stream",
     "text": [
      " 68%|██████▊   | 205/302 [00:42<00:22,  4.35it/s]"
     ]
    },
    {
     "name": "stdout",
     "output_type": "stream",
     "text": [
      "Uploading /mindhive/nklab4/users/tom/bach_hackathon/cognitive-ai-benchmarking/stimuli/Dominoes/mp4s/pilot_dominoes_1mid_J025R45_o1full_tdwroom_0024_img.mp4 to path: mp4s/pilot_dominoes_1mid_J025R45_o1full_tdwroom_0024_img.mp4\n",
      "Uploading /mindhive/nklab4/users/tom/bach_hackathon/cognitive-ai-benchmarking/stimuli/Dominoes/mp4s/pilot_dominoes_1mid_J025R45_o1full_tdwroom_0025_img.mp4 to path: mp4s/pilot_dominoes_1mid_J025R45_o1full_tdwroom_0025_img.mp4\n"
     ]
    },
    {
     "name": "stderr",
     "output_type": "stream",
     "text": [
      " 68%|██████▊   | 206/302 [00:42<00:21,  4.41it/s]"
     ]
    },
    {
     "name": "stdout",
     "output_type": "stream",
     "text": [
      "Uploading /mindhive/nklab4/users/tom/bach_hackathon/cognitive-ai-benchmarking/stimuli/Dominoes/mp4s/pilot_dominoes_1mid_J025R45_o1full_tdwroom_0026_img.mp4 to path: mp4s/pilot_dominoes_1mid_J025R45_o1full_tdwroom_0026_img.mp4\n"
     ]
    },
    {
     "name": "stderr",
     "output_type": "stream",
     "text": [
      " 69%|██████▉   | 208/302 [00:42<00:21,  4.40it/s]"
     ]
    },
    {
     "name": "stdout",
     "output_type": "stream",
     "text": [
      "Uploading /mindhive/nklab4/users/tom/bach_hackathon/cognitive-ai-benchmarking/stimuli/Dominoes/mp4s/pilot_dominoes_1mid_J025R45_o1full_tdwroom_0028_img.mp4 to path: mp4s/pilot_dominoes_1mid_J025R45_o1full_tdwroom_0028_img.mp4\n",
      "Uploading /mindhive/nklab4/users/tom/bach_hackathon/cognitive-ai-benchmarking/stimuli/Dominoes/mp4s/pilot_dominoes_2mid_J020R15_d3chairs_o1plants_tdwroom_0000_img.mp4 to path: mp4s/pilot_dominoes_2mid_J020R15_d3chairs_o1plants_tdwroom_0000_img.mp4\n"
     ]
    },
    {
     "name": "stderr",
     "output_type": "stream",
     "text": [
      " 70%|██████▉   | 210/302 [00:43<00:20,  4.47it/s]"
     ]
    },
    {
     "name": "stdout",
     "output_type": "stream",
     "text": [
      "Uploading /mindhive/nklab4/users/tom/bach_hackathon/cognitive-ai-benchmarking/stimuli/Dominoes/mp4s/pilot_dominoes_2mid_J020R15_d3chairs_o1plants_tdwroom_0001_img.mp4 to path: mp4s/pilot_dominoes_2mid_J020R15_d3chairs_o1plants_tdwroom_0001_img.mp4\n"
     ]
    },
    {
     "name": "stderr",
     "output_type": "stream",
     "text": [
      " 70%|██████▉   | 211/302 [00:43<00:20,  4.45it/s]"
     ]
    },
    {
     "name": "stdout",
     "output_type": "stream",
     "text": [
      "Uploading /mindhive/nklab4/users/tom/bach_hackathon/cognitive-ai-benchmarking/stimuli/Dominoes/mp4s/pilot_dominoes_2mid_J020R15_d3chairs_o1plants_tdwroom_0002_img.mp4 to path: mp4s/pilot_dominoes_2mid_J020R15_d3chairs_o1plants_tdwroom_0002_img.mp4\n",
      "Uploading /mindhive/nklab4/users/tom/bach_hackathon/cognitive-ai-benchmarking/stimuli/Dominoes/mp4s/pilot_dominoes_2mid_J020R15_d3chairs_o1plants_tdwroom_0004_img.mp4 to path: mp4s/pilot_dominoes_2mid_J020R15_d3chairs_o1plants_tdwroom_0004_img.mp4\n"
     ]
    },
    {
     "name": "stderr",
     "output_type": "stream",
     "text": [
      " 71%|███████   | 213/302 [00:44<00:20,  4.38it/s]"
     ]
    },
    {
     "name": "stdout",
     "output_type": "stream",
     "text": [
      "Uploading /mindhive/nklab4/users/tom/bach_hackathon/cognitive-ai-benchmarking/stimuli/Dominoes/mp4s/pilot_dominoes_2mid_J020R15_d3chairs_o1plants_tdwroom_0005_img.mp4 to path: mp4s/pilot_dominoes_2mid_J020R15_d3chairs_o1plants_tdwroom_0005_img.mp4\n"
     ]
    },
    {
     "name": "stderr",
     "output_type": "stream",
     "text": [
      " 71%|███████   | 214/302 [00:44<00:20,  4.37it/s]"
     ]
    },
    {
     "name": "stdout",
     "output_type": "stream",
     "text": [
      "Uploading /mindhive/nklab4/users/tom/bach_hackathon/cognitive-ai-benchmarking/stimuli/Dominoes/mp4s/pilot_dominoes_2mid_J020R15_d3chairs_o1plants_tdwroom_0007_img.mp4 to path: mp4s/pilot_dominoes_2mid_J020R15_d3chairs_o1plants_tdwroom_0007_img.mp4\n"
     ]
    },
    {
     "name": "stderr",
     "output_type": "stream",
     "text": [
      " 71%|███████   | 215/302 [00:44<00:19,  4.47it/s]"
     ]
    },
    {
     "name": "stdout",
     "output_type": "stream",
     "text": [
      "Uploading /mindhive/nklab4/users/tom/bach_hackathon/cognitive-ai-benchmarking/stimuli/Dominoes/mp4s/pilot_dominoes_2mid_J020R15_d3chairs_o1plants_tdwroom_0008_img.mp4 to path: mp4s/pilot_dominoes_2mid_J020R15_d3chairs_o1plants_tdwroom_0008_img.mp4\n"
     ]
    },
    {
     "name": "stderr",
     "output_type": "stream",
     "text": [
      " 72%|███████▏  | 216/302 [00:44<00:19,  4.39it/s]"
     ]
    },
    {
     "name": "stdout",
     "output_type": "stream",
     "text": [
      "Uploading /mindhive/nklab4/users/tom/bach_hackathon/cognitive-ai-benchmarking/stimuli/Dominoes/mp4s/pilot_dominoes_2mid_J020R15_d3chairs_o1plants_tdwroom_0009_img.mp4 to path: mp4s/pilot_dominoes_2mid_J020R15_d3chairs_o1plants_tdwroom_0009_img.mp4\n",
      "Uploading /mindhive/nklab4/users/tom/bach_hackathon/cognitive-ai-benchmarking/stimuli/Dominoes/mp4s/pilot_dominoes_2mid_J020R15_d3chairs_o1plants_tdwroom_0012_img.mp4 to path: mp4s/pilot_dominoes_2mid_J020R15_d3chairs_o1plants_tdwroom_0012_img.mp4\n"
     ]
    },
    {
     "name": "stderr",
     "output_type": "stream",
     "text": [
      " 72%|███████▏  | 218/302 [00:45<00:19,  4.35it/s]"
     ]
    },
    {
     "name": "stdout",
     "output_type": "stream",
     "text": [
      "Uploading /mindhive/nklab4/users/tom/bach_hackathon/cognitive-ai-benchmarking/stimuli/Dominoes/mp4s/pilot_dominoes_2mid_J020R15_d3chairs_o1plants_tdwroom_0013_img.mp4 to path: mp4s/pilot_dominoes_2mid_J020R15_d3chairs_o1plants_tdwroom_0013_img.mp4\n"
     ]
    },
    {
     "name": "stderr",
     "output_type": "stream",
     "text": [
      " 73%|███████▎  | 219/302 [00:45<00:18,  4.51it/s]"
     ]
    },
    {
     "name": "stdout",
     "output_type": "stream",
     "text": [
      "Uploading /mindhive/nklab4/users/tom/bach_hackathon/cognitive-ai-benchmarking/stimuli/Dominoes/mp4s/pilot_dominoes_2mid_J020R15_d3chairs_o1plants_tdwroom_0019_img.mp4 to path: mp4s/pilot_dominoes_2mid_J020R15_d3chairs_o1plants_tdwroom_0019_img.mp4\n",
      "Uploading /mindhive/nklab4/users/tom/bach_hackathon/cognitive-ai-benchmarking/stimuli/Dominoes/mp4s/pilot_dominoes_2mid_J020R15_d3chairs_o1plants_tdwroom_0020_img.mp4 to path: mp4s/pilot_dominoes_2mid_J020R15_d3chairs_o1plants_tdwroom_0020_img.mp4\n"
     ]
    },
    {
     "name": "stderr",
     "output_type": "stream",
     "text": [
      " 73%|███████▎  | 221/302 [00:45<00:17,  4.75it/s]"
     ]
    },
    {
     "name": "stdout",
     "output_type": "stream",
     "text": [
      "Uploading /mindhive/nklab4/users/tom/bach_hackathon/cognitive-ai-benchmarking/stimuli/Dominoes/mp4s/pilot_dominoes_2mid_J020R15_d3chairs_o1plants_tdwroom_0021_img.mp4 to path: mp4s/pilot_dominoes_2mid_J020R15_d3chairs_o1plants_tdwroom_0021_img.mp4\n",
      "Uploading /mindhive/nklab4/users/tom/bach_hackathon/cognitive-ai-benchmarking/stimuli/Dominoes/mp4s/pilot_dominoes_2mid_J020R15_d3chairs_o1plants_tdwroom_0023_img.mp4 to path: mp4s/pilot_dominoes_2mid_J020R15_d3chairs_o1plants_tdwroom_0023_img.mp4\n"
     ]
    },
    {
     "name": "stderr",
     "output_type": "stream",
     "text": [
      " 74%|███████▍  | 223/302 [00:46<00:16,  4.89it/s]"
     ]
    },
    {
     "name": "stdout",
     "output_type": "stream",
     "text": [
      "Uploading /mindhive/nklab4/users/tom/bach_hackathon/cognitive-ai-benchmarking/stimuli/Dominoes/mp4s/pilot_dominoes_2mid_J020R15_d3chairs_o1plants_tdwroom_0024_img.mp4 to path: mp4s/pilot_dominoes_2mid_J020R15_d3chairs_o1plants_tdwroom_0024_img.mp4\n",
      "Uploading /mindhive/nklab4/users/tom/bach_hackathon/cognitive-ai-benchmarking/stimuli/Dominoes/mp4s/pilot_dominoes_2mid_J020R15_d3chairs_o1plants_tdwroom_0028_img.mp4 to path: mp4s/pilot_dominoes_2mid_J020R15_d3chairs_o1plants_tdwroom_0028_img.mp4\n"
     ]
    },
    {
     "name": "stderr",
     "output_type": "stream",
     "text": [
      " 75%|███████▍  | 225/302 [00:46<00:15,  4.83it/s]"
     ]
    },
    {
     "name": "stdout",
     "output_type": "stream",
     "text": [
      "Uploading /mindhive/nklab4/users/tom/bach_hackathon/cognitive-ai-benchmarking/stimuli/Dominoes/mp4s/pilot_dominoes_2mid_J020R15_d3chairs_o1plants_tdwroom_2_0002_img.mp4 to path: mp4s/pilot_dominoes_2mid_J020R15_d3chairs_o1plants_tdwroom_2_0002_img.mp4\n"
     ]
    },
    {
     "name": "stderr",
     "output_type": "stream",
     "text": [
      " 75%|███████▍  | 226/302 [00:46<00:15,  4.83it/s]"
     ]
    },
    {
     "name": "stdout",
     "output_type": "stream",
     "text": [
      "Uploading /mindhive/nklab4/users/tom/bach_hackathon/cognitive-ai-benchmarking/stimuli/Dominoes/mp4s/pilot_dominoes_2mid_J020R15_d3chairs_o1plants_tdwroom_2_0003_img.mp4 to path: mp4s/pilot_dominoes_2mid_J020R15_d3chairs_o1plants_tdwroom_2_0003_img.mp4\n"
     ]
    },
    {
     "name": "stderr",
     "output_type": "stream",
     "text": [
      " 75%|███████▌  | 227/302 [00:47<00:15,  4.90it/s]"
     ]
    },
    {
     "name": "stdout",
     "output_type": "stream",
     "text": [
      "Uploading /mindhive/nklab4/users/tom/bach_hackathon/cognitive-ai-benchmarking/stimuli/Dominoes/mp4s/pilot_dominoes_2mid_J020R15_d3chairs_o1plants_tdwroom_2_0006_img.mp4 to path: mp4s/pilot_dominoes_2mid_J020R15_d3chairs_o1plants_tdwroom_2_0006_img.mp4\n",
      "Uploading /mindhive/nklab4/users/tom/bach_hackathon/cognitive-ai-benchmarking/stimuli/Dominoes/mp4s/pilot_dominoes_2mid_J020R15_d3chairs_o1plants_tdwroom_2_0007_img.mp4 to path: mp4s/pilot_dominoes_2mid_J020R15_d3chairs_o1plants_tdwroom_2_0007_img.mp4\n"
     ]
    },
    {
     "name": "stderr",
     "output_type": "stream",
     "text": [
      " 76%|███████▌  | 229/302 [00:47<00:15,  4.72it/s]"
     ]
    },
    {
     "name": "stdout",
     "output_type": "stream",
     "text": [
      "Uploading /mindhive/nklab4/users/tom/bach_hackathon/cognitive-ai-benchmarking/stimuli/Dominoes/mp4s/pilot_dominoes_2mid_J020R15_d3chairs_o1plants_tdwroom_2_0008_img.mp4 to path: mp4s/pilot_dominoes_2mid_J020R15_d3chairs_o1plants_tdwroom_2_0008_img.mp4\n"
     ]
    },
    {
     "name": "stderr",
     "output_type": "stream",
     "text": [
      " 76%|███████▌  | 230/302 [00:47<00:14,  4.84it/s]"
     ]
    },
    {
     "name": "stdout",
     "output_type": "stream",
     "text": [
      "Uploading /mindhive/nklab4/users/tom/bach_hackathon/cognitive-ai-benchmarking/stimuli/Dominoes/mp4s/pilot_dominoes_2mid_J020R15_d3chairs_o1plants_tdwroom_2_0009_img.mp4 to path: mp4s/pilot_dominoes_2mid_J020R15_d3chairs_o1plants_tdwroom_2_0009_img.mp4\n",
      "Uploading /mindhive/nklab4/users/tom/bach_hackathon/cognitive-ai-benchmarking/stimuli/Dominoes/mp4s/pilot_dominoes_2mid_J020R15_d3chairs_o1plants_tdwroom_2_0010_img.mp4 to path: mp4s/pilot_dominoes_2mid_J020R15_d3chairs_o1plants_tdwroom_2_0010_img.mp4\n"
     ]
    },
    {
     "name": "stderr",
     "output_type": "stream",
     "text": [
      " 77%|███████▋  | 232/302 [00:48<00:14,  4.83it/s]"
     ]
    },
    {
     "name": "stdout",
     "output_type": "stream",
     "text": [
      "Uploading /mindhive/nklab4/users/tom/bach_hackathon/cognitive-ai-benchmarking/stimuli/Dominoes/mp4s/pilot_dominoes_2mid_J020R15_d3chairs_o1plants_tdwroom_2_0011_img.mp4 to path: mp4s/pilot_dominoes_2mid_J020R15_d3chairs_o1plants_tdwroom_2_0011_img.mp4\n"
     ]
    },
    {
     "name": "stderr",
     "output_type": "stream",
     "text": [
      " 77%|███████▋  | 233/302 [00:48<00:14,  4.90it/s]"
     ]
    },
    {
     "name": "stdout",
     "output_type": "stream",
     "text": [
      "Uploading /mindhive/nklab4/users/tom/bach_hackathon/cognitive-ai-benchmarking/stimuli/Dominoes/mp4s/pilot_dominoes_2mid_J020R15_d3chairs_o1plants_tdwroom_2_0012_img.mp4 to path: mp4s/pilot_dominoes_2mid_J020R15_d3chairs_o1plants_tdwroom_2_0012_img.mp4\n",
      "Uploading /mindhive/nklab4/users/tom/bach_hackathon/cognitive-ai-benchmarking/stimuli/Dominoes/mp4s/pilot_dominoes_2mid_J020R15_d3chairs_o1plants_tdwroom_2_0016_img.mp4 to path: mp4s/pilot_dominoes_2mid_J020R15_d3chairs_o1plants_tdwroom_2_0016_img.mp4\n"
     ]
    },
    {
     "name": "stderr",
     "output_type": "stream",
     "text": [
      " 78%|███████▊  | 235/302 [00:48<00:14,  4.64it/s]"
     ]
    },
    {
     "name": "stdout",
     "output_type": "stream",
     "text": [
      "Uploading /mindhive/nklab4/users/tom/bach_hackathon/cognitive-ai-benchmarking/stimuli/Dominoes/mp4s/pilot_dominoes_2mid_J020R15_d3chairs_o1plants_tdwroom_2_0017_img.mp4 to path: mp4s/pilot_dominoes_2mid_J020R15_d3chairs_o1plants_tdwroom_2_0017_img.mp4\n",
      "Uploading /mindhive/nklab4/users/tom/bach_hackathon/cognitive-ai-benchmarking/stimuli/Dominoes/mp4s/pilot_dominoes_2mid_J020R15_d3chairs_o1plants_tdwroom_2_0020_img.mp4 to path: mp4s/pilot_dominoes_2mid_J020R15_d3chairs_o1plants_tdwroom_2_0020_img.mp4\n"
     ]
    },
    {
     "name": "stderr",
     "output_type": "stream",
     "text": [
      " 78%|███████▊  | 237/302 [00:49<00:16,  3.90it/s]"
     ]
    },
    {
     "name": "stdout",
     "output_type": "stream",
     "text": [
      "Uploading /mindhive/nklab4/users/tom/bach_hackathon/cognitive-ai-benchmarking/stimuli/Dominoes/mp4s/pilot_dominoes_2mid_J020R15_d3chairs_o1plants_tdwroom_2_0021_img.mp4 to path: mp4s/pilot_dominoes_2mid_J020R15_d3chairs_o1plants_tdwroom_2_0021_img.mp4\n"
     ]
    },
    {
     "name": "stderr",
     "output_type": "stream",
     "text": [
      " 79%|███████▉  | 238/302 [00:49<00:16,  3.99it/s]"
     ]
    },
    {
     "name": "stdout",
     "output_type": "stream",
     "text": [
      "Uploading /mindhive/nklab4/users/tom/bach_hackathon/cognitive-ai-benchmarking/stimuli/Dominoes/mp4s/pilot_dominoes_2mid_J020R15_d3chairs_o1plants_tdwroom_2_0022_img.mp4 to path: mp4s/pilot_dominoes_2mid_J020R15_d3chairs_o1plants_tdwroom_2_0022_img.mp4\n"
     ]
    },
    {
     "name": "stderr",
     "output_type": "stream",
     "text": [
      " 79%|███████▉  | 239/302 [00:49<00:15,  4.19it/s]"
     ]
    },
    {
     "name": "stdout",
     "output_type": "stream",
     "text": [
      "Uploading /mindhive/nklab4/users/tom/bach_hackathon/cognitive-ai-benchmarking/stimuli/Dominoes/mp4s/pilot_dominoes_2mid_J020R15_d3chairs_o1plants_tdwroom_2_0023_img.mp4 to path: mp4s/pilot_dominoes_2mid_J020R15_d3chairs_o1plants_tdwroom_2_0023_img.mp4\n"
     ]
    },
    {
     "name": "stderr",
     "output_type": "stream",
     "text": [
      " 79%|███████▉  | 240/302 [00:50<00:14,  4.40it/s]"
     ]
    },
    {
     "name": "stdout",
     "output_type": "stream",
     "text": [
      "Uploading /mindhive/nklab4/users/tom/bach_hackathon/cognitive-ai-benchmarking/stimuli/Dominoes/mp4s/pilot_dominoes_2mid_J020R15_d3chairs_o1plants_tdwroom_2_0024_img.mp4 to path: mp4s/pilot_dominoes_2mid_J020R15_d3chairs_o1plants_tdwroom_2_0024_img.mp4\n",
      "Uploading /mindhive/nklab4/users/tom/bach_hackathon/cognitive-ai-benchmarking/stimuli/Dominoes/mp4s/pilot_dominoes_2mid_J020R15_d3chairs_o1plants_tdwroom_2_0025_img.mp4 to path: mp4s/pilot_dominoes_2mid_J020R15_d3chairs_o1plants_tdwroom_2_0025_img.mp4\n"
     ]
    },
    {
     "name": "stderr",
     "output_type": "stream",
     "text": [
      " 80%|████████  | 242/302 [00:50<00:12,  4.64it/s]"
     ]
    },
    {
     "name": "stdout",
     "output_type": "stream",
     "text": [
      "Uploading /mindhive/nklab4/users/tom/bach_hackathon/cognitive-ai-benchmarking/stimuli/Dominoes/mp4s/pilot_dominoes_2mid_J020R15_d3chairs_o1plants_tdwroom_2_0026_img.mp4 to path: mp4s/pilot_dominoes_2mid_J020R15_d3chairs_o1plants_tdwroom_2_0026_img.mp4\n"
     ]
    },
    {
     "name": "stderr",
     "output_type": "stream",
     "text": [
      " 80%|████████  | 243/302 [00:50<00:12,  4.73it/s]"
     ]
    },
    {
     "name": "stdout",
     "output_type": "stream",
     "text": [
      "Uploading /mindhive/nklab4/users/tom/bach_hackathon/cognitive-ai-benchmarking/stimuli/Dominoes/mp4s/pilot_dominoes_2mid_J020R15_d3chairs_o1plants_tdwroom_2_0028_img.mp4 to path: mp4s/pilot_dominoes_2mid_J020R15_d3chairs_o1plants_tdwroom_2_0028_img.mp4\n",
      "Uploading /mindhive/nklab4/users/tom/bach_hackathon/cognitive-ai-benchmarking/stimuli/Dominoes/mp4s/pilot_dominoes_2mid_J020R15_d3chairs_o1plants_tdwroom_2_0029_img.mp4 to path: mp4s/pilot_dominoes_2mid_J020R15_d3chairs_o1plants_tdwroom_2_0029_img.mp4\n"
     ]
    },
    {
     "name": "stderr",
     "output_type": "stream",
     "text": [
      " 81%|████████  | 245/302 [00:51<00:12,  4.72it/s]"
     ]
    },
    {
     "name": "stdout",
     "output_type": "stream",
     "text": [
      "Uploading /mindhive/nklab4/users/tom/bach_hackathon/cognitive-ai-benchmarking/stimuli/Dominoes/mp4s/pilot_dominoes_2mid_J025R30_tdwroom_0000_img.mp4 to path: mp4s/pilot_dominoes_2mid_J025R30_tdwroom_0000_img.mp4\n"
     ]
    },
    {
     "name": "stderr",
     "output_type": "stream",
     "text": [
      " 81%|████████▏ | 246/302 [00:51<00:11,  4.72it/s]"
     ]
    },
    {
     "name": "stdout",
     "output_type": "stream",
     "text": [
      "Uploading /mindhive/nklab4/users/tom/bach_hackathon/cognitive-ai-benchmarking/stimuli/Dominoes/mp4s/pilot_dominoes_2mid_J025R30_tdwroom_0003_img.mp4 to path: mp4s/pilot_dominoes_2mid_J025R30_tdwroom_0003_img.mp4\n"
     ]
    },
    {
     "name": "stderr",
     "output_type": "stream",
     "text": [
      " 82%|████████▏ | 247/302 [00:51<00:11,  4.76it/s]"
     ]
    },
    {
     "name": "stdout",
     "output_type": "stream",
     "text": [
      "Uploading /mindhive/nklab4/users/tom/bach_hackathon/cognitive-ai-benchmarking/stimuli/Dominoes/mp4s/pilot_dominoes_2mid_J025R30_tdwroom_0005_img.mp4 to path: mp4s/pilot_dominoes_2mid_J025R30_tdwroom_0005_img.mp4\n"
     ]
    },
    {
     "name": "stderr",
     "output_type": "stream",
     "text": [
      " 82%|████████▏ | 248/302 [00:51<00:11,  4.71it/s]"
     ]
    },
    {
     "name": "stdout",
     "output_type": "stream",
     "text": [
      "Uploading /mindhive/nklab4/users/tom/bach_hackathon/cognitive-ai-benchmarking/stimuli/Dominoes/mp4s/pilot_dominoes_2mid_J025R30_tdwroom_0006_img.mp4 to path: mp4s/pilot_dominoes_2mid_J025R30_tdwroom_0006_img.mp4\n"
     ]
    },
    {
     "name": "stderr",
     "output_type": "stream",
     "text": [
      " 82%|████████▏ | 249/302 [00:51<00:11,  4.71it/s]"
     ]
    },
    {
     "name": "stdout",
     "output_type": "stream",
     "text": [
      "Uploading /mindhive/nklab4/users/tom/bach_hackathon/cognitive-ai-benchmarking/stimuli/Dominoes/mp4s/pilot_dominoes_2mid_J025R30_tdwroom_0007_img.mp4 to path: mp4s/pilot_dominoes_2mid_J025R30_tdwroom_0007_img.mp4\n"
     ]
    },
    {
     "name": "stderr",
     "output_type": "stream",
     "text": [
      " 83%|████████▎ | 250/302 [00:52<00:10,  4.76it/s]"
     ]
    },
    {
     "name": "stdout",
     "output_type": "stream",
     "text": [
      "Uploading /mindhive/nklab4/users/tom/bach_hackathon/cognitive-ai-benchmarking/stimuli/Dominoes/mp4s/pilot_dominoes_2mid_J025R30_tdwroom_0008_img.mp4 to path: mp4s/pilot_dominoes_2mid_J025R30_tdwroom_0008_img.mp4\n"
     ]
    },
    {
     "name": "stderr",
     "output_type": "stream",
     "text": [
      " 83%|████████▎ | 251/302 [00:52<00:10,  4.83it/s]"
     ]
    },
    {
     "name": "stdout",
     "output_type": "stream",
     "text": [
      "Uploading /mindhive/nklab4/users/tom/bach_hackathon/cognitive-ai-benchmarking/stimuli/Dominoes/mp4s/pilot_dominoes_2mid_J025R30_tdwroom_0012_img.mp4 to path: mp4s/pilot_dominoes_2mid_J025R30_tdwroom_0012_img.mp4\n",
      "Uploading /mindhive/nklab4/users/tom/bach_hackathon/cognitive-ai-benchmarking/stimuli/Dominoes/mp4s/pilot_dominoes_2mid_J025R30_tdwroom_0014_img.mp4 to path: mp4s/pilot_dominoes_2mid_J025R30_tdwroom_0014_img.mp4\n"
     ]
    },
    {
     "name": "stderr",
     "output_type": "stream",
     "text": [
      " 84%|████████▍ | 253/302 [00:52<00:10,  4.75it/s]"
     ]
    },
    {
     "name": "stdout",
     "output_type": "stream",
     "text": [
      "Uploading /mindhive/nklab4/users/tom/bach_hackathon/cognitive-ai-benchmarking/stimuli/Dominoes/mp4s/pilot_dominoes_2mid_J025R30_tdwroom_0015_img.mp4 to path: mp4s/pilot_dominoes_2mid_J025R30_tdwroom_0015_img.mp4\n"
     ]
    },
    {
     "name": "stderr",
     "output_type": "stream",
     "text": [
      " 84%|████████▍ | 254/302 [00:52<00:09,  4.81it/s]"
     ]
    },
    {
     "name": "stdout",
     "output_type": "stream",
     "text": [
      "Uploading /mindhive/nklab4/users/tom/bach_hackathon/cognitive-ai-benchmarking/stimuli/Dominoes/mp4s/pilot_dominoes_2mid_J025R30_tdwroom_0016_img.mp4 to path: mp4s/pilot_dominoes_2mid_J025R30_tdwroom_0016_img.mp4\n",
      "Uploading /mindhive/nklab4/users/tom/bach_hackathon/cognitive-ai-benchmarking/stimuli/Dominoes/mp4s/pilot_dominoes_2mid_J025R30_tdwroom_0018_img.mp4 to path: mp4s/pilot_dominoes_2mid_J025R30_tdwroom_0018_img.mp4\n"
     ]
    },
    {
     "name": "stderr",
     "output_type": "stream",
     "text": [
      " 85%|████████▍ | 256/302 [00:53<00:09,  4.86it/s]"
     ]
    },
    {
     "name": "stdout",
     "output_type": "stream",
     "text": [
      "Uploading /mindhive/nklab4/users/tom/bach_hackathon/cognitive-ai-benchmarking/stimuli/Dominoes/mp4s/pilot_dominoes_2mid_J025R30_tdwroom_0019_img.mp4 to path: mp4s/pilot_dominoes_2mid_J025R30_tdwroom_0019_img.mp4\n"
     ]
    },
    {
     "name": "stderr",
     "output_type": "stream",
     "text": [
      " 85%|████████▌ | 257/302 [00:53<00:09,  4.88it/s]"
     ]
    },
    {
     "name": "stdout",
     "output_type": "stream",
     "text": [
      "Uploading /mindhive/nklab4/users/tom/bach_hackathon/cognitive-ai-benchmarking/stimuli/Dominoes/mp4s/pilot_dominoes_2mid_J025R30_tdwroom_0022_img.mp4 to path: mp4s/pilot_dominoes_2mid_J025R30_tdwroom_0022_img.mp4\n"
     ]
    },
    {
     "name": "stderr",
     "output_type": "stream",
     "text": [
      " 85%|████████▌ | 258/302 [00:53<00:09,  4.88it/s]"
     ]
    },
    {
     "name": "stdout",
     "output_type": "stream",
     "text": [
      "Uploading /mindhive/nklab4/users/tom/bach_hackathon/cognitive-ai-benchmarking/stimuli/Dominoes/mp4s/pilot_dominoes_2mid_J025R30_tdwroom_0024_img.mp4 to path: mp4s/pilot_dominoes_2mid_J025R30_tdwroom_0024_img.mp4\n"
     ]
    },
    {
     "name": "stderr",
     "output_type": "stream",
     "text": [
      " 86%|████████▌ | 259/302 [00:53<00:08,  4.92it/s]"
     ]
    },
    {
     "name": "stdout",
     "output_type": "stream",
     "text": [
      "Uploading /mindhive/nklab4/users/tom/bach_hackathon/cognitive-ai-benchmarking/stimuli/Dominoes/mp4s/pilot_dominoes_2mid_J025R30_tdwroom_0027_img.mp4 to path: mp4s/pilot_dominoes_2mid_J025R30_tdwroom_0027_img.mp4\n"
     ]
    },
    {
     "name": "stderr",
     "output_type": "stream",
     "text": [
      " 86%|████████▌ | 260/302 [00:54<00:08,  4.88it/s]"
     ]
    },
    {
     "name": "stdout",
     "output_type": "stream",
     "text": [
      "Uploading /mindhive/nklab4/users/tom/bach_hackathon/cognitive-ai-benchmarking/stimuli/Dominoes/mp4s/pilot_dominoes_2mid_J025R30_tdwroom_0028_img.mp4 to path: mp4s/pilot_dominoes_2mid_J025R30_tdwroom_0028_img.mp4\n"
     ]
    },
    {
     "name": "stderr",
     "output_type": "stream",
     "text": [
      " 86%|████████▋ | 261/302 [00:54<00:08,  4.91it/s]"
     ]
    },
    {
     "name": "stdout",
     "output_type": "stream",
     "text": [
      "Uploading /mindhive/nklab4/users/tom/bach_hackathon/cognitive-ai-benchmarking/stimuli/Dominoes/mp4s/pilot_dominoes_2mid_J025R30_tdwroom_0029_img.mp4 to path: mp4s/pilot_dominoes_2mid_J025R30_tdwroom_0029_img.mp4\n",
      "Uploading /mindhive/nklab4/users/tom/bach_hackathon/cognitive-ai-benchmarking/stimuli/Dominoes/mp4s/pilot_dominoes_4midRM1_boxroom_0001_img.mp4 to path: mp4s/pilot_dominoes_4midRM1_boxroom_0001_img.mp4\n"
     ]
    },
    {
     "name": "stderr",
     "output_type": "stream",
     "text": [
      " 87%|████████▋ | 263/302 [00:54<00:08,  4.50it/s]"
     ]
    },
    {
     "name": "stdout",
     "output_type": "stream",
     "text": [
      "Uploading /mindhive/nklab4/users/tom/bach_hackathon/cognitive-ai-benchmarking/stimuli/Dominoes/mp4s/pilot_dominoes_4midRM1_boxroom_0002_img.mp4 to path: mp4s/pilot_dominoes_4midRM1_boxroom_0002_img.mp4\n"
     ]
    },
    {
     "name": "stderr",
     "output_type": "stream",
     "text": [
      " 87%|████████▋ | 264/302 [00:55<00:08,  4.39it/s]"
     ]
    },
    {
     "name": "stdout",
     "output_type": "stream",
     "text": [
      "Uploading /mindhive/nklab4/users/tom/bach_hackathon/cognitive-ai-benchmarking/stimuli/Dominoes/mp4s/pilot_dominoes_4midRM1_boxroom_0003_img.mp4 to path: mp4s/pilot_dominoes_4midRM1_boxroom_0003_img.mp4\n"
     ]
    },
    {
     "name": "stderr",
     "output_type": "stream",
     "text": [
      " 88%|████████▊ | 265/302 [00:55<00:08,  4.55it/s]"
     ]
    },
    {
     "name": "stdout",
     "output_type": "stream",
     "text": [
      "Uploading /mindhive/nklab4/users/tom/bach_hackathon/cognitive-ai-benchmarking/stimuli/Dominoes/mp4s/pilot_dominoes_4midRM1_boxroom_2_0000_img.mp4 to path: mp4s/pilot_dominoes_4midRM1_boxroom_2_0000_img.mp4\n",
      "Uploading /mindhive/nklab4/users/tom/bach_hackathon/cognitive-ai-benchmarking/stimuli/Dominoes/mp4s/pilot_dominoes_4midRM1_boxroom_2_0004_img.mp4 to path: mp4s/pilot_dominoes_4midRM1_boxroom_2_0004_img.mp4\n"
     ]
    },
    {
     "name": "stderr",
     "output_type": "stream",
     "text": [
      " 88%|████████▊ | 267/302 [00:55<00:07,  4.67it/s]"
     ]
    },
    {
     "name": "stdout",
     "output_type": "stream",
     "text": [
      "Uploading /mindhive/nklab4/users/tom/bach_hackathon/cognitive-ai-benchmarking/stimuli/Dominoes/mp4s/pilot_dominoes_4midRM1_boxroom_2_0005_img.mp4 to path: mp4s/pilot_dominoes_4midRM1_boxroom_2_0005_img.mp4\n"
     ]
    },
    {
     "name": "stderr",
     "output_type": "stream",
     "text": [
      " 89%|████████▊ | 268/302 [00:55<00:07,  4.74it/s]"
     ]
    },
    {
     "name": "stdout",
     "output_type": "stream",
     "text": [
      "Uploading /mindhive/nklab4/users/tom/bach_hackathon/cognitive-ai-benchmarking/stimuli/Dominoes/mp4s/pilot_dominoes_4midRM1_tdwroom_0000_img.mp4 to path: mp4s/pilot_dominoes_4midRM1_tdwroom_0000_img.mp4\n",
      "Uploading /mindhive/nklab4/users/tom/bach_hackathon/cognitive-ai-benchmarking/stimuli/Dominoes/mp4s/pilot_dominoes_4midRM1_tdwroom_0001_img.mp4 to path: mp4s/pilot_dominoes_4midRM1_tdwroom_0001_img.mp4\n"
     ]
    },
    {
     "name": "stderr",
     "output_type": "stream",
     "text": [
      " 89%|████████▉ | 270/302 [00:56<00:08,  3.86it/s]"
     ]
    },
    {
     "name": "stdout",
     "output_type": "stream",
     "text": [
      "Uploading /mindhive/nklab4/users/tom/bach_hackathon/cognitive-ai-benchmarking/stimuli/Dominoes/mp4s/pilot_dominoes_4midRM1_tdwroom_0003_img.mp4 to path: mp4s/pilot_dominoes_4midRM1_tdwroom_0003_img.mp4\n"
     ]
    },
    {
     "name": "stderr",
     "output_type": "stream",
     "text": [
      " 90%|████████▉ | 271/302 [00:56<00:07,  3.99it/s]"
     ]
    },
    {
     "name": "stdout",
     "output_type": "stream",
     "text": [
      "Uploading /mindhive/nklab4/users/tom/bach_hackathon/cognitive-ai-benchmarking/stimuli/Dominoes/mp4s/pilot_dominoes_4midRM1_tdwroom_0004_img.mp4 to path: mp4s/pilot_dominoes_4midRM1_tdwroom_0004_img.mp4\n"
     ]
    },
    {
     "name": "stderr",
     "output_type": "stream",
     "text": [
      " 90%|█████████ | 272/302 [00:57<00:07,  4.24it/s]"
     ]
    },
    {
     "name": "stdout",
     "output_type": "stream",
     "text": [
      "Uploading /mindhive/nklab4/users/tom/bach_hackathon/cognitive-ai-benchmarking/stimuli/Dominoes/mp4s/pilot_dominoes_4midRM1_tdwroom_0006_img.mp4 to path: mp4s/pilot_dominoes_4midRM1_tdwroom_0006_img.mp4\n"
     ]
    },
    {
     "name": "stderr",
     "output_type": "stream",
     "text": [
      " 90%|█████████ | 273/302 [00:57<00:06,  4.31it/s]"
     ]
    },
    {
     "name": "stdout",
     "output_type": "stream",
     "text": [
      "Uploading /mindhive/nklab4/users/tom/bach_hackathon/cognitive-ai-benchmarking/stimuli/Dominoes/mp4s/pilot_dominoes_4midRM1_tdwroom_2_0002_img.mp4 to path: mp4s/pilot_dominoes_4midRM1_tdwroom_2_0002_img.mp4\n"
     ]
    },
    {
     "name": "stderr",
     "output_type": "stream",
     "text": [
      " 91%|█████████ | 274/302 [00:57<00:06,  4.32it/s]"
     ]
    },
    {
     "name": "stdout",
     "output_type": "stream",
     "text": [
      "Uploading /mindhive/nklab4/users/tom/bach_hackathon/cognitive-ai-benchmarking/stimuli/Dominoes/mp4s/pilot_dominoes_4mid_boxroom_0001_img.mp4 to path: mp4s/pilot_dominoes_4mid_boxroom_0001_img.mp4\n",
      "Uploading /mindhive/nklab4/users/tom/bach_hackathon/cognitive-ai-benchmarking/stimuli/Dominoes/mp4s/pilot_dominoes_4mid_boxroom_0002_img.mp4 to path: mp4s/pilot_dominoes_4mid_boxroom_0002_img.mp4\n"
     ]
    },
    {
     "name": "stderr",
     "output_type": "stream",
     "text": [
      " 91%|█████████▏| 276/302 [00:57<00:06,  4.23it/s]"
     ]
    },
    {
     "name": "stdout",
     "output_type": "stream",
     "text": [
      "Uploading /mindhive/nklab4/users/tom/bach_hackathon/cognitive-ai-benchmarking/stimuli/Dominoes/mp4s/pilot_dominoes_4mid_boxroom_0003_img.mp4 to path: mp4s/pilot_dominoes_4mid_boxroom_0003_img.mp4\n"
     ]
    },
    {
     "name": "stderr",
     "output_type": "stream",
     "text": [
      " 92%|█████████▏| 277/302 [00:58<00:05,  4.24it/s]"
     ]
    },
    {
     "name": "stdout",
     "output_type": "stream",
     "text": [
      "Uploading /mindhive/nklab4/users/tom/bach_hackathon/cognitive-ai-benchmarking/stimuli/Dominoes/mp4s/pilot_dominoes_4mid_boxroom_0006_img.mp4 to path: mp4s/pilot_dominoes_4mid_boxroom_0006_img.mp4\n"
     ]
    },
    {
     "name": "stderr",
     "output_type": "stream",
     "text": [
      " 92%|█████████▏| 278/302 [00:58<00:05,  4.44it/s]"
     ]
    },
    {
     "name": "stdout",
     "output_type": "stream",
     "text": [
      "Uploading /mindhive/nklab4/users/tom/bach_hackathon/cognitive-ai-benchmarking/stimuli/Dominoes/mp4s/pilot_dominoes_4mid_boxroom_2_0000_img.mp4 to path: mp4s/pilot_dominoes_4mid_boxroom_2_0000_img.mp4\n",
      "Uploading /mindhive/nklab4/users/tom/bach_hackathon/cognitive-ai-benchmarking/stimuli/Dominoes/mp4s/pilot_dominoes_4mid_boxroom_2_0002_img.mp4 to path: mp4s/pilot_dominoes_4mid_boxroom_2_0002_img.mp4\n"
     ]
    },
    {
     "name": "stderr",
     "output_type": "stream",
     "text": [
      " 93%|█████████▎| 280/302 [00:58<00:05,  4.32it/s]"
     ]
    },
    {
     "name": "stdout",
     "output_type": "stream",
     "text": [
      "Uploading /mindhive/nklab4/users/tom/bach_hackathon/cognitive-ai-benchmarking/stimuli/Dominoes/mp4s/pilot_dominoes_4mid_boxroom_2_0003_img.mp4 to path: mp4s/pilot_dominoes_4mid_boxroom_2_0003_img.mp4\n"
     ]
    },
    {
     "name": "stderr",
     "output_type": "stream",
     "text": [
      " 93%|█████████▎| 281/302 [00:59<00:04,  4.48it/s]"
     ]
    },
    {
     "name": "stdout",
     "output_type": "stream",
     "text": [
      "Uploading /mindhive/nklab4/users/tom/bach_hackathon/cognitive-ai-benchmarking/stimuli/Dominoes/mp4s/pilot_dominoes_4mid_boxroom_2_0004_img.mp4 to path: mp4s/pilot_dominoes_4mid_boxroom_2_0004_img.mp4\n"
     ]
    },
    {
     "name": "stderr",
     "output_type": "stream",
     "text": [
      " 93%|█████████▎| 282/302 [00:59<00:04,  4.42it/s]"
     ]
    },
    {
     "name": "stdout",
     "output_type": "stream",
     "text": [
      "Uploading /mindhive/nklab4/users/tom/bach_hackathon/cognitive-ai-benchmarking/stimuli/Dominoes/mp4s/pilot_dominoes_4mid_tdwroom_0001_img.mp4 to path: mp4s/pilot_dominoes_4mid_tdwroom_0001_img.mp4\n",
      "Uploading /mindhive/nklab4/users/tom/bach_hackathon/cognitive-ai-benchmarking/stimuli/Dominoes/mp4s/pilot_dominoes_4mid_tdwroom_0002_img.mp4 to path: mp4s/pilot_dominoes_4mid_tdwroom_0002_img.mp4\n"
     ]
    },
    {
     "name": "stderr",
     "output_type": "stream",
     "text": [
      " 94%|█████████▍| 284/302 [00:59<00:04,  4.36it/s]"
     ]
    },
    {
     "name": "stdout",
     "output_type": "stream",
     "text": [
      "Uploading /mindhive/nklab4/users/tom/bach_hackathon/cognitive-ai-benchmarking/stimuli/Dominoes/mp4s/pilot_dominoes_4mid_tdwroom_0005_img.mp4 to path: mp4s/pilot_dominoes_4mid_tdwroom_0005_img.mp4\n"
     ]
    },
    {
     "name": "stderr",
     "output_type": "stream",
     "text": [
      " 94%|█████████▍| 285/302 [00:59<00:03,  4.47it/s]"
     ]
    },
    {
     "name": "stdout",
     "output_type": "stream",
     "text": [
      "Uploading /mindhive/nklab4/users/tom/bach_hackathon/cognitive-ai-benchmarking/stimuli/Dominoes/mp4s/pilot_dominoes_SJ020_d3chairs_o1plants_tdwroom_0002_img.mp4 to path: mp4s/pilot_dominoes_SJ020_d3chairs_o1plants_tdwroom_0002_img.mp4\n"
     ]
    },
    {
     "name": "stderr",
     "output_type": "stream",
     "text": [
      " 95%|█████████▍| 286/302 [01:00<00:03,  4.36it/s]"
     ]
    },
    {
     "name": "stdout",
     "output_type": "stream",
     "text": [
      "Uploading /mindhive/nklab4/users/tom/bach_hackathon/cognitive-ai-benchmarking/stimuli/Dominoes/mp4s/pilot_dominoes_SJ020_d3chairs_o1plants_tdwroom_0005_img.mp4 to path: mp4s/pilot_dominoes_SJ020_d3chairs_o1plants_tdwroom_0005_img.mp4\n"
     ]
    },
    {
     "name": "stderr",
     "output_type": "stream",
     "text": [
      " 95%|█████████▌| 287/302 [01:00<00:03,  4.37it/s]"
     ]
    },
    {
     "name": "stdout",
     "output_type": "stream",
     "text": [
      "Uploading /mindhive/nklab4/users/tom/bach_hackathon/cognitive-ai-benchmarking/stimuli/Dominoes/mp4s/pilot_dominoes_SJ020_d3chairs_o1plants_tdwroom_0006_img.mp4 to path: mp4s/pilot_dominoes_SJ020_d3chairs_o1plants_tdwroom_0006_img.mp4\n"
     ]
    },
    {
     "name": "stderr",
     "output_type": "stream",
     "text": [
      " 95%|█████████▌| 288/302 [01:00<00:03,  4.31it/s]"
     ]
    },
    {
     "name": "stdout",
     "output_type": "stream",
     "text": [
      "Uploading /mindhive/nklab4/users/tom/bach_hackathon/cognitive-ai-benchmarking/stimuli/Dominoes/mp4s/pilot_dominoes_SJ020_d3chairs_o1plants_tdwroom_0007_img.mp4 to path: mp4s/pilot_dominoes_SJ020_d3chairs_o1plants_tdwroom_0007_img.mp4\n"
     ]
    },
    {
     "name": "stderr",
     "output_type": "stream",
     "text": [
      " 96%|█████████▌| 289/302 [01:00<00:02,  4.50it/s]"
     ]
    },
    {
     "name": "stdout",
     "output_type": "stream",
     "text": [
      "Uploading /mindhive/nklab4/users/tom/bach_hackathon/cognitive-ai-benchmarking/stimuli/Dominoes/mp4s/pilot_dominoes_SJ020_d3chairs_o1plants_tdwroom_0008_img.mp4 to path: mp4s/pilot_dominoes_SJ020_d3chairs_o1plants_tdwroom_0008_img.mp4\n"
     ]
    },
    {
     "name": "stderr",
     "output_type": "stream",
     "text": [
      " 96%|█████████▌| 290/302 [01:01<00:02,  4.58it/s]"
     ]
    },
    {
     "name": "stdout",
     "output_type": "stream",
     "text": [
      "Uploading /mindhive/nklab4/users/tom/bach_hackathon/cognitive-ai-benchmarking/stimuli/Dominoes/mp4s/pilot_dominoes_SJ020_d3chairs_o1plants_tdwroom_0010_img.mp4 to path: mp4s/pilot_dominoes_SJ020_d3chairs_o1plants_tdwroom_0010_img.mp4\n"
     ]
    },
    {
     "name": "stderr",
     "output_type": "stream",
     "text": [
      " 96%|█████████▋| 291/302 [01:01<00:02,  4.54it/s]"
     ]
    },
    {
     "name": "stdout",
     "output_type": "stream",
     "text": [
      "Uploading /mindhive/nklab4/users/tom/bach_hackathon/cognitive-ai-benchmarking/stimuli/Dominoes/mp4s/pilot_dominoes_SJ020_d3chairs_o1plants_tdwroom_0011_img.mp4 to path: mp4s/pilot_dominoes_SJ020_d3chairs_o1plants_tdwroom_0011_img.mp4\n",
      "Uploading /mindhive/nklab4/users/tom/bach_hackathon/cognitive-ai-benchmarking/stimuli/Dominoes/mp4s/pilot_dominoes_SJ020_d3chairs_o1plants_tdwroom_0012_img.mp4 to path: mp4s/pilot_dominoes_SJ020_d3chairs_o1plants_tdwroom_0012_img.mp4\n"
     ]
    },
    {
     "name": "stderr",
     "output_type": "stream",
     "text": [
      " 97%|█████████▋| 293/302 [01:01<00:02,  4.41it/s]"
     ]
    },
    {
     "name": "stdout",
     "output_type": "stream",
     "text": [
      "Uploading /mindhive/nklab4/users/tom/bach_hackathon/cognitive-ai-benchmarking/stimuli/Dominoes/mp4s/pilot_dominoes_SJ020_d3chairs_o1plants_tdwroom_0013_img.mp4 to path: mp4s/pilot_dominoes_SJ020_d3chairs_o1plants_tdwroom_0013_img.mp4\n"
     ]
    },
    {
     "name": "stderr",
     "output_type": "stream",
     "text": [
      " 97%|█████████▋| 294/302 [01:02<00:01,  4.57it/s]"
     ]
    },
    {
     "name": "stdout",
     "output_type": "stream",
     "text": [
      "Uploading /mindhive/nklab4/users/tom/bach_hackathon/cognitive-ai-benchmarking/stimuli/Dominoes/mp4s/pilot_dominoes_SJ020_d3chairs_o1plants_tdwroom_0015_img.mp4 to path: mp4s/pilot_dominoes_SJ020_d3chairs_o1plants_tdwroom_0015_img.mp4\n",
      "Uploading /mindhive/nklab4/users/tom/bach_hackathon/cognitive-ai-benchmarking/stimuli/Dominoes/mp4s/pilot_dominoes_SJ020_d3chairs_o1plants_tdwroom_0016_img.mp4 to path: mp4s/pilot_dominoes_SJ020_d3chairs_o1plants_tdwroom_0016_img.mp4\n"
     ]
    },
    {
     "name": "stderr",
     "output_type": "stream",
     "text": [
      " 98%|█████████▊| 296/302 [01:02<00:01,  4.62it/s]"
     ]
    },
    {
     "name": "stdout",
     "output_type": "stream",
     "text": [
      "Uploading /mindhive/nklab4/users/tom/bach_hackathon/cognitive-ai-benchmarking/stimuli/Dominoes/mp4s/pilot_dominoes_SJ020_d3chairs_o1plants_tdwroom_0018_img.mp4 to path: mp4s/pilot_dominoes_SJ020_d3chairs_o1plants_tdwroom_0018_img.mp4\n"
     ]
    },
    {
     "name": "stderr",
     "output_type": "stream",
     "text": [
      " 98%|█████████▊| 297/302 [01:02<00:01,  4.70it/s]"
     ]
    },
    {
     "name": "stdout",
     "output_type": "stream",
     "text": [
      "Uploading /mindhive/nklab4/users/tom/bach_hackathon/cognitive-ai-benchmarking/stimuli/Dominoes/mp4s/pilot_dominoes_SJ020_d3chairs_o1plants_tdwroom_0021_img.mp4 to path: mp4s/pilot_dominoes_SJ020_d3chairs_o1plants_tdwroom_0021_img.mp4\n",
      "Uploading /mindhive/nklab4/users/tom/bach_hackathon/cognitive-ai-benchmarking/stimuli/Dominoes/mp4s/pilot_dominoes_SJ020_d3chairs_o1plants_tdwroom_0022_img.mp4 to path: mp4s/pilot_dominoes_SJ020_d3chairs_o1plants_tdwroom_0022_img.mp4\n"
     ]
    },
    {
     "name": "stderr",
     "output_type": "stream",
     "text": [
      " 99%|█████████▉| 299/302 [01:03<00:00,  4.75it/s]"
     ]
    },
    {
     "name": "stdout",
     "output_type": "stream",
     "text": [
      "Uploading /mindhive/nklab4/users/tom/bach_hackathon/cognitive-ai-benchmarking/stimuli/Dominoes/mp4s/pilot_dominoes_SJ020_d3chairs_o1plants_tdwroom_0023_img.mp4 to path: mp4s/pilot_dominoes_SJ020_d3chairs_o1plants_tdwroom_0023_img.mp4\n"
     ]
    },
    {
     "name": "stderr",
     "output_type": "stream",
     "text": [
      " 99%|█████████▉| 300/302 [01:03<00:00,  4.84it/s]"
     ]
    },
    {
     "name": "stdout",
     "output_type": "stream",
     "text": [
      "Uploading /mindhive/nklab4/users/tom/bach_hackathon/cognitive-ai-benchmarking/stimuli/Dominoes/mp4s/pilot_dominoes_SJ020_d3chairs_o1plants_tdwroom_0024_img.mp4 to path: mp4s/pilot_dominoes_SJ020_d3chairs_o1plants_tdwroom_0024_img.mp4\n",
      "Uploading /mindhive/nklab4/users/tom/bach_hackathon/cognitive-ai-benchmarking/stimuli/Dominoes/mp4s/pilot_dominoes_SJ020_d3chairs_o1plants_tdwroom_0028_img.mp4 to path: mp4s/pilot_dominoes_SJ020_d3chairs_o1plants_tdwroom_0028_img.mp4\n"
     ]
    },
    {
     "name": "stderr",
     "output_type": "stream",
     "text": [
      "100%|█████████▉| 301/302 [01:03<00:00,  4.86it/s]"
     ]
    },
    {
     "name": "stdout",
     "output_type": "stream",
     "text": [
      "Uploading /mindhive/nklab4/users/tom/bach_hackathon/cognitive-ai-benchmarking/stimuli/Dominoes/mp4s/pilot_dominoes_SJ020_d3chairs_o1plants_tdwroom_0029_img.mp4 to path: mp4s/pilot_dominoes_SJ020_d3chairs_o1plants_tdwroom_0029_img.mp4\n"
     ]
    },
    {
     "name": "stderr",
     "output_type": "stream",
     "text": [
      "100%|██████████| 302/302 [01:03<00:00,  4.05it/s]\n"
     ]
    }
   ],
   "source": [
    "upload_stim_to_s3(bucket, \n",
    "                  pth_to_s3_credentials, \n",
    "                  data_root, \n",
    "                  data_path, \n",
    "                  multilevel)"
   ]
  }
 ],
 "metadata": {
  "kernelspec": {
   "display_name": "Python 3",
   "language": "python",
   "name": "python3"
  },
  "language_info": {
   "codemirror_mode": {
    "name": "ipython",
    "version": 3
   },
   "file_extension": ".py",
   "mimetype": "text/x-python",
   "name": "python",
   "nbconvert_exporter": "python",
   "pygments_lexer": "ipython3",
   "version": "3.7.3"
  }
 },
 "nbformat": 4,
 "nbformat_minor": 2
}
